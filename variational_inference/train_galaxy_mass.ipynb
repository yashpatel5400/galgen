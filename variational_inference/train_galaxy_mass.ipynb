{
 "cells": [
  {
   "cell_type": "code",
   "execution_count": 2,
   "id": "ee16a47e",
   "metadata": {},
   "outputs": [],
   "source": [
    "\n",
    "import os\n",
    "import torch\n",
    "import torch.nn as nn\n",
    "import torch.nn.functional as F\n",
    "import torch.optim as optim\n",
    "from torch.utils.data import DataLoader\n",
    "from torch.utils.data import Dataset\n",
    "from torch.autograd import Variable\n",
    "from torchvision import models, transforms\n",
    "from tqdm import tqdm\n",
    "from PIL import Image\n",
    "import scipy.stats\n",
    "import matplotlib.pyplot as plt\n",
    "import seaborn as sns\n",
    "import numpy as np\n",
    "from torchvision.transforms import ToTensor\n"
   ]
  },
  {
   "cell_type": "code",
   "execution_count": 3,
   "id": "079e88ce",
   "metadata": {},
   "outputs": [
    {
     "data": {
      "text/plain": [
       "True"
      ]
     },
     "execution_count": 3,
     "metadata": {},
     "output_type": "execute_result"
    }
   ],
   "source": [
    "use_cuda = torch.cuda.is_available()\n",
    "use_cuda"
   ]
  },
  {
   "cell_type": "code",
   "execution_count": 4,
   "id": "83d29313",
   "metadata": {},
   "outputs": [],
   "source": [
    "# HYPERPARAMETER:\n",
    "train_data_dir = \"/home/aidanxue/dataset/MW_gen_train\"\n",
    "# TODO\n",
    "val_data_dir = \"/home/aidanxue/dataset/MW_test\"\n",
    "n_epoch = 500\n",
    "batch_size = 16\n",
    "lrate = 5e-3\n",
    "save_model = False\n",
    "save_dir = '/home/aidanxue/variational_inference/pyvarinf_git/pyvarinf/output'"
   ]
  },
  {
   "cell_type": "code",
   "execution_count": 5,
   "id": "81e91900",
   "metadata": {},
   "outputs": [],
   "source": [
    "class MyDataset(Dataset):\n",
    "    def __init__(self, path, transform=None):\n",
    "        self.path = path\n",
    "        self.transform = transform\n",
    "        self.images = []\n",
    "        self.labels = []\n",
    "\n",
    "        for filename in os.listdir(self.path):\n",
    "            if filename.endswith(\".png\"):\n",
    "                # name as \"rotated_{}_new_{id}_{mass}_{position}.png\"\n",
    "                if filename.split(\"_\")[0] == \"generate\":\n",
    "                    self.images.append(os.path.join(self.path, filename))\n",
    "                    self.labels.append(float(filename.split(\"_\")[3][:4]))\n",
    "                else:\n",
    "                    self.images.append(os.path.join(self.path, filename))\n",
    "                    self.labels.append(float(filename.split(\"_\")[1]))\n",
    "            elif filename.endswith(\".jpg\"):\n",
    "                # name as \"rotated_{}_new_{id}_{mass}_{position}.png\"\n",
    "                self.images.append(os.path.join(self.path, filename))\n",
    "                self.labels.append(float(filename.split(\"_\")[2]))\n",
    "\n",
    "    def __len__(self):\n",
    "        return len(self.images)\n",
    "\n",
    "    def __getitem__(self, idx):\n",
    "        img_path = self.images[idx]\n",
    "        img = Image.open(img_path).convert(\"RGB\")\n",
    "        label = self.labels[idx]\n",
    "\n",
    "        if self.transform:\n",
    "            if img.size[0] != 128:\n",
    "                img = self.transform(img)\n",
    "            else:\n",
    "                img = ToTensor()(img) \n",
    "        return img, label"
   ]
  },
  {
   "cell_type": "code",
   "execution_count": 6,
   "id": "423391b8",
   "metadata": {},
   "outputs": [
    {
     "name": "stdout",
     "output_type": "stream",
     "text": [
      "4476\n",
      "300\n"
     ]
    }
   ],
   "source": [
    "# INIT DATALOADER\n",
    "tf = transforms.Compose(\n",
    "    [\n",
    "        transforms.CenterCrop(212),\n",
    "        transforms.Resize(128, interpolation=transforms.InterpolationMode.BILINEAR),\n",
    "        transforms.ToTensor(),\n",
    "        #transforms.Normalize([0.5,0.5,0.5], [0.5,0.5,0.5]),\n",
    "    ]\n",
    ")\n",
    "tarin_dataset = MyDataset(train_data_dir,transform=tf)\n",
    "val_dataset = MyDataset(val_data_dir,transform=tf)\n",
    "train_dataloader = DataLoader(tarin_dataset, batch_size=batch_size, shuffle=True, num_workers=5)\n",
    "val_dataloader = DataLoader(val_dataset, batch_size=batch_size, shuffle=True, num_workers=5)\n",
    "print(len(tarin_dataset))\n",
    "print(len(val_dataset))\n"
   ]
  },
  {
   "cell_type": "code",
   "execution_count": 7,
   "id": "5ba3075a",
   "metadata": {},
   "outputs": [],
   "source": [
    "class Net(nn.Module):\n",
    "    def __init__(self, dropout_prob=0.5):\n",
    "        super(Net, self).__init__()\n",
    "        self.conv1 = nn.Conv2d(3, 64, kernel_size=3, padding=1)\n",
    "        self.bn1 = nn.BatchNorm2d(64)\n",
    "        self.conv2 = nn.Conv2d(64, 128, kernel_size=3, padding=1)\n",
    "        self.bn2 = nn.BatchNorm2d(128)\n",
    "        self.conv3 = nn.Conv2d(128, 256, kernel_size=3, padding=1)\n",
    "        self.bn3 = nn.BatchNorm2d(256)\n",
    "        self.conv4 = nn.Conv2d(256, 512, kernel_size=3, padding=1)\n",
    "        self.bn4 = nn.BatchNorm2d(512)\n",
    "        self.conv5 = nn.Conv2d(512, 512, kernel_size=3, padding=1)\n",
    "        self.bn5 = nn.BatchNorm2d(512)\n",
    "        self.pool = nn.MaxPool2d(kernel_size=2, stride=2)\n",
    "        self.fc1 = nn.Linear(512 * 4 * 4, 1024)\n",
    "        self.bn_fc1 = nn.BatchNorm1d(1024)\n",
    "        self.dropout1 = nn.Dropout(dropout_prob)\n",
    "        self.fc2 = nn.Linear(1024, 512)\n",
    "        self.bn_fc2 = nn.BatchNorm1d(512)\n",
    "        self.dropout2 = nn.Dropout(dropout_prob)\n",
    "        self.fc3 = nn.Linear(512, 64)\n",
    "        self.mean = nn.Linear(64, 1)\n",
    "        self.rho = nn.Linear(64, 1)\n",
    "\n",
    "    def forward(self, x):\n",
    "        x = F.relu(self.conv1(x))\n",
    "        x = self.bn1(x)\n",
    "        x = self.pool(x)\n",
    "        x = F.relu(self.conv2(x))\n",
    "        x = self.bn2(x)\n",
    "        x = self.pool(x)\n",
    "        x = F.relu(self.conv3(x))\n",
    "        x = self.bn3(x)\n",
    "        x = self.pool(x)\n",
    "        x = F.relu(self.conv4(x))\n",
    "        x = self.bn4(x)\n",
    "        x = self.pool(x)\n",
    "        x = F.relu(self.conv5(x))\n",
    "        x = self.bn5(x)\n",
    "        x = self.pool(x)\n",
    "        x = x.view(-1, 512 * 4 * 4)\n",
    "        x = F.relu(self.fc1(x))\n",
    "        x = self.bn_fc1(x)\n",
    "        x = self.dropout1(x)\n",
    "        x = F.relu(self.fc2(x))\n",
    "        x = self.bn_fc2(x)\n",
    "        x = self.dropout2(x)\n",
    "        x = self.fc3(x)\n",
    "        # use softplus to make sure the variance >= 0\n",
    "        return self.mean(x), torch.nn.functional.softplus(self.rho(x))\n",
    "    \n",
    "model = Net()\n",
    "var_model = model\n",
    "\n",
    "if use_cuda:\n",
    "    var_model = var_model.cuda()\n",
    "\n",
    "optimizer = torch.optim.Adam(var_model.parameters(), lr=lrate)"
   ]
  },
  {
   "cell_type": "code",
   "execution_count": 17,
   "id": "e9b03743",
   "metadata": {},
   "outputs": [
    {
     "name": "stdout",
     "output_type": "stream",
     "text": [
      "epoch 1\n"
     ]
    },
    {
     "name": "stderr",
     "output_type": "stream",
     "text": [
      "loss: 63.0167: 100%|██████████| 280/280 [00:10<00:00, 26.01it/s]   \n"
     ]
    },
    {
     "name": "stdout",
     "output_type": "stream",
     "text": [
      "epoch 2\n"
     ]
    },
    {
     "name": "stderr",
     "output_type": "stream",
     "text": [
      "loss: 44.4260: 100%|██████████| 280/280 [00:10<00:00, 25.56it/s]  \n"
     ]
    },
    {
     "name": "stdout",
     "output_type": "stream",
     "text": [
      "epoch 3\n"
     ]
    },
    {
     "name": "stderr",
     "output_type": "stream",
     "text": [
      "loss: 33.9983: 100%|██████████| 280/280 [00:11<00:00, 25.26it/s] \n"
     ]
    },
    {
     "name": "stdout",
     "output_type": "stream",
     "text": [
      "epoch 4\n"
     ]
    },
    {
     "name": "stderr",
     "output_type": "stream",
     "text": [
      "loss: 35.4493: 100%|██████████| 280/280 [00:11<00:00, 25.11it/s] \n"
     ]
    },
    {
     "name": "stdout",
     "output_type": "stream",
     "text": [
      "epoch 5\n"
     ]
    },
    {
     "name": "stderr",
     "output_type": "stream",
     "text": [
      "loss: 17.7318: 100%|██████████| 280/280 [00:10<00:00, 25.88it/s] \n"
     ]
    },
    {
     "name": "stdout",
     "output_type": "stream",
     "text": [
      "epoch 6\n"
     ]
    },
    {
     "name": "stderr",
     "output_type": "stream",
     "text": [
      "loss: 22.3604: 100%|██████████| 280/280 [00:11<00:00, 25.33it/s]\n"
     ]
    },
    {
     "name": "stdout",
     "output_type": "stream",
     "text": [
      "epoch 7\n"
     ]
    },
    {
     "name": "stderr",
     "output_type": "stream",
     "text": [
      "loss: 11.4070: 100%|██████████| 280/280 [00:10<00:00, 25.62it/s] \n"
     ]
    },
    {
     "name": "stdout",
     "output_type": "stream",
     "text": [
      "epoch 8\n"
     ]
    },
    {
     "name": "stderr",
     "output_type": "stream",
     "text": [
      "loss: 17.4301: 100%|██████████| 280/280 [00:11<00:00, 25.05it/s]\n"
     ]
    },
    {
     "name": "stdout",
     "output_type": "stream",
     "text": [
      "epoch 9\n"
     ]
    },
    {
     "name": "stderr",
     "output_type": "stream",
     "text": [
      "loss: 43.8648: 100%|██████████| 280/280 [00:11<00:00, 25.30it/s]\n"
     ]
    },
    {
     "name": "stdout",
     "output_type": "stream",
     "text": [
      "epoch 10\n"
     ]
    },
    {
     "name": "stderr",
     "output_type": "stream",
     "text": [
      "loss: 13.3508: 100%|██████████| 280/280 [00:10<00:00, 25.73it/s]\n"
     ]
    },
    {
     "name": "stdout",
     "output_type": "stream",
     "text": [
      "epoch 11\n"
     ]
    },
    {
     "name": "stderr",
     "output_type": "stream",
     "text": [
      "loss: 10.8482: 100%|██████████| 280/280 [00:10<00:00, 25.59it/s]\n"
     ]
    },
    {
     "name": "stdout",
     "output_type": "stream",
     "text": [
      "epoch 12\n"
     ]
    },
    {
     "name": "stderr",
     "output_type": "stream",
     "text": [
      "loss: 6.4410: 100%|██████████| 280/280 [00:11<00:00, 24.70it/s] \n"
     ]
    },
    {
     "name": "stdout",
     "output_type": "stream",
     "text": [
      "epoch 13\n"
     ]
    },
    {
     "name": "stderr",
     "output_type": "stream",
     "text": [
      "loss: 6.3934: 100%|██████████| 280/280 [00:10<00:00, 26.21it/s] \n"
     ]
    },
    {
     "name": "stdout",
     "output_type": "stream",
     "text": [
      "epoch 14\n"
     ]
    },
    {
     "name": "stderr",
     "output_type": "stream",
     "text": [
      "loss: 5.3094: 100%|██████████| 280/280 [00:10<00:00, 25.57it/s] \n"
     ]
    },
    {
     "name": "stdout",
     "output_type": "stream",
     "text": [
      "epoch 15\n"
     ]
    },
    {
     "name": "stderr",
     "output_type": "stream",
     "text": [
      "loss: 8.2166: 100%|██████████| 280/280 [00:11<00:00, 24.73it/s] \n"
     ]
    },
    {
     "name": "stdout",
     "output_type": "stream",
     "text": [
      "epoch 16\n"
     ]
    },
    {
     "name": "stderr",
     "output_type": "stream",
     "text": [
      "loss: 6.2442: 100%|██████████| 280/280 [00:11<00:00, 25.34it/s] \n"
     ]
    },
    {
     "name": "stdout",
     "output_type": "stream",
     "text": [
      "epoch 17\n"
     ]
    },
    {
     "name": "stderr",
     "output_type": "stream",
     "text": [
      "loss: 4.2981: 100%|██████████| 280/280 [00:10<00:00, 25.59it/s]\n"
     ]
    },
    {
     "name": "stdout",
     "output_type": "stream",
     "text": [
      "epoch 18\n"
     ]
    },
    {
     "name": "stderr",
     "output_type": "stream",
     "text": [
      "loss: 3.8614: 100%|██████████| 280/280 [00:11<00:00, 25.43it/s] \n"
     ]
    },
    {
     "name": "stdout",
     "output_type": "stream",
     "text": [
      "epoch 19\n"
     ]
    },
    {
     "name": "stderr",
     "output_type": "stream",
     "text": [
      "loss: 3.9685: 100%|██████████| 280/280 [00:11<00:00, 24.50it/s] \n"
     ]
    },
    {
     "name": "stdout",
     "output_type": "stream",
     "text": [
      "epoch 20\n"
     ]
    },
    {
     "name": "stderr",
     "output_type": "stream",
     "text": [
      "loss: 3.6859: 100%|██████████| 280/280 [00:11<00:00, 24.55it/s] \n"
     ]
    },
    {
     "name": "stdout",
     "output_type": "stream",
     "text": [
      "epoch 21\n"
     ]
    },
    {
     "name": "stderr",
     "output_type": "stream",
     "text": [
      "loss: 3.7629: 100%|██████████| 280/280 [00:11<00:00, 24.92it/s] \n"
     ]
    },
    {
     "name": "stdout",
     "output_type": "stream",
     "text": [
      "epoch 22\n"
     ]
    },
    {
     "name": "stderr",
     "output_type": "stream",
     "text": [
      "loss: 3.4184: 100%|██████████| 280/280 [00:11<00:00, 25.14it/s]\n"
     ]
    },
    {
     "name": "stdout",
     "output_type": "stream",
     "text": [
      "epoch 23\n"
     ]
    },
    {
     "name": "stderr",
     "output_type": "stream",
     "text": [
      "loss: 3.3869: 100%|██████████| 280/280 [00:11<00:00, 25.22it/s]\n"
     ]
    },
    {
     "name": "stdout",
     "output_type": "stream",
     "text": [
      "epoch 24\n"
     ]
    },
    {
     "name": "stderr",
     "output_type": "stream",
     "text": [
      "loss: 3.4317: 100%|██████████| 280/280 [00:12<00:00, 23.28it/s] \n"
     ]
    },
    {
     "name": "stdout",
     "output_type": "stream",
     "text": [
      "epoch 25\n"
     ]
    },
    {
     "name": "stderr",
     "output_type": "stream",
     "text": [
      "loss: 3.4679: 100%|██████████| 280/280 [00:11<00:00, 23.40it/s] \n"
     ]
    },
    {
     "name": "stdout",
     "output_type": "stream",
     "text": [
      "epoch 26\n"
     ]
    },
    {
     "name": "stderr",
     "output_type": "stream",
     "text": [
      "loss: 3.2811: 100%|██████████| 280/280 [00:11<00:00, 24.39it/s] \n"
     ]
    },
    {
     "name": "stdout",
     "output_type": "stream",
     "text": [
      "epoch 27\n"
     ]
    },
    {
     "name": "stderr",
     "output_type": "stream",
     "text": [
      "loss: 3.1757: 100%|██████████| 280/280 [00:11<00:00, 24.60it/s]\n"
     ]
    },
    {
     "name": "stdout",
     "output_type": "stream",
     "text": [
      "epoch 28\n"
     ]
    },
    {
     "name": "stderr",
     "output_type": "stream",
     "text": [
      "loss: 3.2384: 100%|██████████| 280/280 [00:11<00:00, 24.83it/s] \n"
     ]
    },
    {
     "name": "stdout",
     "output_type": "stream",
     "text": [
      "epoch 29\n"
     ]
    },
    {
     "name": "stderr",
     "output_type": "stream",
     "text": [
      "loss: 3.1585: 100%|██████████| 280/280 [00:11<00:00, 25.24it/s]\n"
     ]
    },
    {
     "name": "stdout",
     "output_type": "stream",
     "text": [
      "epoch 30\n"
     ]
    },
    {
     "name": "stderr",
     "output_type": "stream",
     "text": [
      "loss: 2.9889: 100%|██████████| 280/280 [00:11<00:00, 25.26it/s]\n"
     ]
    },
    {
     "name": "stdout",
     "output_type": "stream",
     "text": [
      "epoch 31\n"
     ]
    },
    {
     "name": "stderr",
     "output_type": "stream",
     "text": [
      "loss: 3.2160: 100%|██████████| 280/280 [00:10<00:00, 25.53it/s] \n"
     ]
    },
    {
     "name": "stdout",
     "output_type": "stream",
     "text": [
      "epoch 32\n"
     ]
    },
    {
     "name": "stderr",
     "output_type": "stream",
     "text": [
      "loss: 3.1804: 100%|██████████| 280/280 [00:11<00:00, 25.24it/s] \n"
     ]
    },
    {
     "name": "stdout",
     "output_type": "stream",
     "text": [
      "epoch 33\n"
     ]
    },
    {
     "name": "stderr",
     "output_type": "stream",
     "text": [
      "loss: 3.1739: 100%|██████████| 280/280 [00:11<00:00, 24.78it/s]\n"
     ]
    },
    {
     "name": "stdout",
     "output_type": "stream",
     "text": [
      "epoch 34\n"
     ]
    },
    {
     "name": "stderr",
     "output_type": "stream",
     "text": [
      "loss: 3.2037: 100%|██████████| 280/280 [00:11<00:00, 25.22it/s]\n"
     ]
    },
    {
     "name": "stdout",
     "output_type": "stream",
     "text": [
      "epoch 35\n"
     ]
    },
    {
     "name": "stderr",
     "output_type": "stream",
     "text": [
      "loss: 3.0926: 100%|██████████| 280/280 [00:11<00:00, 24.79it/s]\n"
     ]
    },
    {
     "name": "stdout",
     "output_type": "stream",
     "text": [
      "epoch 36\n"
     ]
    },
    {
     "name": "stderr",
     "output_type": "stream",
     "text": [
      "loss: 3.3096: 100%|██████████| 280/280 [00:11<00:00, 24.70it/s]\n"
     ]
    },
    {
     "name": "stdout",
     "output_type": "stream",
     "text": [
      "epoch 37\n"
     ]
    },
    {
     "name": "stderr",
     "output_type": "stream",
     "text": [
      "loss: 2.8416: 100%|██████████| 280/280 [00:11<00:00, 24.28it/s]\n"
     ]
    },
    {
     "name": "stdout",
     "output_type": "stream",
     "text": [
      "epoch 38\n"
     ]
    },
    {
     "name": "stderr",
     "output_type": "stream",
     "text": [
      "loss: 2.8101: 100%|██████████| 280/280 [00:11<00:00, 24.84it/s]\n"
     ]
    },
    {
     "name": "stdout",
     "output_type": "stream",
     "text": [
      "epoch 39\n"
     ]
    },
    {
     "name": "stderr",
     "output_type": "stream",
     "text": [
      "loss: 2.9443: 100%|██████████| 280/280 [00:11<00:00, 24.89it/s]\n"
     ]
    },
    {
     "name": "stdout",
     "output_type": "stream",
     "text": [
      "epoch 40\n"
     ]
    },
    {
     "name": "stderr",
     "output_type": "stream",
     "text": [
      "loss: 2.5917: 100%|██████████| 280/280 [00:10<00:00, 25.87it/s]\n"
     ]
    },
    {
     "name": "stdout",
     "output_type": "stream",
     "text": [
      "epoch 41\n"
     ]
    },
    {
     "name": "stderr",
     "output_type": "stream",
     "text": [
      "loss: 2.7977: 100%|██████████| 280/280 [00:11<00:00, 23.50it/s]\n"
     ]
    },
    {
     "name": "stdout",
     "output_type": "stream",
     "text": [
      "epoch 42\n"
     ]
    },
    {
     "name": "stderr",
     "output_type": "stream",
     "text": [
      "loss: 2.8225: 100%|██████████| 280/280 [00:11<00:00, 24.22it/s]\n"
     ]
    },
    {
     "name": "stdout",
     "output_type": "stream",
     "text": [
      "epoch 43\n"
     ]
    },
    {
     "name": "stderr",
     "output_type": "stream",
     "text": [
      "loss: 2.4983: 100%|██████████| 280/280 [00:11<00:00, 24.97it/s]\n"
     ]
    },
    {
     "name": "stdout",
     "output_type": "stream",
     "text": [
      "epoch 44\n"
     ]
    },
    {
     "name": "stderr",
     "output_type": "stream",
     "text": [
      "loss: 2.4284: 100%|██████████| 280/280 [00:11<00:00, 23.99it/s]\n"
     ]
    },
    {
     "name": "stdout",
     "output_type": "stream",
     "text": [
      "epoch 45\n"
     ]
    },
    {
     "name": "stderr",
     "output_type": "stream",
     "text": [
      "loss: 2.6645: 100%|██████████| 280/280 [00:10<00:00, 25.95it/s]\n"
     ]
    },
    {
     "name": "stdout",
     "output_type": "stream",
     "text": [
      "epoch 46\n"
     ]
    },
    {
     "name": "stderr",
     "output_type": "stream",
     "text": [
      "loss: 2.6710: 100%|██████████| 280/280 [00:11<00:00, 24.49it/s]\n"
     ]
    },
    {
     "name": "stdout",
     "output_type": "stream",
     "text": [
      "epoch 47\n"
     ]
    },
    {
     "name": "stderr",
     "output_type": "stream",
     "text": [
      "loss: 2.3943: 100%|██████████| 280/280 [00:11<00:00, 24.31it/s]\n"
     ]
    },
    {
     "name": "stdout",
     "output_type": "stream",
     "text": [
      "epoch 48\n"
     ]
    },
    {
     "name": "stderr",
     "output_type": "stream",
     "text": [
      "loss: 2.6009: 100%|██████████| 280/280 [00:10<00:00, 25.72it/s]\n"
     ]
    },
    {
     "name": "stdout",
     "output_type": "stream",
     "text": [
      "epoch 49\n"
     ]
    },
    {
     "name": "stderr",
     "output_type": "stream",
     "text": [
      "loss: 2.4122: 100%|██████████| 280/280 [00:11<00:00, 25.02it/s]\n"
     ]
    },
    {
     "name": "stdout",
     "output_type": "stream",
     "text": [
      "epoch 50\n"
     ]
    },
    {
     "name": "stderr",
     "output_type": "stream",
     "text": [
      "loss: 2.5625: 100%|██████████| 280/280 [00:11<00:00, 24.54it/s]\n"
     ]
    },
    {
     "name": "stdout",
     "output_type": "stream",
     "text": [
      "epoch 51\n"
     ]
    },
    {
     "name": "stderr",
     "output_type": "stream",
     "text": [
      "loss: 2.2314: 100%|██████████| 280/280 [00:11<00:00, 23.89it/s]\n"
     ]
    },
    {
     "name": "stdout",
     "output_type": "stream",
     "text": [
      "epoch 52\n"
     ]
    },
    {
     "name": "stderr",
     "output_type": "stream",
     "text": [
      "loss: 2.0056: 100%|██████████| 280/280 [00:11<00:00, 25.08it/s]\n"
     ]
    },
    {
     "name": "stdout",
     "output_type": "stream",
     "text": [
      "epoch 53\n"
     ]
    },
    {
     "name": "stderr",
     "output_type": "stream",
     "text": [
      "loss: 2.0100: 100%|██████████| 280/280 [00:11<00:00, 24.88it/s]\n"
     ]
    },
    {
     "name": "stdout",
     "output_type": "stream",
     "text": [
      "epoch 54\n"
     ]
    },
    {
     "name": "stderr",
     "output_type": "stream",
     "text": [
      "loss: 2.2986: 100%|██████████| 280/280 [00:10<00:00, 25.55it/s]\n"
     ]
    },
    {
     "name": "stdout",
     "output_type": "stream",
     "text": [
      "epoch 55\n"
     ]
    },
    {
     "name": "stderr",
     "output_type": "stream",
     "text": [
      "loss: 2.3276: 100%|██████████| 280/280 [00:11<00:00, 24.39it/s]\n"
     ]
    },
    {
     "name": "stdout",
     "output_type": "stream",
     "text": [
      "epoch 56\n"
     ]
    },
    {
     "name": "stderr",
     "output_type": "stream",
     "text": [
      "loss: 2.0408: 100%|██████████| 280/280 [00:11<00:00, 24.38it/s]\n"
     ]
    },
    {
     "name": "stdout",
     "output_type": "stream",
     "text": [
      "epoch 57\n"
     ]
    },
    {
     "name": "stderr",
     "output_type": "stream",
     "text": [
      "loss: 1.9012: 100%|██████████| 280/280 [00:11<00:00, 25.17it/s]\n"
     ]
    },
    {
     "name": "stdout",
     "output_type": "stream",
     "text": [
      "epoch 58\n"
     ]
    },
    {
     "name": "stderr",
     "output_type": "stream",
     "text": [
      "loss: 2.1121: 100%|██████████| 280/280 [00:11<00:00, 24.72it/s]\n"
     ]
    },
    {
     "name": "stdout",
     "output_type": "stream",
     "text": [
      "epoch 59\n"
     ]
    },
    {
     "name": "stderr",
     "output_type": "stream",
     "text": [
      "loss: 1.7976: 100%|██████████| 280/280 [00:11<00:00, 25.19it/s]\n"
     ]
    },
    {
     "name": "stdout",
     "output_type": "stream",
     "text": [
      "epoch 60\n"
     ]
    },
    {
     "name": "stderr",
     "output_type": "stream",
     "text": [
      "loss: 2.0439: 100%|██████████| 280/280 [00:11<00:00, 23.88it/s]\n"
     ]
    },
    {
     "name": "stdout",
     "output_type": "stream",
     "text": [
      "epoch 61\n"
     ]
    },
    {
     "name": "stderr",
     "output_type": "stream",
     "text": [
      "loss: 1.9323: 100%|██████████| 280/280 [00:11<00:00, 23.87it/s]\n"
     ]
    },
    {
     "name": "stdout",
     "output_type": "stream",
     "text": [
      "epoch 62\n"
     ]
    },
    {
     "name": "stderr",
     "output_type": "stream",
     "text": [
      "loss: 1.6098: 100%|██████████| 280/280 [00:10<00:00, 25.51it/s]\n"
     ]
    },
    {
     "name": "stdout",
     "output_type": "stream",
     "text": [
      "epoch 63\n"
     ]
    },
    {
     "name": "stderr",
     "output_type": "stream",
     "text": [
      "loss: 1.6480: 100%|██████████| 280/280 [00:11<00:00, 24.28it/s]\n"
     ]
    },
    {
     "name": "stdout",
     "output_type": "stream",
     "text": [
      "epoch 64\n"
     ]
    },
    {
     "name": "stderr",
     "output_type": "stream",
     "text": [
      "loss: 1.6927: 100%|██████████| 280/280 [00:11<00:00, 23.72it/s]\n"
     ]
    },
    {
     "name": "stdout",
     "output_type": "stream",
     "text": [
      "epoch 65\n"
     ]
    },
    {
     "name": "stderr",
     "output_type": "stream",
     "text": [
      "loss: 1.9386: 100%|██████████| 280/280 [00:11<00:00, 24.91it/s]\n"
     ]
    },
    {
     "name": "stdout",
     "output_type": "stream",
     "text": [
      "epoch 66\n"
     ]
    },
    {
     "name": "stderr",
     "output_type": "stream",
     "text": [
      "loss: 1.6561: 100%|██████████| 280/280 [00:11<00:00, 23.98it/s]\n"
     ]
    },
    {
     "name": "stdout",
     "output_type": "stream",
     "text": [
      "epoch 67\n"
     ]
    },
    {
     "name": "stderr",
     "output_type": "stream",
     "text": [
      "loss: 1.8561: 100%|██████████| 280/280 [00:11<00:00, 24.93it/s]\n"
     ]
    },
    {
     "name": "stdout",
     "output_type": "stream",
     "text": [
      "epoch 68\n"
     ]
    },
    {
     "name": "stderr",
     "output_type": "stream",
     "text": [
      "loss: 1.4027: 100%|██████████| 280/280 [00:11<00:00, 24.37it/s]\n"
     ]
    },
    {
     "name": "stdout",
     "output_type": "stream",
     "text": [
      "epoch 69\n"
     ]
    },
    {
     "name": "stderr",
     "output_type": "stream",
     "text": [
      "loss: 1.3426: 100%|██████████| 280/280 [00:11<00:00, 24.39it/s]\n"
     ]
    },
    {
     "name": "stdout",
     "output_type": "stream",
     "text": [
      "epoch 70\n"
     ]
    },
    {
     "name": "stderr",
     "output_type": "stream",
     "text": [
      "loss: 1.4872: 100%|██████████| 280/280 [00:11<00:00, 24.35it/s]\n"
     ]
    },
    {
     "name": "stdout",
     "output_type": "stream",
     "text": [
      "epoch 71\n"
     ]
    },
    {
     "name": "stderr",
     "output_type": "stream",
     "text": [
      "loss: 1.5727: 100%|██████████| 280/280 [00:11<00:00, 25.10it/s]\n"
     ]
    },
    {
     "name": "stdout",
     "output_type": "stream",
     "text": [
      "epoch 72\n"
     ]
    },
    {
     "name": "stderr",
     "output_type": "stream",
     "text": [
      "loss: 1.4600: 100%|██████████| 280/280 [00:11<00:00, 24.27it/s]\n"
     ]
    },
    {
     "name": "stdout",
     "output_type": "stream",
     "text": [
      "epoch 73\n"
     ]
    },
    {
     "name": "stderr",
     "output_type": "stream",
     "text": [
      "loss: 1.6411: 100%|██████████| 280/280 [00:11<00:00, 24.69it/s]\n"
     ]
    },
    {
     "name": "stdout",
     "output_type": "stream",
     "text": [
      "epoch 74\n"
     ]
    },
    {
     "name": "stderr",
     "output_type": "stream",
     "text": [
      "loss: 1.5596: 100%|██████████| 280/280 [00:11<00:00, 24.67it/s]\n"
     ]
    },
    {
     "name": "stdout",
     "output_type": "stream",
     "text": [
      "epoch 75\n"
     ]
    },
    {
     "name": "stderr",
     "output_type": "stream",
     "text": [
      "loss: 1.6399: 100%|██████████| 280/280 [00:11<00:00, 24.77it/s]\n"
     ]
    },
    {
     "name": "stdout",
     "output_type": "stream",
     "text": [
      "epoch 76\n"
     ]
    },
    {
     "name": "stderr",
     "output_type": "stream",
     "text": [
      "loss: 1.4359: 100%|██████████| 280/280 [00:11<00:00, 24.37it/s]\n"
     ]
    },
    {
     "name": "stdout",
     "output_type": "stream",
     "text": [
      "epoch 77\n"
     ]
    },
    {
     "name": "stderr",
     "output_type": "stream",
     "text": [
      "loss: 1.1229: 100%|██████████| 280/280 [00:12<00:00, 23.08it/s]\n"
     ]
    },
    {
     "name": "stdout",
     "output_type": "stream",
     "text": [
      "epoch 78\n"
     ]
    },
    {
     "name": "stderr",
     "output_type": "stream",
     "text": [
      "loss: 1.0798: 100%|██████████| 280/280 [00:11<00:00, 24.57it/s]\n"
     ]
    },
    {
     "name": "stdout",
     "output_type": "stream",
     "text": [
      "epoch 79\n"
     ]
    },
    {
     "name": "stderr",
     "output_type": "stream",
     "text": [
      "loss: 1.8141: 100%|██████████| 280/280 [00:11<00:00, 25.17it/s]\n"
     ]
    },
    {
     "name": "stdout",
     "output_type": "stream",
     "text": [
      "epoch 80\n"
     ]
    },
    {
     "name": "stderr",
     "output_type": "stream",
     "text": [
      "loss: 0.9764: 100%|██████████| 280/280 [00:11<00:00, 24.47it/s]\n"
     ]
    },
    {
     "name": "stdout",
     "output_type": "stream",
     "text": [
      "epoch 81\n"
     ]
    },
    {
     "name": "stderr",
     "output_type": "stream",
     "text": [
      "loss: 0.8431: 100%|██████████| 280/280 [00:11<00:00, 25.36it/s]\n"
     ]
    },
    {
     "name": "stdout",
     "output_type": "stream",
     "text": [
      "epoch 82\n"
     ]
    },
    {
     "name": "stderr",
     "output_type": "stream",
     "text": [
      "loss: 0.9547: 100%|██████████| 280/280 [00:11<00:00, 23.67it/s]\n"
     ]
    },
    {
     "name": "stdout",
     "output_type": "stream",
     "text": [
      "epoch 83\n"
     ]
    },
    {
     "name": "stderr",
     "output_type": "stream",
     "text": [
      "loss: 0.7267: 100%|██████████| 280/280 [00:11<00:00, 24.15it/s]\n"
     ]
    },
    {
     "name": "stdout",
     "output_type": "stream",
     "text": [
      "epoch 84\n"
     ]
    },
    {
     "name": "stderr",
     "output_type": "stream",
     "text": [
      "loss: 0.9031: 100%|██████████| 280/280 [00:11<00:00, 24.63it/s]\n"
     ]
    },
    {
     "name": "stdout",
     "output_type": "stream",
     "text": [
      "epoch 85\n"
     ]
    },
    {
     "name": "stderr",
     "output_type": "stream",
     "text": [
      "loss: 1.1857: 100%|██████████| 280/280 [00:11<00:00, 24.14it/s]\n"
     ]
    },
    {
     "name": "stdout",
     "output_type": "stream",
     "text": [
      "epoch 86\n"
     ]
    },
    {
     "name": "stderr",
     "output_type": "stream",
     "text": [
      "loss: 0.7104: 100%|██████████| 280/280 [00:11<00:00, 25.10it/s]\n"
     ]
    },
    {
     "name": "stdout",
     "output_type": "stream",
     "text": [
      "epoch 87\n"
     ]
    },
    {
     "name": "stderr",
     "output_type": "stream",
     "text": [
      "loss: 0.7779: 100%|██████████| 280/280 [00:11<00:00, 25.06it/s]\n"
     ]
    },
    {
     "name": "stdout",
     "output_type": "stream",
     "text": [
      "epoch 88\n"
     ]
    },
    {
     "name": "stderr",
     "output_type": "stream",
     "text": [
      "loss: 0.9125: 100%|██████████| 280/280 [00:11<00:00, 24.32it/s]\n"
     ]
    },
    {
     "name": "stdout",
     "output_type": "stream",
     "text": [
      "epoch 89\n"
     ]
    },
    {
     "name": "stderr",
     "output_type": "stream",
     "text": [
      "loss: 0.3134: 100%|██████████| 280/280 [00:11<00:00, 24.18it/s]\n"
     ]
    },
    {
     "name": "stdout",
     "output_type": "stream",
     "text": [
      "epoch 90\n"
     ]
    },
    {
     "name": "stderr",
     "output_type": "stream",
     "text": [
      "loss: 0.3013: 100%|██████████| 280/280 [00:11<00:00, 24.03it/s]\n"
     ]
    },
    {
     "name": "stdout",
     "output_type": "stream",
     "text": [
      "epoch 91\n"
     ]
    },
    {
     "name": "stderr",
     "output_type": "stream",
     "text": [
      "loss: 1.0006: 100%|██████████| 280/280 [00:11<00:00, 25.15it/s]\n"
     ]
    },
    {
     "name": "stdout",
     "output_type": "stream",
     "text": [
      "epoch 92\n"
     ]
    },
    {
     "name": "stderr",
     "output_type": "stream",
     "text": [
      "loss: 0.2201: 100%|██████████| 280/280 [00:11<00:00, 24.44it/s] \n"
     ]
    },
    {
     "name": "stdout",
     "output_type": "stream",
     "text": [
      "epoch 93\n"
     ]
    },
    {
     "name": "stderr",
     "output_type": "stream",
     "text": [
      "loss: 0.1283: 100%|██████████| 280/280 [00:11<00:00, 24.06it/s] \n"
     ]
    },
    {
     "name": "stdout",
     "output_type": "stream",
     "text": [
      "epoch 94\n"
     ]
    },
    {
     "name": "stderr",
     "output_type": "stream",
     "text": [
      "loss: 0.1026: 100%|██████████| 280/280 [00:11<00:00, 24.01it/s] \n"
     ]
    },
    {
     "name": "stdout",
     "output_type": "stream",
     "text": [
      "epoch 95\n"
     ]
    },
    {
     "name": "stderr",
     "output_type": "stream",
     "text": [
      "loss: -0.0575: 100%|██████████| 280/280 [00:10<00:00, 25.51it/s]\n"
     ]
    },
    {
     "name": "stdout",
     "output_type": "stream",
     "text": [
      "epoch 96\n"
     ]
    },
    {
     "name": "stderr",
     "output_type": "stream",
     "text": [
      "loss: -0.0669: 100%|██████████| 280/280 [00:11<00:00, 24.55it/s]\n"
     ]
    },
    {
     "name": "stdout",
     "output_type": "stream",
     "text": [
      "epoch 97\n"
     ]
    },
    {
     "name": "stderr",
     "output_type": "stream",
     "text": [
      "loss: -0.2796: 100%|██████████| 280/280 [00:11<00:00, 24.97it/s]\n"
     ]
    },
    {
     "name": "stdout",
     "output_type": "stream",
     "text": [
      "epoch 98\n"
     ]
    },
    {
     "name": "stderr",
     "output_type": "stream",
     "text": [
      "loss: 0.0374: 100%|██████████| 280/280 [00:11<00:00, 24.80it/s] \n"
     ]
    },
    {
     "name": "stdout",
     "output_type": "stream",
     "text": [
      "epoch 99\n"
     ]
    },
    {
     "name": "stderr",
     "output_type": "stream",
     "text": [
      "loss: 0.3444: 100%|██████████| 280/280 [00:11<00:00, 24.08it/s] \n"
     ]
    },
    {
     "name": "stdout",
     "output_type": "stream",
     "text": [
      "epoch 100\n"
     ]
    },
    {
     "name": "stderr",
     "output_type": "stream",
     "text": [
      "loss: -0.5283: 100%|██████████| 280/280 [00:11<00:00, 24.83it/s]\n"
     ]
    },
    {
     "name": "stdout",
     "output_type": "stream",
     "text": [
      "epoch 101\n"
     ]
    },
    {
     "name": "stderr",
     "output_type": "stream",
     "text": [
      "loss: -0.1486: 100%|██████████| 280/280 [00:11<00:00, 24.24it/s]\n"
     ]
    },
    {
     "name": "stdout",
     "output_type": "stream",
     "text": [
      "epoch 102\n"
     ]
    },
    {
     "name": "stderr",
     "output_type": "stream",
     "text": [
      "loss: -0.1651: 100%|██████████| 280/280 [00:11<00:00, 24.53it/s]\n"
     ]
    },
    {
     "name": "stdout",
     "output_type": "stream",
     "text": [
      "epoch 103\n"
     ]
    },
    {
     "name": "stderr",
     "output_type": "stream",
     "text": [
      "loss: -0.1111: 100%|██████████| 280/280 [00:11<00:00, 24.85it/s]\n"
     ]
    },
    {
     "name": "stdout",
     "output_type": "stream",
     "text": [
      "epoch 104\n"
     ]
    },
    {
     "name": "stderr",
     "output_type": "stream",
     "text": [
      "loss: -0.3950: 100%|██████████| 280/280 [00:11<00:00, 24.94it/s]\n"
     ]
    },
    {
     "name": "stdout",
     "output_type": "stream",
     "text": [
      "epoch 105\n"
     ]
    },
    {
     "name": "stderr",
     "output_type": "stream",
     "text": [
      "loss: -0.1607: 100%|██████████| 280/280 [00:11<00:00, 24.14it/s]\n"
     ]
    },
    {
     "name": "stdout",
     "output_type": "stream",
     "text": [
      "epoch 106\n"
     ]
    },
    {
     "name": "stderr",
     "output_type": "stream",
     "text": [
      "loss: -0.3350: 100%|██████████| 280/280 [00:11<00:00, 25.04it/s]\n"
     ]
    },
    {
     "name": "stdout",
     "output_type": "stream",
     "text": [
      "epoch 107\n"
     ]
    },
    {
     "name": "stderr",
     "output_type": "stream",
     "text": [
      "loss: -0.3809: 100%|██████████| 280/280 [00:11<00:00, 24.75it/s]\n"
     ]
    },
    {
     "name": "stdout",
     "output_type": "stream",
     "text": [
      "epoch 108\n"
     ]
    },
    {
     "name": "stderr",
     "output_type": "stream",
     "text": [
      "loss: -0.4252: 100%|██████████| 280/280 [00:11<00:00, 24.16it/s]\n"
     ]
    },
    {
     "name": "stdout",
     "output_type": "stream",
     "text": [
      "epoch 109\n"
     ]
    },
    {
     "name": "stderr",
     "output_type": "stream",
     "text": [
      "loss: -0.4110: 100%|██████████| 280/280 [00:11<00:00, 25.18it/s]\n"
     ]
    },
    {
     "name": "stdout",
     "output_type": "stream",
     "text": [
      "epoch 110\n"
     ]
    },
    {
     "name": "stderr",
     "output_type": "stream",
     "text": [
      "loss: 0.2803: 100%|██████████| 280/280 [00:11<00:00, 24.89it/s] \n"
     ]
    },
    {
     "name": "stdout",
     "output_type": "stream",
     "text": [
      "epoch 111\n"
     ]
    },
    {
     "name": "stderr",
     "output_type": "stream",
     "text": [
      "loss: -0.4969: 100%|██████████| 280/280 [00:11<00:00, 24.13it/s]\n"
     ]
    },
    {
     "name": "stdout",
     "output_type": "stream",
     "text": [
      "epoch 112\n"
     ]
    },
    {
     "name": "stderr",
     "output_type": "stream",
     "text": [
      "loss: -0.4154: 100%|██████████| 280/280 [00:11<00:00, 24.61it/s]\n"
     ]
    },
    {
     "name": "stdout",
     "output_type": "stream",
     "text": [
      "epoch 113\n"
     ]
    },
    {
     "name": "stderr",
     "output_type": "stream",
     "text": [
      "loss: -0.3582: 100%|██████████| 280/280 [00:11<00:00, 24.89it/s]\n"
     ]
    },
    {
     "name": "stdout",
     "output_type": "stream",
     "text": [
      "epoch 114\n"
     ]
    },
    {
     "name": "stderr",
     "output_type": "stream",
     "text": [
      "loss: -0.4012: 100%|██████████| 280/280 [00:11<00:00, 24.22it/s]\n"
     ]
    },
    {
     "name": "stdout",
     "output_type": "stream",
     "text": [
      "epoch 115\n"
     ]
    },
    {
     "name": "stderr",
     "output_type": "stream",
     "text": [
      "loss: -0.2186: 100%|██████████| 280/280 [00:11<00:00, 25.09it/s]\n"
     ]
    },
    {
     "name": "stdout",
     "output_type": "stream",
     "text": [
      "epoch 116\n"
     ]
    },
    {
     "name": "stderr",
     "output_type": "stream",
     "text": [
      "loss: -0.6860: 100%|██████████| 280/280 [00:11<00:00, 23.68it/s]\n"
     ]
    },
    {
     "name": "stdout",
     "output_type": "stream",
     "text": [
      "epoch 117\n"
     ]
    },
    {
     "name": "stderr",
     "output_type": "stream",
     "text": [
      "loss: 0.0418: 100%|██████████| 280/280 [00:11<00:00, 23.91it/s] \n"
     ]
    },
    {
     "name": "stdout",
     "output_type": "stream",
     "text": [
      "epoch 118\n"
     ]
    },
    {
     "name": "stderr",
     "output_type": "stream",
     "text": [
      "loss: -0.5719: 100%|██████████| 280/280 [00:11<00:00, 23.64it/s]\n"
     ]
    },
    {
     "name": "stdout",
     "output_type": "stream",
     "text": [
      "epoch 119\n"
     ]
    },
    {
     "name": "stderr",
     "output_type": "stream",
     "text": [
      "loss: -0.1278: 100%|██████████| 280/280 [00:11<00:00, 24.51it/s]\n"
     ]
    },
    {
     "name": "stdout",
     "output_type": "stream",
     "text": [
      "epoch 120\n"
     ]
    },
    {
     "name": "stderr",
     "output_type": "stream",
     "text": [
      "loss: -0.7476: 100%|██████████| 280/280 [00:11<00:00, 25.21it/s]\n"
     ]
    },
    {
     "name": "stdout",
     "output_type": "stream",
     "text": [
      "epoch 121\n"
     ]
    },
    {
     "name": "stderr",
     "output_type": "stream",
     "text": [
      "loss: -0.6295: 100%|██████████| 280/280 [00:11<00:00, 23.68it/s]\n"
     ]
    },
    {
     "name": "stdout",
     "output_type": "stream",
     "text": [
      "epoch 122\n"
     ]
    },
    {
     "name": "stderr",
     "output_type": "stream",
     "text": [
      "loss: -0.2897: 100%|██████████| 280/280 [00:11<00:00, 24.01it/s]\n"
     ]
    },
    {
     "name": "stdout",
     "output_type": "stream",
     "text": [
      "epoch 123\n"
     ]
    },
    {
     "name": "stderr",
     "output_type": "stream",
     "text": [
      "loss: -0.4786: 100%|██████████| 280/280 [00:11<00:00, 24.34it/s]\n"
     ]
    },
    {
     "name": "stdout",
     "output_type": "stream",
     "text": [
      "epoch 124\n"
     ]
    },
    {
     "name": "stderr",
     "output_type": "stream",
     "text": [
      "loss: -0.6615: 100%|██████████| 280/280 [00:11<00:00, 24.68it/s]\n"
     ]
    },
    {
     "name": "stdout",
     "output_type": "stream",
     "text": [
      "epoch 125\n"
     ]
    },
    {
     "name": "stderr",
     "output_type": "stream",
     "text": [
      "loss: -0.3482: 100%|██████████| 280/280 [00:11<00:00, 24.57it/s]\n"
     ]
    },
    {
     "name": "stdout",
     "output_type": "stream",
     "text": [
      "epoch 126\n"
     ]
    },
    {
     "name": "stderr",
     "output_type": "stream",
     "text": [
      "loss: -0.7359: 100%|██████████| 280/280 [00:11<00:00, 23.90it/s]\n"
     ]
    },
    {
     "name": "stdout",
     "output_type": "stream",
     "text": [
      "epoch 127\n"
     ]
    },
    {
     "name": "stderr",
     "output_type": "stream",
     "text": [
      "loss: -0.0641: 100%|██████████| 280/280 [00:11<00:00, 24.46it/s]\n"
     ]
    },
    {
     "name": "stdout",
     "output_type": "stream",
     "text": [
      "epoch 128\n"
     ]
    },
    {
     "name": "stderr",
     "output_type": "stream",
     "text": [
      "loss: -0.5296: 100%|██████████| 280/280 [00:11<00:00, 24.89it/s]\n"
     ]
    },
    {
     "name": "stdout",
     "output_type": "stream",
     "text": [
      "epoch 129\n"
     ]
    },
    {
     "name": "stderr",
     "output_type": "stream",
     "text": [
      "loss: -0.2576: 100%|██████████| 280/280 [00:11<00:00, 23.86it/s]\n"
     ]
    },
    {
     "name": "stdout",
     "output_type": "stream",
     "text": [
      "epoch 130\n"
     ]
    },
    {
     "name": "stderr",
     "output_type": "stream",
     "text": [
      "loss: -0.3566: 100%|██████████| 280/280 [00:11<00:00, 24.35it/s]\n"
     ]
    },
    {
     "name": "stdout",
     "output_type": "stream",
     "text": [
      "epoch 131\n"
     ]
    },
    {
     "name": "stderr",
     "output_type": "stream",
     "text": [
      "loss: -0.4446: 100%|██████████| 280/280 [00:11<00:00, 24.12it/s]\n"
     ]
    },
    {
     "name": "stdout",
     "output_type": "stream",
     "text": [
      "epoch 132\n"
     ]
    },
    {
     "name": "stderr",
     "output_type": "stream",
     "text": [
      "loss: -0.5628: 100%|██████████| 280/280 [00:10<00:00, 26.38it/s]\n"
     ]
    },
    {
     "name": "stdout",
     "output_type": "stream",
     "text": [
      "epoch 133\n"
     ]
    },
    {
     "name": "stderr",
     "output_type": "stream",
     "text": [
      "loss: -0.3669: 100%|██████████| 280/280 [00:10<00:00, 26.92it/s]\n"
     ]
    },
    {
     "name": "stdout",
     "output_type": "stream",
     "text": [
      "epoch 134\n"
     ]
    },
    {
     "name": "stderr",
     "output_type": "stream",
     "text": [
      "loss: -0.4223: 100%|██████████| 280/280 [00:10<00:00, 26.96it/s]\n"
     ]
    },
    {
     "name": "stdout",
     "output_type": "stream",
     "text": [
      "epoch 135\n"
     ]
    },
    {
     "name": "stderr",
     "output_type": "stream",
     "text": [
      "loss: -0.5661: 100%|██████████| 280/280 [00:10<00:00, 26.29it/s]\n"
     ]
    },
    {
     "name": "stdout",
     "output_type": "stream",
     "text": [
      "epoch 136\n"
     ]
    },
    {
     "name": "stderr",
     "output_type": "stream",
     "text": [
      "loss: -0.3635: 100%|██████████| 280/280 [00:10<00:00, 25.72it/s]\n"
     ]
    },
    {
     "name": "stdout",
     "output_type": "stream",
     "text": [
      "epoch 137\n"
     ]
    },
    {
     "name": "stderr",
     "output_type": "stream",
     "text": [
      "loss: -0.6119: 100%|██████████| 280/280 [00:10<00:00, 26.42it/s]\n"
     ]
    },
    {
     "name": "stdout",
     "output_type": "stream",
     "text": [
      "epoch 138\n"
     ]
    },
    {
     "name": "stderr",
     "output_type": "stream",
     "text": [
      "loss: -0.4199: 100%|██████████| 280/280 [00:10<00:00, 26.29it/s]\n"
     ]
    },
    {
     "name": "stdout",
     "output_type": "stream",
     "text": [
      "epoch 139\n"
     ]
    },
    {
     "name": "stderr",
     "output_type": "stream",
     "text": [
      "loss: -0.6520: 100%|██████████| 280/280 [00:10<00:00, 26.39it/s]\n"
     ]
    },
    {
     "name": "stdout",
     "output_type": "stream",
     "text": [
      "epoch 140\n"
     ]
    },
    {
     "name": "stderr",
     "output_type": "stream",
     "text": [
      "loss: -0.5712: 100%|██████████| 280/280 [00:10<00:00, 27.78it/s]\n"
     ]
    },
    {
     "name": "stdout",
     "output_type": "stream",
     "text": [
      "epoch 141\n"
     ]
    },
    {
     "name": "stderr",
     "output_type": "stream",
     "text": [
      "loss: -0.3443: 100%|██████████| 280/280 [00:10<00:00, 26.30it/s]\n"
     ]
    },
    {
     "name": "stdout",
     "output_type": "stream",
     "text": [
      "epoch 142\n"
     ]
    },
    {
     "name": "stderr",
     "output_type": "stream",
     "text": [
      "loss: -0.3799: 100%|██████████| 280/280 [00:10<00:00, 27.30it/s]\n"
     ]
    },
    {
     "name": "stdout",
     "output_type": "stream",
     "text": [
      "epoch 143\n"
     ]
    },
    {
     "name": "stderr",
     "output_type": "stream",
     "text": [
      "loss: -0.5742: 100%|██████████| 280/280 [00:10<00:00, 25.66it/s]\n"
     ]
    },
    {
     "name": "stdout",
     "output_type": "stream",
     "text": [
      "epoch 144\n"
     ]
    },
    {
     "name": "stderr",
     "output_type": "stream",
     "text": [
      "loss: -0.5408: 100%|██████████| 280/280 [00:10<00:00, 25.67it/s]\n"
     ]
    },
    {
     "name": "stdout",
     "output_type": "stream",
     "text": [
      "epoch 145\n"
     ]
    },
    {
     "name": "stderr",
     "output_type": "stream",
     "text": [
      "loss: -0.4250: 100%|██████████| 280/280 [00:10<00:00, 26.09it/s]\n"
     ]
    },
    {
     "name": "stdout",
     "output_type": "stream",
     "text": [
      "epoch 146\n"
     ]
    },
    {
     "name": "stderr",
     "output_type": "stream",
     "text": [
      "loss: -0.0347: 100%|██████████| 280/280 [00:10<00:00, 26.35it/s]\n"
     ]
    },
    {
     "name": "stdout",
     "output_type": "stream",
     "text": [
      "epoch 147\n"
     ]
    },
    {
     "name": "stderr",
     "output_type": "stream",
     "text": [
      "loss: -0.6075: 100%|██████████| 280/280 [00:10<00:00, 26.01it/s]\n"
     ]
    },
    {
     "name": "stdout",
     "output_type": "stream",
     "text": [
      "epoch 148\n"
     ]
    },
    {
     "name": "stderr",
     "output_type": "stream",
     "text": [
      "loss: -0.6833: 100%|██████████| 280/280 [00:10<00:00, 26.43it/s]\n"
     ]
    },
    {
     "name": "stdout",
     "output_type": "stream",
     "text": [
      "epoch 149\n"
     ]
    },
    {
     "name": "stderr",
     "output_type": "stream",
     "text": [
      "loss: -0.6720: 100%|██████████| 280/280 [00:10<00:00, 26.15it/s]\n"
     ]
    },
    {
     "name": "stdout",
     "output_type": "stream",
     "text": [
      "epoch 150\n"
     ]
    },
    {
     "name": "stderr",
     "output_type": "stream",
     "text": [
      "loss: -0.7288: 100%|██████████| 280/280 [00:10<00:00, 26.62it/s]\n"
     ]
    },
    {
     "name": "stdout",
     "output_type": "stream",
     "text": [
      "epoch 151\n"
     ]
    },
    {
     "name": "stderr",
     "output_type": "stream",
     "text": [
      "loss: -0.5873: 100%|██████████| 280/280 [00:10<00:00, 26.57it/s]\n"
     ]
    },
    {
     "name": "stdout",
     "output_type": "stream",
     "text": [
      "epoch 152\n"
     ]
    },
    {
     "name": "stderr",
     "output_type": "stream",
     "text": [
      "loss: -0.4421: 100%|██████████| 280/280 [00:10<00:00, 26.66it/s]\n"
     ]
    },
    {
     "name": "stdout",
     "output_type": "stream",
     "text": [
      "epoch 153\n"
     ]
    },
    {
     "name": "stderr",
     "output_type": "stream",
     "text": [
      "loss: -0.7240: 100%|██████████| 280/280 [00:10<00:00, 25.53it/s]\n"
     ]
    },
    {
     "name": "stdout",
     "output_type": "stream",
     "text": [
      "epoch 154\n"
     ]
    },
    {
     "name": "stderr",
     "output_type": "stream",
     "text": [
      "loss: -0.6829: 100%|██████████| 280/280 [00:10<00:00, 27.00it/s]\n"
     ]
    },
    {
     "name": "stdout",
     "output_type": "stream",
     "text": [
      "epoch 155\n"
     ]
    },
    {
     "name": "stderr",
     "output_type": "stream",
     "text": [
      "loss: -0.6342: 100%|██████████| 280/280 [00:10<00:00, 25.50it/s]\n"
     ]
    },
    {
     "name": "stdout",
     "output_type": "stream",
     "text": [
      "epoch 156\n"
     ]
    },
    {
     "name": "stderr",
     "output_type": "stream",
     "text": [
      "loss: -0.7999: 100%|██████████| 280/280 [00:10<00:00, 26.78it/s]\n"
     ]
    },
    {
     "name": "stdout",
     "output_type": "stream",
     "text": [
      "epoch 157\n"
     ]
    },
    {
     "name": "stderr",
     "output_type": "stream",
     "text": [
      "loss: -0.4185: 100%|██████████| 280/280 [00:10<00:00, 27.42it/s]\n"
     ]
    },
    {
     "name": "stdout",
     "output_type": "stream",
     "text": [
      "epoch 158\n"
     ]
    },
    {
     "name": "stderr",
     "output_type": "stream",
     "text": [
      "loss: -0.3953: 100%|██████████| 280/280 [00:10<00:00, 26.75it/s]\n"
     ]
    },
    {
     "name": "stdout",
     "output_type": "stream",
     "text": [
      "epoch 159\n"
     ]
    },
    {
     "name": "stderr",
     "output_type": "stream",
     "text": [
      "loss: -0.6233: 100%|██████████| 280/280 [00:11<00:00, 25.41it/s]\n"
     ]
    },
    {
     "name": "stdout",
     "output_type": "stream",
     "text": [
      "epoch 160\n"
     ]
    },
    {
     "name": "stderr",
     "output_type": "stream",
     "text": [
      "loss: -0.6203: 100%|██████████| 280/280 [00:10<00:00, 26.41it/s]\n"
     ]
    },
    {
     "name": "stdout",
     "output_type": "stream",
     "text": [
      "epoch 161\n"
     ]
    },
    {
     "name": "stderr",
     "output_type": "stream",
     "text": [
      "loss: -0.5820: 100%|██████████| 280/280 [00:10<00:00, 26.38it/s]\n"
     ]
    },
    {
     "name": "stdout",
     "output_type": "stream",
     "text": [
      "epoch 162\n"
     ]
    },
    {
     "name": "stderr",
     "output_type": "stream",
     "text": [
      "loss: -0.5427: 100%|██████████| 280/280 [00:11<00:00, 25.09it/s]\n"
     ]
    },
    {
     "name": "stdout",
     "output_type": "stream",
     "text": [
      "epoch 163\n"
     ]
    },
    {
     "name": "stderr",
     "output_type": "stream",
     "text": [
      "loss: -0.5763: 100%|██████████| 280/280 [00:12<00:00, 22.62it/s]\n"
     ]
    },
    {
     "name": "stdout",
     "output_type": "stream",
     "text": [
      "epoch 164\n"
     ]
    },
    {
     "name": "stderr",
     "output_type": "stream",
     "text": [
      "loss: -0.7689: 100%|██████████| 280/280 [00:11<00:00, 24.51it/s]\n"
     ]
    },
    {
     "name": "stdout",
     "output_type": "stream",
     "text": [
      "epoch 165\n"
     ]
    },
    {
     "name": "stderr",
     "output_type": "stream",
     "text": [
      "loss: -0.3391: 100%|██████████| 280/280 [00:11<00:00, 23.78it/s]\n"
     ]
    },
    {
     "name": "stdout",
     "output_type": "stream",
     "text": [
      "epoch 166\n"
     ]
    },
    {
     "name": "stderr",
     "output_type": "stream",
     "text": [
      "loss: -0.8018: 100%|██████████| 280/280 [00:11<00:00, 23.58it/s]\n"
     ]
    },
    {
     "name": "stdout",
     "output_type": "stream",
     "text": [
      "epoch 167\n"
     ]
    },
    {
     "name": "stderr",
     "output_type": "stream",
     "text": [
      "loss: -0.7532: 100%|██████████| 280/280 [00:11<00:00, 24.04it/s]\n"
     ]
    },
    {
     "name": "stdout",
     "output_type": "stream",
     "text": [
      "epoch 168\n"
     ]
    },
    {
     "name": "stderr",
     "output_type": "stream",
     "text": [
      "loss: -0.3774: 100%|██████████| 280/280 [00:11<00:00, 23.87it/s]\n"
     ]
    },
    {
     "name": "stdout",
     "output_type": "stream",
     "text": [
      "epoch 169\n"
     ]
    },
    {
     "name": "stderr",
     "output_type": "stream",
     "text": [
      "loss: -0.7056: 100%|██████████| 280/280 [00:11<00:00, 24.00it/s]\n"
     ]
    },
    {
     "name": "stdout",
     "output_type": "stream",
     "text": [
      "epoch 170\n"
     ]
    },
    {
     "name": "stderr",
     "output_type": "stream",
     "text": [
      "loss: -0.8351: 100%|██████████| 280/280 [00:11<00:00, 23.79it/s]\n"
     ]
    },
    {
     "name": "stdout",
     "output_type": "stream",
     "text": [
      "epoch 171\n"
     ]
    },
    {
     "name": "stderr",
     "output_type": "stream",
     "text": [
      "loss: -0.5551: 100%|██████████| 280/280 [00:12<00:00, 22.80it/s]\n"
     ]
    },
    {
     "name": "stdout",
     "output_type": "stream",
     "text": [
      "epoch 172\n"
     ]
    },
    {
     "name": "stderr",
     "output_type": "stream",
     "text": [
      "loss: -0.6180: 100%|██████████| 280/280 [00:11<00:00, 23.51it/s]\n"
     ]
    },
    {
     "name": "stdout",
     "output_type": "stream",
     "text": [
      "epoch 173\n"
     ]
    },
    {
     "name": "stderr",
     "output_type": "stream",
     "text": [
      "loss: -0.6648: 100%|██████████| 280/280 [00:11<00:00, 24.67it/s]\n"
     ]
    },
    {
     "name": "stdout",
     "output_type": "stream",
     "text": [
      "epoch 174\n"
     ]
    },
    {
     "name": "stderr",
     "output_type": "stream",
     "text": [
      "loss: -0.3251: 100%|██████████| 280/280 [00:12<00:00, 23.32it/s]\n"
     ]
    },
    {
     "name": "stdout",
     "output_type": "stream",
     "text": [
      "epoch 175\n"
     ]
    },
    {
     "name": "stderr",
     "output_type": "stream",
     "text": [
      "loss: -0.5499: 100%|██████████| 280/280 [00:12<00:00, 22.87it/s]\n"
     ]
    },
    {
     "name": "stdout",
     "output_type": "stream",
     "text": [
      "epoch 176\n"
     ]
    },
    {
     "name": "stderr",
     "output_type": "stream",
     "text": [
      "loss: -0.7239: 100%|██████████| 280/280 [00:11<00:00, 24.34it/s]\n"
     ]
    },
    {
     "name": "stdout",
     "output_type": "stream",
     "text": [
      "epoch 177\n"
     ]
    },
    {
     "name": "stderr",
     "output_type": "stream",
     "text": [
      "loss: -0.5425: 100%|██████████| 280/280 [00:11<00:00, 23.63it/s]\n"
     ]
    },
    {
     "name": "stdout",
     "output_type": "stream",
     "text": [
      "epoch 178\n"
     ]
    },
    {
     "name": "stderr",
     "output_type": "stream",
     "text": [
      "loss: -0.6145: 100%|██████████| 280/280 [00:12<00:00, 23.23it/s]\n"
     ]
    },
    {
     "name": "stdout",
     "output_type": "stream",
     "text": [
      "epoch 179\n"
     ]
    },
    {
     "name": "stderr",
     "output_type": "stream",
     "text": [
      "loss: -0.5511: 100%|██████████| 280/280 [00:11<00:00, 23.93it/s]\n"
     ]
    },
    {
     "name": "stdout",
     "output_type": "stream",
     "text": [
      "epoch 180\n"
     ]
    },
    {
     "name": "stderr",
     "output_type": "stream",
     "text": [
      "loss: -0.4160: 100%|██████████| 280/280 [00:12<00:00, 23.05it/s]\n"
     ]
    },
    {
     "name": "stdout",
     "output_type": "stream",
     "text": [
      "epoch 181\n"
     ]
    },
    {
     "name": "stderr",
     "output_type": "stream",
     "text": [
      "loss: 0.0285: 100%|██████████| 280/280 [00:11<00:00, 23.34it/s] \n"
     ]
    },
    {
     "name": "stdout",
     "output_type": "stream",
     "text": [
      "epoch 182\n"
     ]
    },
    {
     "name": "stderr",
     "output_type": "stream",
     "text": [
      "loss: -0.5181: 100%|██████████| 280/280 [00:11<00:00, 24.27it/s]\n"
     ]
    },
    {
     "name": "stdout",
     "output_type": "stream",
     "text": [
      "epoch 183\n"
     ]
    },
    {
     "name": "stderr",
     "output_type": "stream",
     "text": [
      "loss: -0.6915: 100%|██████████| 280/280 [00:12<00:00, 22.57it/s]\n"
     ]
    },
    {
     "name": "stdout",
     "output_type": "stream",
     "text": [
      "epoch 184\n"
     ]
    },
    {
     "name": "stderr",
     "output_type": "stream",
     "text": [
      "loss: -0.0828: 100%|██████████| 280/280 [00:11<00:00, 23.37it/s]\n"
     ]
    },
    {
     "name": "stdout",
     "output_type": "stream",
     "text": [
      "epoch 185\n"
     ]
    },
    {
     "name": "stderr",
     "output_type": "stream",
     "text": [
      "loss: -0.7860: 100%|██████████| 280/280 [00:11<00:00, 23.39it/s]\n"
     ]
    },
    {
     "name": "stdout",
     "output_type": "stream",
     "text": [
      "epoch 186\n"
     ]
    },
    {
     "name": "stderr",
     "output_type": "stream",
     "text": [
      "loss: -0.6626: 100%|██████████| 280/280 [00:12<00:00, 23.24it/s]\n"
     ]
    },
    {
     "name": "stdout",
     "output_type": "stream",
     "text": [
      "epoch 187\n"
     ]
    },
    {
     "name": "stderr",
     "output_type": "stream",
     "text": [
      "loss: 0.0053: 100%|██████████| 280/280 [00:11<00:00, 23.59it/s] \n"
     ]
    },
    {
     "name": "stdout",
     "output_type": "stream",
     "text": [
      "epoch 188\n"
     ]
    },
    {
     "name": "stderr",
     "output_type": "stream",
     "text": [
      "loss: -0.6336: 100%|██████████| 280/280 [00:11<00:00, 23.79it/s]\n"
     ]
    },
    {
     "name": "stdout",
     "output_type": "stream",
     "text": [
      "epoch 189\n"
     ]
    },
    {
     "name": "stderr",
     "output_type": "stream",
     "text": [
      "loss: -0.6456: 100%|██████████| 280/280 [00:11<00:00, 23.44it/s]\n"
     ]
    },
    {
     "name": "stdout",
     "output_type": "stream",
     "text": [
      "epoch 190\n"
     ]
    },
    {
     "name": "stderr",
     "output_type": "stream",
     "text": [
      "loss: -0.5535: 100%|██████████| 280/280 [00:12<00:00, 23.28it/s]\n"
     ]
    },
    {
     "name": "stdout",
     "output_type": "stream",
     "text": [
      "epoch 191\n"
     ]
    },
    {
     "name": "stderr",
     "output_type": "stream",
     "text": [
      "loss: -0.4748: 100%|██████████| 280/280 [00:11<00:00, 23.79it/s]\n"
     ]
    },
    {
     "name": "stdout",
     "output_type": "stream",
     "text": [
      "epoch 192\n"
     ]
    },
    {
     "name": "stderr",
     "output_type": "stream",
     "text": [
      "loss: -0.6253: 100%|██████████| 280/280 [00:11<00:00, 23.35it/s]\n"
     ]
    },
    {
     "name": "stdout",
     "output_type": "stream",
     "text": [
      "epoch 193\n"
     ]
    },
    {
     "name": "stderr",
     "output_type": "stream",
     "text": [
      "loss: -0.7056: 100%|██████████| 280/280 [00:12<00:00, 23.26it/s]\n"
     ]
    },
    {
     "name": "stdout",
     "output_type": "stream",
     "text": [
      "epoch 194\n"
     ]
    },
    {
     "name": "stderr",
     "output_type": "stream",
     "text": [
      "loss: -0.3748: 100%|██████████| 280/280 [00:11<00:00, 23.49it/s]\n"
     ]
    },
    {
     "name": "stdout",
     "output_type": "stream",
     "text": [
      "epoch 195\n"
     ]
    },
    {
     "name": "stderr",
     "output_type": "stream",
     "text": [
      "loss: -0.7270: 100%|██████████| 280/280 [00:11<00:00, 23.82it/s]\n"
     ]
    },
    {
     "name": "stdout",
     "output_type": "stream",
     "text": [
      "epoch 196\n"
     ]
    },
    {
     "name": "stderr",
     "output_type": "stream",
     "text": [
      "loss: -0.5018: 100%|██████████| 280/280 [00:11<00:00, 24.00it/s]\n"
     ]
    },
    {
     "name": "stdout",
     "output_type": "stream",
     "text": [
      "epoch 197\n"
     ]
    },
    {
     "name": "stderr",
     "output_type": "stream",
     "text": [
      "loss: -0.3874: 100%|██████████| 280/280 [00:11<00:00, 23.70it/s]\n"
     ]
    },
    {
     "name": "stdout",
     "output_type": "stream",
     "text": [
      "epoch 198\n"
     ]
    },
    {
     "name": "stderr",
     "output_type": "stream",
     "text": [
      "loss: -0.5455: 100%|██████████| 280/280 [00:11<00:00, 24.69it/s]\n"
     ]
    },
    {
     "name": "stdout",
     "output_type": "stream",
     "text": [
      "epoch 199\n"
     ]
    },
    {
     "name": "stderr",
     "output_type": "stream",
     "text": [
      "loss: -0.6439: 100%|██████████| 280/280 [00:12<00:00, 22.22it/s]\n"
     ]
    },
    {
     "name": "stdout",
     "output_type": "stream",
     "text": [
      "epoch 200\n"
     ]
    },
    {
     "name": "stderr",
     "output_type": "stream",
     "text": [
      "loss: -0.7137: 100%|██████████| 280/280 [00:12<00:00, 23.26it/s]\n"
     ]
    },
    {
     "name": "stdout",
     "output_type": "stream",
     "text": [
      "epoch 201\n"
     ]
    },
    {
     "name": "stderr",
     "output_type": "stream",
     "text": [
      "loss: -0.5133: 100%|██████████| 280/280 [00:11<00:00, 24.32it/s]\n"
     ]
    },
    {
     "name": "stdout",
     "output_type": "stream",
     "text": [
      "epoch 202\n"
     ]
    },
    {
     "name": "stderr",
     "output_type": "stream",
     "text": [
      "loss: -0.6066: 100%|██████████| 280/280 [00:12<00:00, 23.25it/s]\n"
     ]
    },
    {
     "name": "stdout",
     "output_type": "stream",
     "text": [
      "epoch 203\n"
     ]
    },
    {
     "name": "stderr",
     "output_type": "stream",
     "text": [
      "loss: -0.6812: 100%|██████████| 280/280 [00:11<00:00, 23.71it/s]\n"
     ]
    },
    {
     "name": "stdout",
     "output_type": "stream",
     "text": [
      "epoch 204\n"
     ]
    },
    {
     "name": "stderr",
     "output_type": "stream",
     "text": [
      "loss: -0.5679: 100%|██████████| 280/280 [00:11<00:00, 24.22it/s]\n"
     ]
    },
    {
     "name": "stdout",
     "output_type": "stream",
     "text": [
      "epoch 205\n"
     ]
    },
    {
     "name": "stderr",
     "output_type": "stream",
     "text": [
      "loss: -0.4475: 100%|██████████| 280/280 [00:11<00:00, 24.06it/s]\n"
     ]
    },
    {
     "name": "stdout",
     "output_type": "stream",
     "text": [
      "epoch 206\n"
     ]
    },
    {
     "name": "stderr",
     "output_type": "stream",
     "text": [
      "loss: -0.5756: 100%|██████████| 280/280 [00:12<00:00, 23.23it/s]\n"
     ]
    },
    {
     "name": "stdout",
     "output_type": "stream",
     "text": [
      "epoch 207\n"
     ]
    },
    {
     "name": "stderr",
     "output_type": "stream",
     "text": [
      "loss: -0.4233: 100%|██████████| 280/280 [00:11<00:00, 23.96it/s]\n"
     ]
    },
    {
     "name": "stdout",
     "output_type": "stream",
     "text": [
      "epoch 208\n"
     ]
    },
    {
     "name": "stderr",
     "output_type": "stream",
     "text": [
      "loss: -0.6378: 100%|██████████| 280/280 [00:12<00:00, 22.52it/s]\n"
     ]
    },
    {
     "name": "stdout",
     "output_type": "stream",
     "text": [
      "epoch 209\n"
     ]
    },
    {
     "name": "stderr",
     "output_type": "stream",
     "text": [
      "loss: 0.0774: 100%|██████████| 280/280 [00:12<00:00, 22.73it/s] \n"
     ]
    },
    {
     "name": "stdout",
     "output_type": "stream",
     "text": [
      "epoch 210\n"
     ]
    },
    {
     "name": "stderr",
     "output_type": "stream",
     "text": [
      "loss: -0.4659: 100%|██████████| 280/280 [00:11<00:00, 24.56it/s]\n"
     ]
    },
    {
     "name": "stdout",
     "output_type": "stream",
     "text": [
      "epoch 211\n"
     ]
    },
    {
     "name": "stderr",
     "output_type": "stream",
     "text": [
      "loss: 0.0003: 100%|██████████| 280/280 [00:11<00:00, 23.60it/s] \n"
     ]
    },
    {
     "name": "stdout",
     "output_type": "stream",
     "text": [
      "epoch 212\n"
     ]
    },
    {
     "name": "stderr",
     "output_type": "stream",
     "text": [
      "loss: 0.1680: 100%|██████████| 280/280 [00:11<00:00, 23.87it/s] \n"
     ]
    },
    {
     "name": "stdout",
     "output_type": "stream",
     "text": [
      "epoch 213\n"
     ]
    },
    {
     "name": "stderr",
     "output_type": "stream",
     "text": [
      "loss: -0.4754: 100%|██████████| 280/280 [00:11<00:00, 24.30it/s]\n"
     ]
    },
    {
     "name": "stdout",
     "output_type": "stream",
     "text": [
      "epoch 214\n"
     ]
    },
    {
     "name": "stderr",
     "output_type": "stream",
     "text": [
      "loss: -0.5251: 100%|██████████| 280/280 [00:12<00:00, 23.30it/s]\n"
     ]
    },
    {
     "name": "stdout",
     "output_type": "stream",
     "text": [
      "epoch 215\n"
     ]
    },
    {
     "name": "stderr",
     "output_type": "stream",
     "text": [
      "loss: -0.6742: 100%|██████████| 280/280 [00:11<00:00, 23.43it/s]\n"
     ]
    },
    {
     "name": "stdout",
     "output_type": "stream",
     "text": [
      "epoch 216\n"
     ]
    },
    {
     "name": "stderr",
     "output_type": "stream",
     "text": [
      "loss: -0.4391: 100%|██████████| 280/280 [00:11<00:00, 23.57it/s]\n"
     ]
    },
    {
     "name": "stdout",
     "output_type": "stream",
     "text": [
      "epoch 217\n"
     ]
    },
    {
     "name": "stderr",
     "output_type": "stream",
     "text": [
      "loss: -0.6551: 100%|██████████| 280/280 [00:12<00:00, 23.20it/s]\n"
     ]
    },
    {
     "name": "stdout",
     "output_type": "stream",
     "text": [
      "epoch 218\n"
     ]
    },
    {
     "name": "stderr",
     "output_type": "stream",
     "text": [
      "loss: -0.3010: 100%|██████████| 280/280 [00:12<00:00, 22.85it/s]\n"
     ]
    },
    {
     "name": "stdout",
     "output_type": "stream",
     "text": [
      "epoch 219\n"
     ]
    },
    {
     "name": "stderr",
     "output_type": "stream",
     "text": [
      "loss: -0.1732: 100%|██████████| 280/280 [00:11<00:00, 23.80it/s]\n"
     ]
    },
    {
     "name": "stdout",
     "output_type": "stream",
     "text": [
      "epoch 220\n"
     ]
    },
    {
     "name": "stderr",
     "output_type": "stream",
     "text": [
      "loss: -0.0907: 100%|██████████| 280/280 [00:12<00:00, 23.03it/s]\n"
     ]
    },
    {
     "name": "stdout",
     "output_type": "stream",
     "text": [
      "epoch 221\n"
     ]
    },
    {
     "name": "stderr",
     "output_type": "stream",
     "text": [
      "loss: -0.2948: 100%|██████████| 280/280 [00:11<00:00, 24.13it/s]\n"
     ]
    },
    {
     "name": "stdout",
     "output_type": "stream",
     "text": [
      "epoch 222\n"
     ]
    },
    {
     "name": "stderr",
     "output_type": "stream",
     "text": [
      "loss: -0.3885: 100%|██████████| 280/280 [00:11<00:00, 23.59it/s]\n"
     ]
    },
    {
     "name": "stdout",
     "output_type": "stream",
     "text": [
      "epoch 223\n"
     ]
    },
    {
     "name": "stderr",
     "output_type": "stream",
     "text": [
      "loss: -0.4779: 100%|██████████| 280/280 [00:12<00:00, 22.98it/s]\n"
     ]
    },
    {
     "name": "stdout",
     "output_type": "stream",
     "text": [
      "epoch 224\n"
     ]
    },
    {
     "name": "stderr",
     "output_type": "stream",
     "text": [
      "loss: -0.3064: 100%|██████████| 280/280 [00:11<00:00, 24.54it/s]\n"
     ]
    },
    {
     "name": "stdout",
     "output_type": "stream",
     "text": [
      "epoch 225\n"
     ]
    },
    {
     "name": "stderr",
     "output_type": "stream",
     "text": [
      "loss: -0.2602: 100%|██████████| 280/280 [00:11<00:00, 23.91it/s]\n"
     ]
    },
    {
     "name": "stdout",
     "output_type": "stream",
     "text": [
      "epoch 226\n"
     ]
    },
    {
     "name": "stderr",
     "output_type": "stream",
     "text": [
      "loss: -0.5782: 100%|██████████| 280/280 [00:12<00:00, 22.84it/s]\n"
     ]
    },
    {
     "name": "stdout",
     "output_type": "stream",
     "text": [
      "epoch 227\n"
     ]
    },
    {
     "name": "stderr",
     "output_type": "stream",
     "text": [
      "loss: -0.4573: 100%|██████████| 280/280 [00:11<00:00, 24.31it/s]\n"
     ]
    },
    {
     "name": "stdout",
     "output_type": "stream",
     "text": [
      "epoch 228\n"
     ]
    },
    {
     "name": "stderr",
     "output_type": "stream",
     "text": [
      "loss: 0.1674: 100%|██████████| 280/280 [00:12<00:00, 23.20it/s] \n"
     ]
    },
    {
     "name": "stdout",
     "output_type": "stream",
     "text": [
      "epoch 229\n"
     ]
    },
    {
     "name": "stderr",
     "output_type": "stream",
     "text": [
      "loss: -0.6004: 100%|██████████| 280/280 [00:11<00:00, 23.78it/s]\n"
     ]
    },
    {
     "name": "stdout",
     "output_type": "stream",
     "text": [
      "epoch 230\n"
     ]
    },
    {
     "name": "stderr",
     "output_type": "stream",
     "text": [
      "loss: -0.6352: 100%|██████████| 280/280 [00:11<00:00, 23.78it/s]\n"
     ]
    },
    {
     "name": "stdout",
     "output_type": "stream",
     "text": [
      "epoch 231\n"
     ]
    },
    {
     "name": "stderr",
     "output_type": "stream",
     "text": [
      "loss: -0.5847: 100%|██████████| 280/280 [00:12<00:00, 23.06it/s]\n"
     ]
    },
    {
     "name": "stdout",
     "output_type": "stream",
     "text": [
      "epoch 232\n"
     ]
    },
    {
     "name": "stderr",
     "output_type": "stream",
     "text": [
      "loss: -0.4002: 100%|██████████| 280/280 [00:11<00:00, 23.38it/s]\n"
     ]
    },
    {
     "name": "stdout",
     "output_type": "stream",
     "text": [
      "epoch 233\n"
     ]
    },
    {
     "name": "stderr",
     "output_type": "stream",
     "text": [
      "loss: -0.6656: 100%|██████████| 280/280 [00:11<00:00, 23.77it/s]\n"
     ]
    },
    {
     "name": "stdout",
     "output_type": "stream",
     "text": [
      "epoch 234\n"
     ]
    },
    {
     "name": "stderr",
     "output_type": "stream",
     "text": [
      "loss: -0.7506: 100%|██████████| 280/280 [00:11<00:00, 23.64it/s]\n"
     ]
    },
    {
     "name": "stdout",
     "output_type": "stream",
     "text": [
      "epoch 235\n"
     ]
    },
    {
     "name": "stderr",
     "output_type": "stream",
     "text": [
      "loss: -0.4753: 100%|██████████| 280/280 [00:12<00:00, 23.29it/s]\n"
     ]
    },
    {
     "name": "stdout",
     "output_type": "stream",
     "text": [
      "epoch 236\n"
     ]
    },
    {
     "name": "stderr",
     "output_type": "stream",
     "text": [
      "loss: -0.4038: 100%|██████████| 280/280 [00:11<00:00, 24.35it/s]\n"
     ]
    },
    {
     "name": "stdout",
     "output_type": "stream",
     "text": [
      "epoch 237\n"
     ]
    },
    {
     "name": "stderr",
     "output_type": "stream",
     "text": [
      "loss: -0.5523: 100%|██████████| 280/280 [00:12<00:00, 23.26it/s]\n"
     ]
    },
    {
     "name": "stdout",
     "output_type": "stream",
     "text": [
      "epoch 238\n"
     ]
    },
    {
     "name": "stderr",
     "output_type": "stream",
     "text": [
      "loss: 0.1852: 100%|██████████| 280/280 [00:12<00:00, 22.61it/s] \n"
     ]
    },
    {
     "name": "stdout",
     "output_type": "stream",
     "text": [
      "epoch 239\n"
     ]
    },
    {
     "name": "stderr",
     "output_type": "stream",
     "text": [
      "loss: -0.4829: 100%|██████████| 280/280 [00:11<00:00, 23.83it/s]\n"
     ]
    },
    {
     "name": "stdout",
     "output_type": "stream",
     "text": [
      "epoch 240\n"
     ]
    },
    {
     "name": "stderr",
     "output_type": "stream",
     "text": [
      "loss: -0.5808: 100%|██████████| 280/280 [00:11<00:00, 23.36it/s]\n"
     ]
    },
    {
     "name": "stdout",
     "output_type": "stream",
     "text": [
      "epoch 241\n"
     ]
    },
    {
     "name": "stderr",
     "output_type": "stream",
     "text": [
      "loss: -0.5725: 100%|██████████| 280/280 [00:11<00:00, 24.18it/s]\n"
     ]
    },
    {
     "name": "stdout",
     "output_type": "stream",
     "text": [
      "epoch 242\n"
     ]
    },
    {
     "name": "stderr",
     "output_type": "stream",
     "text": [
      "loss: -0.7195: 100%|██████████| 280/280 [00:11<00:00, 23.98it/s]\n"
     ]
    },
    {
     "name": "stdout",
     "output_type": "stream",
     "text": [
      "epoch 243\n"
     ]
    },
    {
     "name": "stderr",
     "output_type": "stream",
     "text": [
      "loss: -0.6860: 100%|██████████| 280/280 [00:12<00:00, 22.95it/s]\n"
     ]
    },
    {
     "name": "stdout",
     "output_type": "stream",
     "text": [
      "epoch 244\n"
     ]
    },
    {
     "name": "stderr",
     "output_type": "stream",
     "text": [
      "loss: -0.7707: 100%|██████████| 280/280 [00:11<00:00, 23.89it/s]\n"
     ]
    },
    {
     "name": "stdout",
     "output_type": "stream",
     "text": [
      "epoch 245\n"
     ]
    },
    {
     "name": "stderr",
     "output_type": "stream",
     "text": [
      "loss: -0.8165: 100%|██████████| 280/280 [00:11<00:00, 23.35it/s]\n"
     ]
    },
    {
     "name": "stdout",
     "output_type": "stream",
     "text": [
      "epoch 246\n"
     ]
    },
    {
     "name": "stderr",
     "output_type": "stream",
     "text": [
      "loss: -0.8459: 100%|██████████| 280/280 [00:12<00:00, 22.97it/s]\n"
     ]
    },
    {
     "name": "stdout",
     "output_type": "stream",
     "text": [
      "epoch 247\n"
     ]
    },
    {
     "name": "stderr",
     "output_type": "stream",
     "text": [
      "loss: -0.7557: 100%|██████████| 280/280 [00:11<00:00, 23.66it/s]\n"
     ]
    },
    {
     "name": "stdout",
     "output_type": "stream",
     "text": [
      "epoch 248\n"
     ]
    },
    {
     "name": "stderr",
     "output_type": "stream",
     "text": [
      "loss: -0.5991: 100%|██████████| 280/280 [00:12<00:00, 23.23it/s]\n"
     ]
    },
    {
     "name": "stdout",
     "output_type": "stream",
     "text": [
      "epoch 249\n"
     ]
    },
    {
     "name": "stderr",
     "output_type": "stream",
     "text": [
      "loss: -0.3423: 100%|██████████| 280/280 [00:12<00:00, 23.33it/s]\n"
     ]
    },
    {
     "name": "stdout",
     "output_type": "stream",
     "text": [
      "epoch 250\n"
     ]
    },
    {
     "name": "stderr",
     "output_type": "stream",
     "text": [
      "loss: -0.7481: 100%|██████████| 280/280 [00:12<00:00, 23.10it/s]\n"
     ]
    },
    {
     "name": "stdout",
     "output_type": "stream",
     "text": [
      "epoch 251\n"
     ]
    },
    {
     "name": "stderr",
     "output_type": "stream",
     "text": [
      "loss: -0.6359: 100%|██████████| 280/280 [00:12<00:00, 23.05it/s]\n"
     ]
    },
    {
     "name": "stdout",
     "output_type": "stream",
     "text": [
      "epoch 252\n"
     ]
    },
    {
     "name": "stderr",
     "output_type": "stream",
     "text": [
      "loss: -0.7139: 100%|██████████| 280/280 [00:12<00:00, 22.37it/s]\n"
     ]
    },
    {
     "name": "stdout",
     "output_type": "stream",
     "text": [
      "epoch 253\n"
     ]
    },
    {
     "name": "stderr",
     "output_type": "stream",
     "text": [
      "loss: -0.7284: 100%|██████████| 280/280 [00:11<00:00, 23.59it/s]\n"
     ]
    },
    {
     "name": "stdout",
     "output_type": "stream",
     "text": [
      "epoch 254\n"
     ]
    },
    {
     "name": "stderr",
     "output_type": "stream",
     "text": [
      "loss: -0.7370: 100%|██████████| 280/280 [00:12<00:00, 22.67it/s]\n"
     ]
    },
    {
     "name": "stdout",
     "output_type": "stream",
     "text": [
      "epoch 255\n"
     ]
    },
    {
     "name": "stderr",
     "output_type": "stream",
     "text": [
      "loss: -0.4950: 100%|██████████| 280/280 [00:12<00:00, 23.07it/s]\n"
     ]
    },
    {
     "name": "stdout",
     "output_type": "stream",
     "text": [
      "epoch 256\n"
     ]
    },
    {
     "name": "stderr",
     "output_type": "stream",
     "text": [
      "loss: -0.1572: 100%|██████████| 280/280 [00:11<00:00, 23.88it/s]\n"
     ]
    },
    {
     "name": "stdout",
     "output_type": "stream",
     "text": [
      "epoch 257\n"
     ]
    },
    {
     "name": "stderr",
     "output_type": "stream",
     "text": [
      "loss: -0.8187: 100%|██████████| 280/280 [00:12<00:00, 22.68it/s]\n"
     ]
    },
    {
     "name": "stdout",
     "output_type": "stream",
     "text": [
      "epoch 258\n"
     ]
    },
    {
     "name": "stderr",
     "output_type": "stream",
     "text": [
      "loss: -0.8633: 100%|██████████| 280/280 [00:11<00:00, 23.80it/s]\n"
     ]
    },
    {
     "name": "stdout",
     "output_type": "stream",
     "text": [
      "epoch 259\n"
     ]
    },
    {
     "name": "stderr",
     "output_type": "stream",
     "text": [
      "loss: -0.8310: 100%|██████████| 280/280 [00:11<00:00, 23.40it/s]\n"
     ]
    },
    {
     "name": "stdout",
     "output_type": "stream",
     "text": [
      "epoch 260\n"
     ]
    },
    {
     "name": "stderr",
     "output_type": "stream",
     "text": [
      "loss: -0.4145: 100%|██████████| 280/280 [00:12<00:00, 23.21it/s]\n"
     ]
    },
    {
     "name": "stdout",
     "output_type": "stream",
     "text": [
      "epoch 261\n"
     ]
    },
    {
     "name": "stderr",
     "output_type": "stream",
     "text": [
      "loss: -0.6161: 100%|██████████| 280/280 [00:11<00:00, 23.50it/s]\n"
     ]
    },
    {
     "name": "stdout",
     "output_type": "stream",
     "text": [
      "epoch 262\n"
     ]
    },
    {
     "name": "stderr",
     "output_type": "stream",
     "text": [
      "loss: -0.7356: 100%|██████████| 280/280 [00:11<00:00, 23.73it/s]\n"
     ]
    },
    {
     "name": "stdout",
     "output_type": "stream",
     "text": [
      "epoch 263\n"
     ]
    },
    {
     "name": "stderr",
     "output_type": "stream",
     "text": [
      "loss: -0.7989: 100%|██████████| 280/280 [00:12<00:00, 22.91it/s]\n"
     ]
    },
    {
     "name": "stdout",
     "output_type": "stream",
     "text": [
      "epoch 264\n"
     ]
    },
    {
     "name": "stderr",
     "output_type": "stream",
     "text": [
      "loss: -0.7542: 100%|██████████| 280/280 [00:12<00:00, 23.20it/s]\n"
     ]
    },
    {
     "name": "stdout",
     "output_type": "stream",
     "text": [
      "epoch 265\n"
     ]
    },
    {
     "name": "stderr",
     "output_type": "stream",
     "text": [
      "loss: -0.7014: 100%|██████████| 280/280 [00:11<00:00, 23.88it/s]\n"
     ]
    },
    {
     "name": "stdout",
     "output_type": "stream",
     "text": [
      "epoch 266\n"
     ]
    },
    {
     "name": "stderr",
     "output_type": "stream",
     "text": [
      "loss: -0.2185: 100%|██████████| 280/280 [00:11<00:00, 23.76it/s]\n"
     ]
    },
    {
     "name": "stdout",
     "output_type": "stream",
     "text": [
      "epoch 267\n"
     ]
    },
    {
     "name": "stderr",
     "output_type": "stream",
     "text": [
      "loss: -0.8197: 100%|██████████| 280/280 [00:12<00:00, 22.70it/s]\n"
     ]
    },
    {
     "name": "stdout",
     "output_type": "stream",
     "text": [
      "epoch 268\n"
     ]
    },
    {
     "name": "stderr",
     "output_type": "stream",
     "text": [
      "loss: -0.6791: 100%|██████████| 280/280 [00:12<00:00, 22.98it/s]\n"
     ]
    },
    {
     "name": "stdout",
     "output_type": "stream",
     "text": [
      "epoch 269\n"
     ]
    },
    {
     "name": "stderr",
     "output_type": "stream",
     "text": [
      "loss: -0.6089: 100%|██████████| 280/280 [00:11<00:00, 24.04it/s]\n"
     ]
    },
    {
     "name": "stdout",
     "output_type": "stream",
     "text": [
      "epoch 270\n"
     ]
    },
    {
     "name": "stderr",
     "output_type": "stream",
     "text": [
      "loss: -0.7123: 100%|██████████| 280/280 [00:12<00:00, 23.29it/s]\n"
     ]
    },
    {
     "name": "stdout",
     "output_type": "stream",
     "text": [
      "epoch 271\n"
     ]
    },
    {
     "name": "stderr",
     "output_type": "stream",
     "text": [
      "loss: -0.7469: 100%|██████████| 280/280 [00:11<00:00, 23.68it/s]\n"
     ]
    },
    {
     "name": "stdout",
     "output_type": "stream",
     "text": [
      "epoch 272\n"
     ]
    },
    {
     "name": "stderr",
     "output_type": "stream",
     "text": [
      "loss: -0.8516: 100%|██████████| 280/280 [00:12<00:00, 22.53it/s]\n"
     ]
    },
    {
     "name": "stdout",
     "output_type": "stream",
     "text": [
      "epoch 273\n"
     ]
    },
    {
     "name": "stderr",
     "output_type": "stream",
     "text": [
      "loss: -0.5994: 100%|██████████| 280/280 [00:11<00:00, 24.22it/s]\n"
     ]
    },
    {
     "name": "stdout",
     "output_type": "stream",
     "text": [
      "epoch 274\n"
     ]
    },
    {
     "name": "stderr",
     "output_type": "stream",
     "text": [
      "loss: -0.7353: 100%|██████████| 280/280 [00:11<00:00, 23.72it/s]\n"
     ]
    },
    {
     "name": "stdout",
     "output_type": "stream",
     "text": [
      "epoch 275\n"
     ]
    },
    {
     "name": "stderr",
     "output_type": "stream",
     "text": [
      "loss: -1.0788: 100%|██████████| 280/280 [00:11<00:00, 23.70it/s]\n"
     ]
    },
    {
     "name": "stdout",
     "output_type": "stream",
     "text": [
      "epoch 276\n"
     ]
    },
    {
     "name": "stderr",
     "output_type": "stream",
     "text": [
      "loss: -0.8053: 100%|██████████| 280/280 [00:11<00:00, 23.82it/s]\n"
     ]
    },
    {
     "name": "stdout",
     "output_type": "stream",
     "text": [
      "epoch 277\n"
     ]
    },
    {
     "name": "stderr",
     "output_type": "stream",
     "text": [
      "loss: -0.5419: 100%|██████████| 280/280 [00:12<00:00, 22.94it/s]\n"
     ]
    },
    {
     "name": "stdout",
     "output_type": "stream",
     "text": [
      "epoch 278\n"
     ]
    },
    {
     "name": "stderr",
     "output_type": "stream",
     "text": [
      "loss: -0.7127: 100%|██████████| 280/280 [00:11<00:00, 24.32it/s]\n"
     ]
    },
    {
     "name": "stdout",
     "output_type": "stream",
     "text": [
      "epoch 279\n"
     ]
    },
    {
     "name": "stderr",
     "output_type": "stream",
     "text": [
      "loss: -0.5051: 100%|██████████| 280/280 [00:11<00:00, 24.20it/s]\n"
     ]
    },
    {
     "name": "stdout",
     "output_type": "stream",
     "text": [
      "epoch 280\n"
     ]
    },
    {
     "name": "stderr",
     "output_type": "stream",
     "text": [
      "loss: -0.7359: 100%|██████████| 280/280 [00:11<00:00, 23.60it/s]\n"
     ]
    },
    {
     "name": "stdout",
     "output_type": "stream",
     "text": [
      "epoch 281\n"
     ]
    },
    {
     "name": "stderr",
     "output_type": "stream",
     "text": [
      "loss: -0.9976: 100%|██████████| 280/280 [00:11<00:00, 23.45it/s]\n"
     ]
    },
    {
     "name": "stdout",
     "output_type": "stream",
     "text": [
      "epoch 282\n"
     ]
    },
    {
     "name": "stderr",
     "output_type": "stream",
     "text": [
      "loss: -0.5105: 100%|██████████| 280/280 [00:11<00:00, 23.94it/s]\n"
     ]
    },
    {
     "name": "stdout",
     "output_type": "stream",
     "text": [
      "epoch 283\n"
     ]
    },
    {
     "name": "stderr",
     "output_type": "stream",
     "text": [
      "loss: 0.2191: 100%|██████████| 280/280 [00:11<00:00, 23.69it/s] \n"
     ]
    },
    {
     "name": "stdout",
     "output_type": "stream",
     "text": [
      "epoch 284\n"
     ]
    },
    {
     "name": "stderr",
     "output_type": "stream",
     "text": [
      "loss: 0.3463: 100%|██████████| 280/280 [00:12<00:00, 22.85it/s] \n"
     ]
    },
    {
     "name": "stdout",
     "output_type": "stream",
     "text": [
      "epoch 285\n"
     ]
    },
    {
     "name": "stderr",
     "output_type": "stream",
     "text": [
      "loss: -0.7658: 100%|██████████| 280/280 [00:11<00:00, 24.16it/s]\n"
     ]
    },
    {
     "name": "stdout",
     "output_type": "stream",
     "text": [
      "epoch 286\n"
     ]
    },
    {
     "name": "stderr",
     "output_type": "stream",
     "text": [
      "loss: -0.2804: 100%|██████████| 280/280 [00:11<00:00, 23.76it/s]\n"
     ]
    },
    {
     "name": "stdout",
     "output_type": "stream",
     "text": [
      "epoch 287\n"
     ]
    },
    {
     "name": "stderr",
     "output_type": "stream",
     "text": [
      "loss: -0.6759: 100%|██████████| 280/280 [00:11<00:00, 23.56it/s]\n"
     ]
    },
    {
     "name": "stdout",
     "output_type": "stream",
     "text": [
      "epoch 288\n"
     ]
    },
    {
     "name": "stderr",
     "output_type": "stream",
     "text": [
      "loss: -0.6029: 100%|██████████| 280/280 [00:11<00:00, 23.97it/s]\n"
     ]
    },
    {
     "name": "stdout",
     "output_type": "stream",
     "text": [
      "epoch 289\n"
     ]
    },
    {
     "name": "stderr",
     "output_type": "stream",
     "text": [
      "loss: -0.4896: 100%|██████████| 280/280 [00:11<00:00, 23.48it/s]\n"
     ]
    },
    {
     "name": "stdout",
     "output_type": "stream",
     "text": [
      "epoch 290\n"
     ]
    },
    {
     "name": "stderr",
     "output_type": "stream",
     "text": [
      "loss: -0.8995: 100%|██████████| 280/280 [00:12<00:00, 23.25it/s]\n"
     ]
    },
    {
     "name": "stdout",
     "output_type": "stream",
     "text": [
      "epoch 291\n"
     ]
    },
    {
     "name": "stderr",
     "output_type": "stream",
     "text": [
      "loss: -0.6180: 100%|██████████| 280/280 [00:11<00:00, 23.89it/s]\n"
     ]
    },
    {
     "name": "stdout",
     "output_type": "stream",
     "text": [
      "epoch 292\n"
     ]
    },
    {
     "name": "stderr",
     "output_type": "stream",
     "text": [
      "loss: -0.5591: 100%|██████████| 280/280 [00:11<00:00, 23.41it/s]\n"
     ]
    },
    {
     "name": "stdout",
     "output_type": "stream",
     "text": [
      "epoch 293\n"
     ]
    },
    {
     "name": "stderr",
     "output_type": "stream",
     "text": [
      "loss: -0.4595: 100%|██████████| 280/280 [00:11<00:00, 23.88it/s]\n"
     ]
    },
    {
     "name": "stdout",
     "output_type": "stream",
     "text": [
      "epoch 294\n"
     ]
    },
    {
     "name": "stderr",
     "output_type": "stream",
     "text": [
      "loss: -1.0929: 100%|██████████| 280/280 [00:11<00:00, 24.35it/s]\n"
     ]
    },
    {
     "name": "stdout",
     "output_type": "stream",
     "text": [
      "epoch 295\n"
     ]
    },
    {
     "name": "stderr",
     "output_type": "stream",
     "text": [
      "loss: -0.5856: 100%|██████████| 280/280 [00:11<00:00, 23.38it/s]\n"
     ]
    },
    {
     "name": "stdout",
     "output_type": "stream",
     "text": [
      "epoch 296\n"
     ]
    },
    {
     "name": "stderr",
     "output_type": "stream",
     "text": [
      "loss: -0.7282: 100%|██████████| 280/280 [00:11<00:00, 24.07it/s]\n"
     ]
    },
    {
     "name": "stdout",
     "output_type": "stream",
     "text": [
      "epoch 297\n"
     ]
    },
    {
     "name": "stderr",
     "output_type": "stream",
     "text": [
      "loss: -1.0554: 100%|██████████| 280/280 [00:11<00:00, 24.83it/s]\n"
     ]
    },
    {
     "name": "stdout",
     "output_type": "stream",
     "text": [
      "epoch 298\n"
     ]
    },
    {
     "name": "stderr",
     "output_type": "stream",
     "text": [
      "loss: -1.0980: 100%|██████████| 280/280 [00:11<00:00, 23.90it/s]\n"
     ]
    },
    {
     "name": "stdout",
     "output_type": "stream",
     "text": [
      "epoch 299\n"
     ]
    },
    {
     "name": "stderr",
     "output_type": "stream",
     "text": [
      "loss: -0.7798: 100%|██████████| 280/280 [00:12<00:00, 22.79it/s]\n"
     ]
    },
    {
     "name": "stdout",
     "output_type": "stream",
     "text": [
      "epoch 300\n"
     ]
    },
    {
     "name": "stderr",
     "output_type": "stream",
     "text": [
      "loss: -0.9743: 100%|██████████| 280/280 [00:11<00:00, 23.91it/s]\n"
     ]
    },
    {
     "name": "stdout",
     "output_type": "stream",
     "text": [
      "epoch 301\n"
     ]
    },
    {
     "name": "stderr",
     "output_type": "stream",
     "text": [
      "loss: -1.1123: 100%|██████████| 280/280 [00:11<00:00, 23.77it/s]\n"
     ]
    },
    {
     "name": "stdout",
     "output_type": "stream",
     "text": [
      "epoch 302\n"
     ]
    },
    {
     "name": "stderr",
     "output_type": "stream",
     "text": [
      "loss: -1.0662: 100%|██████████| 280/280 [00:11<00:00, 23.60it/s]\n"
     ]
    },
    {
     "name": "stdout",
     "output_type": "stream",
     "text": [
      "epoch 303\n"
     ]
    },
    {
     "name": "stderr",
     "output_type": "stream",
     "text": [
      "loss: -0.7698: 100%|██████████| 280/280 [00:11<00:00, 23.94it/s]\n"
     ]
    },
    {
     "name": "stdout",
     "output_type": "stream",
     "text": [
      "epoch 304\n"
     ]
    },
    {
     "name": "stderr",
     "output_type": "stream",
     "text": [
      "loss: 1.1588: 100%|██████████| 280/280 [00:11<00:00, 24.17it/s] \n"
     ]
    },
    {
     "name": "stdout",
     "output_type": "stream",
     "text": [
      "epoch 305\n"
     ]
    },
    {
     "name": "stderr",
     "output_type": "stream",
     "text": [
      "loss: -0.9034: 100%|██████████| 280/280 [00:11<00:00, 23.56it/s]\n"
     ]
    },
    {
     "name": "stdout",
     "output_type": "stream",
     "text": [
      "epoch 306\n"
     ]
    },
    {
     "name": "stderr",
     "output_type": "stream",
     "text": [
      "loss: -0.6158: 100%|██████████| 280/280 [00:11<00:00, 24.26it/s]\n"
     ]
    },
    {
     "name": "stdout",
     "output_type": "stream",
     "text": [
      "epoch 307\n"
     ]
    },
    {
     "name": "stderr",
     "output_type": "stream",
     "text": [
      "loss: -0.8904: 100%|██████████| 280/280 [00:11<00:00, 24.35it/s]\n"
     ]
    },
    {
     "name": "stdout",
     "output_type": "stream",
     "text": [
      "epoch 308\n"
     ]
    },
    {
     "name": "stderr",
     "output_type": "stream",
     "text": [
      "loss: -0.4743: 100%|██████████| 280/280 [00:12<00:00, 23.09it/s]\n"
     ]
    },
    {
     "name": "stdout",
     "output_type": "stream",
     "text": [
      "epoch 309\n"
     ]
    },
    {
     "name": "stderr",
     "output_type": "stream",
     "text": [
      "loss: -0.9315: 100%|██████████| 280/280 [00:11<00:00, 23.59it/s]\n"
     ]
    },
    {
     "name": "stdout",
     "output_type": "stream",
     "text": [
      "epoch 310\n"
     ]
    },
    {
     "name": "stderr",
     "output_type": "stream",
     "text": [
      "loss: -0.6759: 100%|██████████| 280/280 [00:11<00:00, 24.42it/s]\n"
     ]
    },
    {
     "name": "stdout",
     "output_type": "stream",
     "text": [
      "epoch 311\n"
     ]
    },
    {
     "name": "stderr",
     "output_type": "stream",
     "text": [
      "loss: -0.5147: 100%|██████████| 280/280 [00:12<00:00, 22.43it/s]\n"
     ]
    },
    {
     "name": "stdout",
     "output_type": "stream",
     "text": [
      "epoch 312\n"
     ]
    },
    {
     "name": "stderr",
     "output_type": "stream",
     "text": [
      "loss: -0.2383: 100%|██████████| 280/280 [00:11<00:00, 23.88it/s]\n"
     ]
    },
    {
     "name": "stdout",
     "output_type": "stream",
     "text": [
      "epoch 313\n"
     ]
    },
    {
     "name": "stderr",
     "output_type": "stream",
     "text": [
      "loss: -0.6396: 100%|██████████| 280/280 [00:11<00:00, 23.50it/s]\n"
     ]
    },
    {
     "name": "stdout",
     "output_type": "stream",
     "text": [
      "epoch 314\n"
     ]
    },
    {
     "name": "stderr",
     "output_type": "stream",
     "text": [
      "loss: -1.0980: 100%|██████████| 280/280 [00:12<00:00, 22.92it/s]\n"
     ]
    },
    {
     "name": "stdout",
     "output_type": "stream",
     "text": [
      "epoch 315\n"
     ]
    },
    {
     "name": "stderr",
     "output_type": "stream",
     "text": [
      "loss: -0.1861: 100%|██████████| 280/280 [00:11<00:00, 23.79it/s]\n"
     ]
    },
    {
     "name": "stdout",
     "output_type": "stream",
     "text": [
      "epoch 316\n"
     ]
    },
    {
     "name": "stderr",
     "output_type": "stream",
     "text": [
      "loss: -0.2590: 100%|██████████| 280/280 [00:11<00:00, 24.89it/s]\n"
     ]
    },
    {
     "name": "stdout",
     "output_type": "stream",
     "text": [
      "epoch 317\n"
     ]
    },
    {
     "name": "stderr",
     "output_type": "stream",
     "text": [
      "loss: -0.7890: 100%|██████████| 280/280 [00:10<00:00, 25.90it/s]\n"
     ]
    },
    {
     "name": "stdout",
     "output_type": "stream",
     "text": [
      "epoch 318\n"
     ]
    },
    {
     "name": "stderr",
     "output_type": "stream",
     "text": [
      "loss: -0.8450: 100%|██████████| 280/280 [00:10<00:00, 26.81it/s]\n"
     ]
    },
    {
     "name": "stdout",
     "output_type": "stream",
     "text": [
      "epoch 319\n"
     ]
    },
    {
     "name": "stderr",
     "output_type": "stream",
     "text": [
      "loss: -0.3914: 100%|██████████| 280/280 [00:10<00:00, 25.82it/s]\n"
     ]
    },
    {
     "name": "stdout",
     "output_type": "stream",
     "text": [
      "epoch 320\n"
     ]
    },
    {
     "name": "stderr",
     "output_type": "stream",
     "text": [
      "loss: -0.8855: 100%|██████████| 280/280 [00:10<00:00, 26.65it/s]\n"
     ]
    },
    {
     "name": "stdout",
     "output_type": "stream",
     "text": [
      "epoch 321\n"
     ]
    },
    {
     "name": "stderr",
     "output_type": "stream",
     "text": [
      "loss: -0.6531: 100%|██████████| 280/280 [00:10<00:00, 25.68it/s]\n"
     ]
    },
    {
     "name": "stdout",
     "output_type": "stream",
     "text": [
      "epoch 322\n"
     ]
    },
    {
     "name": "stderr",
     "output_type": "stream",
     "text": [
      "loss: -1.0218: 100%|██████████| 280/280 [00:10<00:00, 26.27it/s]\n"
     ]
    },
    {
     "name": "stdout",
     "output_type": "stream",
     "text": [
      "epoch 323\n"
     ]
    },
    {
     "name": "stderr",
     "output_type": "stream",
     "text": [
      "loss: -0.9796: 100%|██████████| 280/280 [00:10<00:00, 27.30it/s]\n"
     ]
    },
    {
     "name": "stdout",
     "output_type": "stream",
     "text": [
      "epoch 324\n"
     ]
    },
    {
     "name": "stderr",
     "output_type": "stream",
     "text": [
      "loss: -0.9198: 100%|██████████| 280/280 [00:10<00:00, 25.64it/s]\n"
     ]
    },
    {
     "name": "stdout",
     "output_type": "stream",
     "text": [
      "epoch 325\n"
     ]
    },
    {
     "name": "stderr",
     "output_type": "stream",
     "text": [
      "loss: -1.0717: 100%|██████████| 280/280 [00:10<00:00, 25.63it/s]\n"
     ]
    },
    {
     "name": "stdout",
     "output_type": "stream",
     "text": [
      "epoch 326\n"
     ]
    },
    {
     "name": "stderr",
     "output_type": "stream",
     "text": [
      "loss: -1.0653: 100%|██████████| 280/280 [00:10<00:00, 27.76it/s]\n"
     ]
    },
    {
     "name": "stdout",
     "output_type": "stream",
     "text": [
      "epoch 327\n"
     ]
    },
    {
     "name": "stderr",
     "output_type": "stream",
     "text": [
      "loss: -0.8056: 100%|██████████| 280/280 [00:10<00:00, 27.16it/s]\n"
     ]
    },
    {
     "name": "stdout",
     "output_type": "stream",
     "text": [
      "epoch 328\n"
     ]
    },
    {
     "name": "stderr",
     "output_type": "stream",
     "text": [
      "loss: -0.8487: 100%|██████████| 280/280 [00:10<00:00, 26.42it/s]\n"
     ]
    },
    {
     "name": "stdout",
     "output_type": "stream",
     "text": [
      "epoch 329\n"
     ]
    },
    {
     "name": "stderr",
     "output_type": "stream",
     "text": [
      "loss: -0.6645: 100%|██████████| 280/280 [00:10<00:00, 27.26it/s]\n"
     ]
    },
    {
     "name": "stdout",
     "output_type": "stream",
     "text": [
      "epoch 330\n"
     ]
    },
    {
     "name": "stderr",
     "output_type": "stream",
     "text": [
      "loss: -0.4725: 100%|██████████| 280/280 [00:11<00:00, 25.25it/s]\n"
     ]
    },
    {
     "name": "stdout",
     "output_type": "stream",
     "text": [
      "epoch 331\n"
     ]
    },
    {
     "name": "stderr",
     "output_type": "stream",
     "text": [
      "loss: -1.0653: 100%|██████████| 280/280 [00:10<00:00, 27.48it/s]\n"
     ]
    },
    {
     "name": "stdout",
     "output_type": "stream",
     "text": [
      "epoch 332\n"
     ]
    },
    {
     "name": "stderr",
     "output_type": "stream",
     "text": [
      "loss: -0.8190: 100%|██████████| 280/280 [00:10<00:00, 26.75it/s]\n"
     ]
    },
    {
     "name": "stdout",
     "output_type": "stream",
     "text": [
      "epoch 333\n"
     ]
    },
    {
     "name": "stderr",
     "output_type": "stream",
     "text": [
      "loss: -0.8096: 100%|██████████| 280/280 [00:09<00:00, 28.08it/s]\n"
     ]
    },
    {
     "name": "stdout",
     "output_type": "stream",
     "text": [
      "epoch 334\n"
     ]
    },
    {
     "name": "stderr",
     "output_type": "stream",
     "text": [
      "loss: -1.2357: 100%|██████████| 280/280 [00:09<00:00, 28.21it/s]\n"
     ]
    },
    {
     "name": "stdout",
     "output_type": "stream",
     "text": [
      "epoch 335\n"
     ]
    },
    {
     "name": "stderr",
     "output_type": "stream",
     "text": [
      "loss: -1.0997: 100%|██████████| 280/280 [00:10<00:00, 27.79it/s]\n"
     ]
    },
    {
     "name": "stdout",
     "output_type": "stream",
     "text": [
      "epoch 336\n"
     ]
    },
    {
     "name": "stderr",
     "output_type": "stream",
     "text": [
      "loss: -1.1112: 100%|██████████| 280/280 [00:10<00:00, 26.65it/s]\n"
     ]
    },
    {
     "name": "stdout",
     "output_type": "stream",
     "text": [
      "epoch 337\n"
     ]
    },
    {
     "name": "stderr",
     "output_type": "stream",
     "text": [
      "loss: -1.3337: 100%|██████████| 280/280 [00:10<00:00, 27.25it/s]\n"
     ]
    },
    {
     "name": "stdout",
     "output_type": "stream",
     "text": [
      "epoch 338\n"
     ]
    },
    {
     "name": "stderr",
     "output_type": "stream",
     "text": [
      "loss: -1.1667: 100%|██████████| 280/280 [00:10<00:00, 27.71it/s]\n"
     ]
    },
    {
     "name": "stdout",
     "output_type": "stream",
     "text": [
      "epoch 339\n"
     ]
    },
    {
     "name": "stderr",
     "output_type": "stream",
     "text": [
      "loss: -0.9012: 100%|██████████| 280/280 [00:10<00:00, 26.18it/s]\n"
     ]
    },
    {
     "name": "stdout",
     "output_type": "stream",
     "text": [
      "epoch 340\n"
     ]
    },
    {
     "name": "stderr",
     "output_type": "stream",
     "text": [
      "loss: -0.7783: 100%|██████████| 280/280 [00:10<00:00, 27.28it/s]\n"
     ]
    },
    {
     "name": "stdout",
     "output_type": "stream",
     "text": [
      "epoch 341\n"
     ]
    },
    {
     "name": "stderr",
     "output_type": "stream",
     "text": [
      "loss: -1.0850: 100%|██████████| 280/280 [00:10<00:00, 26.74it/s]\n"
     ]
    },
    {
     "name": "stdout",
     "output_type": "stream",
     "text": [
      "epoch 342\n"
     ]
    },
    {
     "name": "stderr",
     "output_type": "stream",
     "text": [
      "loss: -0.8368: 100%|██████████| 280/280 [00:10<00:00, 27.54it/s]\n"
     ]
    },
    {
     "name": "stdout",
     "output_type": "stream",
     "text": [
      "epoch 343\n"
     ]
    },
    {
     "name": "stderr",
     "output_type": "stream",
     "text": [
      "loss: -1.1202: 100%|██████████| 280/280 [00:10<00:00, 26.56it/s]\n"
     ]
    },
    {
     "name": "stdout",
     "output_type": "stream",
     "text": [
      "epoch 344\n"
     ]
    },
    {
     "name": "stderr",
     "output_type": "stream",
     "text": [
      "loss: -0.6175: 100%|██████████| 280/280 [00:10<00:00, 26.90it/s]\n"
     ]
    },
    {
     "name": "stdout",
     "output_type": "stream",
     "text": [
      "epoch 345\n"
     ]
    },
    {
     "name": "stderr",
     "output_type": "stream",
     "text": [
      "loss: -0.1790: 100%|██████████| 280/280 [00:10<00:00, 26.71it/s]\n"
     ]
    },
    {
     "name": "stdout",
     "output_type": "stream",
     "text": [
      "epoch 346\n"
     ]
    },
    {
     "name": "stderr",
     "output_type": "stream",
     "text": [
      "loss: -1.2101: 100%|██████████| 280/280 [00:10<00:00, 26.22it/s]\n"
     ]
    },
    {
     "name": "stdout",
     "output_type": "stream",
     "text": [
      "epoch 347\n"
     ]
    },
    {
     "name": "stderr",
     "output_type": "stream",
     "text": [
      "loss: -1.2684: 100%|██████████| 280/280 [00:11<00:00, 24.02it/s]\n"
     ]
    },
    {
     "name": "stdout",
     "output_type": "stream",
     "text": [
      "epoch 348\n"
     ]
    },
    {
     "name": "stderr",
     "output_type": "stream",
     "text": [
      "loss: -0.0078: 100%|██████████| 280/280 [00:11<00:00, 23.80it/s]\n"
     ]
    },
    {
     "name": "stdout",
     "output_type": "stream",
     "text": [
      "epoch 349\n"
     ]
    },
    {
     "name": "stderr",
     "output_type": "stream",
     "text": [
      "loss: -1.1060: 100%|██████████| 280/280 [00:11<00:00, 24.59it/s]\n"
     ]
    },
    {
     "name": "stdout",
     "output_type": "stream",
     "text": [
      "epoch 350\n"
     ]
    },
    {
     "name": "stderr",
     "output_type": "stream",
     "text": [
      "loss: -0.7105: 100%|██████████| 280/280 [00:11<00:00, 24.01it/s]\n"
     ]
    },
    {
     "name": "stdout",
     "output_type": "stream",
     "text": [
      "epoch 351\n"
     ]
    },
    {
     "name": "stderr",
     "output_type": "stream",
     "text": [
      "loss: -0.8356: 100%|██████████| 280/280 [00:11<00:00, 24.26it/s]\n"
     ]
    },
    {
     "name": "stdout",
     "output_type": "stream",
     "text": [
      "epoch 352\n"
     ]
    },
    {
     "name": "stderr",
     "output_type": "stream",
     "text": [
      "loss: -1.0095: 100%|██████████| 280/280 [00:11<00:00, 24.47it/s]\n"
     ]
    },
    {
     "name": "stdout",
     "output_type": "stream",
     "text": [
      "epoch 353\n"
     ]
    },
    {
     "name": "stderr",
     "output_type": "stream",
     "text": [
      "loss: -1.2799: 100%|██████████| 280/280 [00:11<00:00, 23.88it/s]\n"
     ]
    },
    {
     "name": "stdout",
     "output_type": "stream",
     "text": [
      "epoch 354\n"
     ]
    },
    {
     "name": "stderr",
     "output_type": "stream",
     "text": [
      "loss: -0.5920: 100%|██████████| 280/280 [00:11<00:00, 24.09it/s]\n"
     ]
    },
    {
     "name": "stdout",
     "output_type": "stream",
     "text": [
      "epoch 355\n"
     ]
    },
    {
     "name": "stderr",
     "output_type": "stream",
     "text": [
      "loss: -0.7462: 100%|██████████| 280/280 [00:11<00:00, 24.78it/s]\n"
     ]
    },
    {
     "name": "stdout",
     "output_type": "stream",
     "text": [
      "epoch 356\n"
     ]
    },
    {
     "name": "stderr",
     "output_type": "stream",
     "text": [
      "loss: -0.9691: 100%|██████████| 280/280 [00:11<00:00, 24.46it/s]\n"
     ]
    },
    {
     "name": "stdout",
     "output_type": "stream",
     "text": [
      "epoch 357\n"
     ]
    },
    {
     "name": "stderr",
     "output_type": "stream",
     "text": [
      "loss: -1.2330: 100%|██████████| 280/280 [00:12<00:00, 22.85it/s]\n"
     ]
    },
    {
     "name": "stdout",
     "output_type": "stream",
     "text": [
      "epoch 358\n"
     ]
    },
    {
     "name": "stderr",
     "output_type": "stream",
     "text": [
      "loss: -0.2771: 100%|██████████| 280/280 [00:11<00:00, 23.83it/s]\n"
     ]
    },
    {
     "name": "stdout",
     "output_type": "stream",
     "text": [
      "epoch 359\n"
     ]
    },
    {
     "name": "stderr",
     "output_type": "stream",
     "text": [
      "loss: -1.0578: 100%|██████████| 280/280 [00:11<00:00, 23.97it/s]\n"
     ]
    },
    {
     "name": "stdout",
     "output_type": "stream",
     "text": [
      "epoch 360\n"
     ]
    },
    {
     "name": "stderr",
     "output_type": "stream",
     "text": [
      "loss: -1.3417: 100%|██████████| 280/280 [00:11<00:00, 24.69it/s]\n"
     ]
    },
    {
     "name": "stdout",
     "output_type": "stream",
     "text": [
      "epoch 361\n"
     ]
    },
    {
     "name": "stderr",
     "output_type": "stream",
     "text": [
      "loss: -0.7013: 100%|██████████| 280/280 [00:11<00:00, 23.59it/s]\n"
     ]
    },
    {
     "name": "stdout",
     "output_type": "stream",
     "text": [
      "epoch 362\n"
     ]
    },
    {
     "name": "stderr",
     "output_type": "stream",
     "text": [
      "loss: -0.7370: 100%|██████████| 280/280 [00:11<00:00, 24.38it/s]\n"
     ]
    },
    {
     "name": "stdout",
     "output_type": "stream",
     "text": [
      "epoch 363\n"
     ]
    },
    {
     "name": "stderr",
     "output_type": "stream",
     "text": [
      "loss: -1.0448: 100%|██████████| 280/280 [00:12<00:00, 22.90it/s]\n"
     ]
    },
    {
     "name": "stdout",
     "output_type": "stream",
     "text": [
      "epoch 364\n"
     ]
    },
    {
     "name": "stderr",
     "output_type": "stream",
     "text": [
      "loss: -1.0109: 100%|██████████| 280/280 [00:12<00:00, 22.98it/s]\n"
     ]
    },
    {
     "name": "stdout",
     "output_type": "stream",
     "text": [
      "epoch 365\n"
     ]
    },
    {
     "name": "stderr",
     "output_type": "stream",
     "text": [
      "loss: -1.1107: 100%|██████████| 280/280 [00:11<00:00, 24.15it/s]\n"
     ]
    },
    {
     "name": "stdout",
     "output_type": "stream",
     "text": [
      "epoch 366\n"
     ]
    },
    {
     "name": "stderr",
     "output_type": "stream",
     "text": [
      "loss: -1.1207: 100%|██████████| 280/280 [00:12<00:00, 22.66it/s]\n"
     ]
    },
    {
     "name": "stdout",
     "output_type": "stream",
     "text": [
      "epoch 367\n"
     ]
    },
    {
     "name": "stderr",
     "output_type": "stream",
     "text": [
      "loss: -1.2945: 100%|██████████| 280/280 [00:11<00:00, 24.00it/s]\n"
     ]
    },
    {
     "name": "stdout",
     "output_type": "stream",
     "text": [
      "epoch 368\n"
     ]
    },
    {
     "name": "stderr",
     "output_type": "stream",
     "text": [
      "loss: -0.3141: 100%|██████████| 280/280 [00:11<00:00, 24.51it/s]\n"
     ]
    },
    {
     "name": "stdout",
     "output_type": "stream",
     "text": [
      "epoch 369\n"
     ]
    },
    {
     "name": "stderr",
     "output_type": "stream",
     "text": [
      "loss: -1.1935: 100%|██████████| 280/280 [00:12<00:00, 22.92it/s]\n"
     ]
    },
    {
     "name": "stdout",
     "output_type": "stream",
     "text": [
      "epoch 370\n"
     ]
    },
    {
     "name": "stderr",
     "output_type": "stream",
     "text": [
      "loss: -0.8541: 100%|██████████| 280/280 [00:12<00:00, 23.33it/s]\n"
     ]
    },
    {
     "name": "stdout",
     "output_type": "stream",
     "text": [
      "epoch 371\n"
     ]
    },
    {
     "name": "stderr",
     "output_type": "stream",
     "text": [
      "loss: -0.6927: 100%|██████████| 280/280 [00:11<00:00, 24.32it/s]\n"
     ]
    },
    {
     "name": "stdout",
     "output_type": "stream",
     "text": [
      "epoch 372\n"
     ]
    },
    {
     "name": "stderr",
     "output_type": "stream",
     "text": [
      "loss: -1.1900: 100%|██████████| 280/280 [00:11<00:00, 24.68it/s]\n"
     ]
    },
    {
     "name": "stdout",
     "output_type": "stream",
     "text": [
      "epoch 373\n"
     ]
    },
    {
     "name": "stderr",
     "output_type": "stream",
     "text": [
      "loss: -1.4285: 100%|██████████| 280/280 [00:11<00:00, 24.01it/s]\n"
     ]
    },
    {
     "name": "stdout",
     "output_type": "stream",
     "text": [
      "epoch 374\n"
     ]
    },
    {
     "name": "stderr",
     "output_type": "stream",
     "text": [
      "loss: 2.3490: 100%|██████████| 280/280 [00:11<00:00, 23.53it/s] \n"
     ]
    },
    {
     "name": "stdout",
     "output_type": "stream",
     "text": [
      "epoch 375\n"
     ]
    },
    {
     "name": "stderr",
     "output_type": "stream",
     "text": [
      "loss: -1.2197: 100%|██████████| 280/280 [00:11<00:00, 24.36it/s]\n"
     ]
    },
    {
     "name": "stdout",
     "output_type": "stream",
     "text": [
      "epoch 376\n"
     ]
    },
    {
     "name": "stderr",
     "output_type": "stream",
     "text": [
      "loss: -0.6131: 100%|██████████| 280/280 [00:12<00:00, 23.12it/s]\n"
     ]
    },
    {
     "name": "stdout",
     "output_type": "stream",
     "text": [
      "epoch 377\n"
     ]
    },
    {
     "name": "stderr",
     "output_type": "stream",
     "text": [
      "loss: -0.9750: 100%|██████████| 280/280 [00:11<00:00, 23.46it/s]\n"
     ]
    },
    {
     "name": "stdout",
     "output_type": "stream",
     "text": [
      "epoch 378\n"
     ]
    },
    {
     "name": "stderr",
     "output_type": "stream",
     "text": [
      "loss: -1.2683: 100%|██████████| 280/280 [00:11<00:00, 24.07it/s]\n"
     ]
    },
    {
     "name": "stdout",
     "output_type": "stream",
     "text": [
      "epoch 379\n"
     ]
    },
    {
     "name": "stderr",
     "output_type": "stream",
     "text": [
      "loss: -0.6542: 100%|██████████| 280/280 [00:12<00:00, 23.25it/s]\n"
     ]
    },
    {
     "name": "stdout",
     "output_type": "stream",
     "text": [
      "epoch 380\n"
     ]
    },
    {
     "name": "stderr",
     "output_type": "stream",
     "text": [
      "loss: -0.8835: 100%|██████████| 280/280 [00:11<00:00, 23.92it/s]\n"
     ]
    },
    {
     "name": "stdout",
     "output_type": "stream",
     "text": [
      "epoch 381\n"
     ]
    },
    {
     "name": "stderr",
     "output_type": "stream",
     "text": [
      "loss: -0.7716: 100%|██████████| 280/280 [00:11<00:00, 24.22it/s]\n"
     ]
    },
    {
     "name": "stdout",
     "output_type": "stream",
     "text": [
      "epoch 382\n"
     ]
    },
    {
     "name": "stderr",
     "output_type": "stream",
     "text": [
      "loss: -1.3532: 100%|██████████| 280/280 [00:11<00:00, 23.68it/s]\n"
     ]
    },
    {
     "name": "stdout",
     "output_type": "stream",
     "text": [
      "epoch 383\n"
     ]
    },
    {
     "name": "stderr",
     "output_type": "stream",
     "text": [
      "loss: -1.1938: 100%|██████████| 280/280 [00:11<00:00, 23.77it/s]\n"
     ]
    },
    {
     "name": "stdout",
     "output_type": "stream",
     "text": [
      "epoch 384\n"
     ]
    },
    {
     "name": "stderr",
     "output_type": "stream",
     "text": [
      "loss: -1.0975: 100%|██████████| 280/280 [00:11<00:00, 24.13it/s]\n"
     ]
    },
    {
     "name": "stdout",
     "output_type": "stream",
     "text": [
      "epoch 385\n"
     ]
    },
    {
     "name": "stderr",
     "output_type": "stream",
     "text": [
      "loss: -1.3187: 100%|██████████| 280/280 [00:11<00:00, 23.84it/s]\n"
     ]
    },
    {
     "name": "stdout",
     "output_type": "stream",
     "text": [
      "epoch 386\n"
     ]
    },
    {
     "name": "stderr",
     "output_type": "stream",
     "text": [
      "loss: -1.2688: 100%|██████████| 280/280 [00:11<00:00, 23.35it/s]\n"
     ]
    },
    {
     "name": "stdout",
     "output_type": "stream",
     "text": [
      "epoch 387\n"
     ]
    },
    {
     "name": "stderr",
     "output_type": "stream",
     "text": [
      "loss: -1.1414: 100%|██████████| 280/280 [00:11<00:00, 23.52it/s]\n"
     ]
    },
    {
     "name": "stdout",
     "output_type": "stream",
     "text": [
      "epoch 388\n"
     ]
    },
    {
     "name": "stderr",
     "output_type": "stream",
     "text": [
      "loss: -0.8285: 100%|██████████| 280/280 [00:12<00:00, 22.98it/s]\n"
     ]
    },
    {
     "name": "stdout",
     "output_type": "stream",
     "text": [
      "epoch 389\n"
     ]
    },
    {
     "name": "stderr",
     "output_type": "stream",
     "text": [
      "loss: -1.1401: 100%|██████████| 280/280 [00:11<00:00, 23.62it/s]\n"
     ]
    },
    {
     "name": "stdout",
     "output_type": "stream",
     "text": [
      "epoch 390\n"
     ]
    },
    {
     "name": "stderr",
     "output_type": "stream",
     "text": [
      "loss: -1.0042: 100%|██████████| 280/280 [00:12<00:00, 22.74it/s]\n"
     ]
    },
    {
     "name": "stdout",
     "output_type": "stream",
     "text": [
      "epoch 391\n"
     ]
    },
    {
     "name": "stderr",
     "output_type": "stream",
     "text": [
      "loss: -1.3477: 100%|██████████| 280/280 [00:11<00:00, 23.40it/s]\n"
     ]
    },
    {
     "name": "stdout",
     "output_type": "stream",
     "text": [
      "epoch 392\n"
     ]
    },
    {
     "name": "stderr",
     "output_type": "stream",
     "text": [
      "loss: -1.2769: 100%|██████████| 280/280 [00:12<00:00, 23.08it/s]\n"
     ]
    },
    {
     "name": "stdout",
     "output_type": "stream",
     "text": [
      "epoch 393\n"
     ]
    },
    {
     "name": "stderr",
     "output_type": "stream",
     "text": [
      "loss: -1.1914: 100%|██████████| 280/280 [00:11<00:00, 23.93it/s]\n"
     ]
    },
    {
     "name": "stdout",
     "output_type": "stream",
     "text": [
      "epoch 394\n"
     ]
    },
    {
     "name": "stderr",
     "output_type": "stream",
     "text": [
      "loss: -1.4098: 100%|██████████| 280/280 [00:12<00:00, 23.25it/s]\n"
     ]
    },
    {
     "name": "stdout",
     "output_type": "stream",
     "text": [
      "epoch 395\n"
     ]
    },
    {
     "name": "stderr",
     "output_type": "stream",
     "text": [
      "loss: -1.0189: 100%|██████████| 280/280 [00:12<00:00, 23.28it/s]\n"
     ]
    },
    {
     "name": "stdout",
     "output_type": "stream",
     "text": [
      "epoch 396\n"
     ]
    },
    {
     "name": "stderr",
     "output_type": "stream",
     "text": [
      "loss: -1.1356: 100%|██████████| 280/280 [00:12<00:00, 21.67it/s]\n"
     ]
    },
    {
     "name": "stdout",
     "output_type": "stream",
     "text": [
      "epoch 397\n"
     ]
    },
    {
     "name": "stderr",
     "output_type": "stream",
     "text": [
      "loss: -1.0527: 100%|██████████| 280/280 [00:11<00:00, 23.97it/s]\n"
     ]
    },
    {
     "name": "stdout",
     "output_type": "stream",
     "text": [
      "epoch 398\n"
     ]
    },
    {
     "name": "stderr",
     "output_type": "stream",
     "text": [
      "loss: -1.1637: 100%|██████████| 280/280 [00:12<00:00, 22.57it/s]\n"
     ]
    },
    {
     "name": "stdout",
     "output_type": "stream",
     "text": [
      "epoch 399\n"
     ]
    },
    {
     "name": "stderr",
     "output_type": "stream",
     "text": [
      "loss: -1.1731: 100%|██████████| 280/280 [00:12<00:00, 22.92it/s]\n"
     ]
    },
    {
     "name": "stdout",
     "output_type": "stream",
     "text": [
      "epoch 400\n"
     ]
    },
    {
     "name": "stderr",
     "output_type": "stream",
     "text": [
      "loss: 0.0137: 100%|██████████| 280/280 [00:11<00:00, 23.53it/s] \n"
     ]
    },
    {
     "name": "stdout",
     "output_type": "stream",
     "text": [
      "epoch 401\n"
     ]
    },
    {
     "name": "stderr",
     "output_type": "stream",
     "text": [
      "loss: -0.9492: 100%|██████████| 280/280 [00:12<00:00, 22.22it/s]\n"
     ]
    },
    {
     "name": "stdout",
     "output_type": "stream",
     "text": [
      "epoch 402\n"
     ]
    },
    {
     "name": "stderr",
     "output_type": "stream",
     "text": [
      "loss: -0.6805: 100%|██████████| 280/280 [00:12<00:00, 22.84it/s]\n"
     ]
    },
    {
     "name": "stdout",
     "output_type": "stream",
     "text": [
      "epoch 403\n"
     ]
    },
    {
     "name": "stderr",
     "output_type": "stream",
     "text": [
      "loss: -1.1129: 100%|██████████| 280/280 [00:11<00:00, 23.35it/s]\n"
     ]
    },
    {
     "name": "stdout",
     "output_type": "stream",
     "text": [
      "epoch 404\n"
     ]
    },
    {
     "name": "stderr",
     "output_type": "stream",
     "text": [
      "loss: -0.8850: 100%|██████████| 280/280 [00:12<00:00, 23.25it/s]\n"
     ]
    },
    {
     "name": "stdout",
     "output_type": "stream",
     "text": [
      "epoch 405\n"
     ]
    },
    {
     "name": "stderr",
     "output_type": "stream",
     "text": [
      "loss: -0.8849: 100%|██████████| 280/280 [00:11<00:00, 24.15it/s]\n"
     ]
    },
    {
     "name": "stdout",
     "output_type": "stream",
     "text": [
      "epoch 406\n"
     ]
    },
    {
     "name": "stderr",
     "output_type": "stream",
     "text": [
      "loss: -1.3782: 100%|██████████| 280/280 [00:11<00:00, 24.92it/s]\n"
     ]
    },
    {
     "name": "stdout",
     "output_type": "stream",
     "text": [
      "epoch 407\n"
     ]
    },
    {
     "name": "stderr",
     "output_type": "stream",
     "text": [
      "loss: -0.7609: 100%|██████████| 280/280 [00:11<00:00, 24.16it/s]\n"
     ]
    },
    {
     "name": "stdout",
     "output_type": "stream",
     "text": [
      "epoch 408\n"
     ]
    },
    {
     "name": "stderr",
     "output_type": "stream",
     "text": [
      "loss: 0.0835: 100%|██████████| 280/280 [00:11<00:00, 24.21it/s] \n"
     ]
    },
    {
     "name": "stdout",
     "output_type": "stream",
     "text": [
      "epoch 409\n"
     ]
    },
    {
     "name": "stderr",
     "output_type": "stream",
     "text": [
      "loss: -1.2423: 100%|██████████| 280/280 [00:11<00:00, 24.05it/s]\n"
     ]
    },
    {
     "name": "stdout",
     "output_type": "stream",
     "text": [
      "epoch 410\n"
     ]
    },
    {
     "name": "stderr",
     "output_type": "stream",
     "text": [
      "loss: -1.1900: 100%|██████████| 280/280 [00:11<00:00, 23.78it/s]\n"
     ]
    },
    {
     "name": "stdout",
     "output_type": "stream",
     "text": [
      "epoch 411\n"
     ]
    },
    {
     "name": "stderr",
     "output_type": "stream",
     "text": [
      "loss: -0.9001: 100%|██████████| 280/280 [00:11<00:00, 23.42it/s]\n"
     ]
    },
    {
     "name": "stdout",
     "output_type": "stream",
     "text": [
      "epoch 412\n"
     ]
    },
    {
     "name": "stderr",
     "output_type": "stream",
     "text": [
      "loss: 0.8913: 100%|██████████| 280/280 [00:12<00:00, 23.10it/s] \n"
     ]
    },
    {
     "name": "stdout",
     "output_type": "stream",
     "text": [
      "epoch 413\n"
     ]
    },
    {
     "name": "stderr",
     "output_type": "stream",
     "text": [
      "loss: -1.1128: 100%|██████████| 280/280 [00:12<00:00, 23.24it/s]\n"
     ]
    },
    {
     "name": "stdout",
     "output_type": "stream",
     "text": [
      "epoch 414\n"
     ]
    },
    {
     "name": "stderr",
     "output_type": "stream",
     "text": [
      "loss: -1.1228: 100%|██████████| 280/280 [00:12<00:00, 22.85it/s]\n"
     ]
    },
    {
     "name": "stdout",
     "output_type": "stream",
     "text": [
      "epoch 415\n"
     ]
    },
    {
     "name": "stderr",
     "output_type": "stream",
     "text": [
      "loss: -0.6670: 100%|██████████| 280/280 [00:12<00:00, 22.86it/s]\n"
     ]
    },
    {
     "name": "stdout",
     "output_type": "stream",
     "text": [
      "epoch 416\n"
     ]
    },
    {
     "name": "stderr",
     "output_type": "stream",
     "text": [
      "loss: -1.1876: 100%|██████████| 280/280 [00:11<00:00, 23.84it/s]\n"
     ]
    },
    {
     "name": "stdout",
     "output_type": "stream",
     "text": [
      "epoch 417\n"
     ]
    },
    {
     "name": "stderr",
     "output_type": "stream",
     "text": [
      "loss: -0.7823: 100%|██████████| 280/280 [00:11<00:00, 23.65it/s]\n"
     ]
    },
    {
     "name": "stdout",
     "output_type": "stream",
     "text": [
      "epoch 418\n"
     ]
    },
    {
     "name": "stderr",
     "output_type": "stream",
     "text": [
      "loss: -1.0127: 100%|██████████| 280/280 [00:11<00:00, 25.02it/s]\n"
     ]
    },
    {
     "name": "stdout",
     "output_type": "stream",
     "text": [
      "epoch 419\n"
     ]
    },
    {
     "name": "stderr",
     "output_type": "stream",
     "text": [
      "loss: -0.7973: 100%|██████████| 280/280 [00:11<00:00, 24.90it/s]\n"
     ]
    },
    {
     "name": "stdout",
     "output_type": "stream",
     "text": [
      "epoch 420\n"
     ]
    },
    {
     "name": "stderr",
     "output_type": "stream",
     "text": [
      "loss: -1.4425: 100%|██████████| 280/280 [00:11<00:00, 25.22it/s]\n"
     ]
    },
    {
     "name": "stdout",
     "output_type": "stream",
     "text": [
      "epoch 421\n"
     ]
    },
    {
     "name": "stderr",
     "output_type": "stream",
     "text": [
      "loss: -0.7720: 100%|██████████| 280/280 [00:11<00:00, 24.90it/s]\n"
     ]
    },
    {
     "name": "stdout",
     "output_type": "stream",
     "text": [
      "epoch 422\n"
     ]
    },
    {
     "name": "stderr",
     "output_type": "stream",
     "text": [
      "loss: -1.1067: 100%|██████████| 280/280 [00:11<00:00, 24.53it/s]\n"
     ]
    },
    {
     "name": "stdout",
     "output_type": "stream",
     "text": [
      "epoch 423\n"
     ]
    },
    {
     "name": "stderr",
     "output_type": "stream",
     "text": [
      "loss: -1.1085: 100%|██████████| 280/280 [00:12<00:00, 23.20it/s]\n"
     ]
    },
    {
     "name": "stdout",
     "output_type": "stream",
     "text": [
      "epoch 424\n"
     ]
    },
    {
     "name": "stderr",
     "output_type": "stream",
     "text": [
      "loss: -0.8750: 100%|██████████| 280/280 [00:10<00:00, 25.73it/s]\n"
     ]
    },
    {
     "name": "stdout",
     "output_type": "stream",
     "text": [
      "epoch 425\n"
     ]
    },
    {
     "name": "stderr",
     "output_type": "stream",
     "text": [
      "loss: -0.9857: 100%|██████████| 280/280 [00:11<00:00, 23.61it/s]\n"
     ]
    },
    {
     "name": "stdout",
     "output_type": "stream",
     "text": [
      "epoch 426\n"
     ]
    },
    {
     "name": "stderr",
     "output_type": "stream",
     "text": [
      "loss: -1.1566: 100%|██████████| 280/280 [00:11<00:00, 23.75it/s]\n"
     ]
    },
    {
     "name": "stdout",
     "output_type": "stream",
     "text": [
      "epoch 427\n"
     ]
    },
    {
     "name": "stderr",
     "output_type": "stream",
     "text": [
      "loss: -1.1141: 100%|██████████| 280/280 [00:11<00:00, 23.59it/s]\n"
     ]
    },
    {
     "name": "stdout",
     "output_type": "stream",
     "text": [
      "epoch 428\n"
     ]
    },
    {
     "name": "stderr",
     "output_type": "stream",
     "text": [
      "loss: -1.1105: 100%|██████████| 280/280 [00:11<00:00, 24.17it/s]\n"
     ]
    },
    {
     "name": "stdout",
     "output_type": "stream",
     "text": [
      "epoch 429\n"
     ]
    },
    {
     "name": "stderr",
     "output_type": "stream",
     "text": [
      "loss: -0.5053: 100%|██████████| 280/280 [00:12<00:00, 22.67it/s]\n"
     ]
    },
    {
     "name": "stdout",
     "output_type": "stream",
     "text": [
      "epoch 430\n"
     ]
    },
    {
     "name": "stderr",
     "output_type": "stream",
     "text": [
      "loss: -0.6966: 100%|██████████| 280/280 [00:12<00:00, 22.79it/s]\n"
     ]
    },
    {
     "name": "stdout",
     "output_type": "stream",
     "text": [
      "epoch 431\n"
     ]
    },
    {
     "name": "stderr",
     "output_type": "stream",
     "text": [
      "loss: -1.1376: 100%|██████████| 280/280 [00:12<00:00, 23.23it/s]\n"
     ]
    },
    {
     "name": "stdout",
     "output_type": "stream",
     "text": [
      "epoch 432\n"
     ]
    },
    {
     "name": "stderr",
     "output_type": "stream",
     "text": [
      "loss: -0.0004: 100%|██████████| 280/280 [00:12<00:00, 22.10it/s]\n"
     ]
    },
    {
     "name": "stdout",
     "output_type": "stream",
     "text": [
      "epoch 433\n"
     ]
    },
    {
     "name": "stderr",
     "output_type": "stream",
     "text": [
      "loss: -0.9142: 100%|██████████| 280/280 [00:12<00:00, 22.90it/s]\n"
     ]
    },
    {
     "name": "stdout",
     "output_type": "stream",
     "text": [
      "epoch 434\n"
     ]
    },
    {
     "name": "stderr",
     "output_type": "stream",
     "text": [
      "loss: -1.1237: 100%|██████████| 280/280 [00:11<00:00, 23.63it/s]\n"
     ]
    },
    {
     "name": "stdout",
     "output_type": "stream",
     "text": [
      "epoch 435\n"
     ]
    },
    {
     "name": "stderr",
     "output_type": "stream",
     "text": [
      "loss: -1.3531: 100%|██████████| 280/280 [00:11<00:00, 24.10it/s]\n"
     ]
    },
    {
     "name": "stdout",
     "output_type": "stream",
     "text": [
      "epoch 436\n"
     ]
    },
    {
     "name": "stderr",
     "output_type": "stream",
     "text": [
      "loss: -0.1356: 100%|██████████| 280/280 [00:11<00:00, 24.87it/s]\n"
     ]
    },
    {
     "name": "stdout",
     "output_type": "stream",
     "text": [
      "epoch 437\n"
     ]
    },
    {
     "name": "stderr",
     "output_type": "stream",
     "text": [
      "loss: -1.4535: 100%|██████████| 280/280 [00:11<00:00, 23.74it/s]\n"
     ]
    },
    {
     "name": "stdout",
     "output_type": "stream",
     "text": [
      "epoch 438\n"
     ]
    },
    {
     "name": "stderr",
     "output_type": "stream",
     "text": [
      "loss: -0.5938: 100%|██████████| 280/280 [00:12<00:00, 22.52it/s]\n"
     ]
    },
    {
     "name": "stdout",
     "output_type": "stream",
     "text": [
      "epoch 439\n"
     ]
    },
    {
     "name": "stderr",
     "output_type": "stream",
     "text": [
      "loss: -0.7959: 100%|██████████| 280/280 [00:12<00:00, 22.75it/s]\n"
     ]
    },
    {
     "name": "stdout",
     "output_type": "stream",
     "text": [
      "epoch 440\n"
     ]
    },
    {
     "name": "stderr",
     "output_type": "stream",
     "text": [
      "loss: -0.7353: 100%|██████████| 280/280 [00:11<00:00, 23.81it/s]\n"
     ]
    },
    {
     "name": "stdout",
     "output_type": "stream",
     "text": [
      "epoch 441\n"
     ]
    },
    {
     "name": "stderr",
     "output_type": "stream",
     "text": [
      "loss: -1.3129: 100%|██████████| 280/280 [00:11<00:00, 24.51it/s]\n"
     ]
    },
    {
     "name": "stdout",
     "output_type": "stream",
     "text": [
      "epoch 442\n"
     ]
    },
    {
     "name": "stderr",
     "output_type": "stream",
     "text": [
      "loss: -1.3411: 100%|██████████| 280/280 [00:12<00:00, 23.02it/s]\n"
     ]
    },
    {
     "name": "stdout",
     "output_type": "stream",
     "text": [
      "epoch 443\n"
     ]
    },
    {
     "name": "stderr",
     "output_type": "stream",
     "text": [
      "loss: -0.5676: 100%|██████████| 280/280 [00:12<00:00, 22.98it/s]\n"
     ]
    },
    {
     "name": "stdout",
     "output_type": "stream",
     "text": [
      "epoch 444\n"
     ]
    },
    {
     "name": "stderr",
     "output_type": "stream",
     "text": [
      "loss: -1.4048: 100%|██████████| 280/280 [00:11<00:00, 23.58it/s]\n"
     ]
    },
    {
     "name": "stdout",
     "output_type": "stream",
     "text": [
      "epoch 445\n"
     ]
    },
    {
     "name": "stderr",
     "output_type": "stream",
     "text": [
      "loss: -0.8804: 100%|██████████| 280/280 [00:12<00:00, 22.86it/s]\n"
     ]
    },
    {
     "name": "stdout",
     "output_type": "stream",
     "text": [
      "epoch 446\n"
     ]
    },
    {
     "name": "stderr",
     "output_type": "stream",
     "text": [
      "loss: -1.2044: 100%|██████████| 280/280 [00:12<00:00, 23.07it/s]\n"
     ]
    },
    {
     "name": "stdout",
     "output_type": "stream",
     "text": [
      "epoch 447\n"
     ]
    },
    {
     "name": "stderr",
     "output_type": "stream",
     "text": [
      "loss: -1.3663: 100%|██████████| 280/280 [00:11<00:00, 23.75it/s]\n"
     ]
    },
    {
     "name": "stdout",
     "output_type": "stream",
     "text": [
      "epoch 448\n"
     ]
    },
    {
     "name": "stderr",
     "output_type": "stream",
     "text": [
      "loss: -1.1510: 100%|██████████| 280/280 [00:11<00:00, 23.54it/s]\n"
     ]
    },
    {
     "name": "stdout",
     "output_type": "stream",
     "text": [
      "epoch 449\n"
     ]
    },
    {
     "name": "stderr",
     "output_type": "stream",
     "text": [
      "loss: -1.3412: 100%|██████████| 280/280 [00:11<00:00, 24.05it/s]\n"
     ]
    },
    {
     "name": "stdout",
     "output_type": "stream",
     "text": [
      "epoch 450\n"
     ]
    },
    {
     "name": "stderr",
     "output_type": "stream",
     "text": [
      "loss: -1.4818: 100%|██████████| 280/280 [00:11<00:00, 23.80it/s]\n"
     ]
    },
    {
     "name": "stdout",
     "output_type": "stream",
     "text": [
      "epoch 451\n"
     ]
    },
    {
     "name": "stderr",
     "output_type": "stream",
     "text": [
      "loss: -0.7954: 100%|██████████| 280/280 [00:11<00:00, 23.50it/s]\n"
     ]
    },
    {
     "name": "stdout",
     "output_type": "stream",
     "text": [
      "epoch 452\n"
     ]
    },
    {
     "name": "stderr",
     "output_type": "stream",
     "text": [
      "loss: -1.2066: 100%|██████████| 280/280 [00:11<00:00, 24.16it/s]\n"
     ]
    },
    {
     "name": "stdout",
     "output_type": "stream",
     "text": [
      "epoch 453\n"
     ]
    },
    {
     "name": "stderr",
     "output_type": "stream",
     "text": [
      "loss: 0.5913: 100%|██████████| 280/280 [00:12<00:00, 22.85it/s] \n"
     ]
    },
    {
     "name": "stdout",
     "output_type": "stream",
     "text": [
      "epoch 454\n"
     ]
    },
    {
     "name": "stderr",
     "output_type": "stream",
     "text": [
      "loss: -0.6366: 100%|██████████| 280/280 [00:11<00:00, 24.18it/s]\n"
     ]
    },
    {
     "name": "stdout",
     "output_type": "stream",
     "text": [
      "epoch 455\n"
     ]
    },
    {
     "name": "stderr",
     "output_type": "stream",
     "text": [
      "loss: -0.6312: 100%|██████████| 280/280 [00:11<00:00, 23.49it/s]\n"
     ]
    },
    {
     "name": "stdout",
     "output_type": "stream",
     "text": [
      "epoch 456\n"
     ]
    },
    {
     "name": "stderr",
     "output_type": "stream",
     "text": [
      "loss: -0.6218: 100%|██████████| 280/280 [00:12<00:00, 22.73it/s]\n"
     ]
    },
    {
     "name": "stdout",
     "output_type": "stream",
     "text": [
      "epoch 457\n"
     ]
    },
    {
     "name": "stderr",
     "output_type": "stream",
     "text": [
      "loss: -0.7860: 100%|██████████| 280/280 [00:11<00:00, 24.05it/s]\n"
     ]
    },
    {
     "name": "stdout",
     "output_type": "stream",
     "text": [
      "epoch 458\n"
     ]
    },
    {
     "name": "stderr",
     "output_type": "stream",
     "text": [
      "loss: -0.8988: 100%|██████████| 280/280 [00:11<00:00, 24.05it/s]\n"
     ]
    },
    {
     "name": "stdout",
     "output_type": "stream",
     "text": [
      "epoch 459\n"
     ]
    },
    {
     "name": "stderr",
     "output_type": "stream",
     "text": [
      "loss: -0.3407: 100%|██████████| 280/280 [00:11<00:00, 24.71it/s]\n"
     ]
    },
    {
     "name": "stdout",
     "output_type": "stream",
     "text": [
      "epoch 460\n"
     ]
    },
    {
     "name": "stderr",
     "output_type": "stream",
     "text": [
      "loss: -0.8734: 100%|██████████| 280/280 [00:11<00:00, 23.94it/s]\n"
     ]
    },
    {
     "name": "stdout",
     "output_type": "stream",
     "text": [
      "epoch 461\n"
     ]
    },
    {
     "name": "stderr",
     "output_type": "stream",
     "text": [
      "loss: -0.9879: 100%|██████████| 280/280 [00:11<00:00, 24.77it/s]\n"
     ]
    },
    {
     "name": "stdout",
     "output_type": "stream",
     "text": [
      "epoch 462\n"
     ]
    },
    {
     "name": "stderr",
     "output_type": "stream",
     "text": [
      "loss: -1.0547: 100%|██████████| 280/280 [00:11<00:00, 24.62it/s]\n"
     ]
    },
    {
     "name": "stdout",
     "output_type": "stream",
     "text": [
      "epoch 463\n"
     ]
    },
    {
     "name": "stderr",
     "output_type": "stream",
     "text": [
      "loss: -0.7133: 100%|██████████| 280/280 [00:11<00:00, 24.33it/s]\n"
     ]
    },
    {
     "name": "stdout",
     "output_type": "stream",
     "text": [
      "epoch 464\n"
     ]
    },
    {
     "name": "stderr",
     "output_type": "stream",
     "text": [
      "loss: -1.0035: 100%|██████████| 280/280 [00:11<00:00, 24.30it/s]\n"
     ]
    },
    {
     "name": "stdout",
     "output_type": "stream",
     "text": [
      "epoch 465\n"
     ]
    },
    {
     "name": "stderr",
     "output_type": "stream",
     "text": [
      "loss: -0.8526: 100%|██████████| 280/280 [00:11<00:00, 25.29it/s]\n"
     ]
    },
    {
     "name": "stdout",
     "output_type": "stream",
     "text": [
      "epoch 466\n"
     ]
    },
    {
     "name": "stderr",
     "output_type": "stream",
     "text": [
      "loss: -0.9752: 100%|██████████| 280/280 [00:11<00:00, 24.69it/s]\n"
     ]
    },
    {
     "name": "stdout",
     "output_type": "stream",
     "text": [
      "epoch 467\n"
     ]
    },
    {
     "name": "stderr",
     "output_type": "stream",
     "text": [
      "loss: -1.0327: 100%|██████████| 280/280 [00:11<00:00, 24.06it/s]\n"
     ]
    },
    {
     "name": "stdout",
     "output_type": "stream",
     "text": [
      "epoch 468\n"
     ]
    },
    {
     "name": "stderr",
     "output_type": "stream",
     "text": [
      "loss: -0.7069: 100%|██████████| 280/280 [00:11<00:00, 24.18it/s]\n"
     ]
    },
    {
     "name": "stdout",
     "output_type": "stream",
     "text": [
      "epoch 469\n"
     ]
    },
    {
     "name": "stderr",
     "output_type": "stream",
     "text": [
      "loss: -1.1738: 100%|██████████| 280/280 [00:11<00:00, 24.20it/s]\n"
     ]
    },
    {
     "name": "stdout",
     "output_type": "stream",
     "text": [
      "epoch 470\n"
     ]
    },
    {
     "name": "stderr",
     "output_type": "stream",
     "text": [
      "loss: -1.0127: 100%|██████████| 280/280 [00:11<00:00, 24.32it/s]\n"
     ]
    },
    {
     "name": "stdout",
     "output_type": "stream",
     "text": [
      "epoch 471\n"
     ]
    },
    {
     "name": "stderr",
     "output_type": "stream",
     "text": [
      "loss: -1.0445: 100%|██████████| 280/280 [00:11<00:00, 23.96it/s]\n"
     ]
    },
    {
     "name": "stdout",
     "output_type": "stream",
     "text": [
      "epoch 472\n"
     ]
    },
    {
     "name": "stderr",
     "output_type": "stream",
     "text": [
      "loss: -0.9879: 100%|██████████| 280/280 [00:11<00:00, 25.34it/s]\n"
     ]
    },
    {
     "name": "stdout",
     "output_type": "stream",
     "text": [
      "epoch 473\n"
     ]
    },
    {
     "name": "stderr",
     "output_type": "stream",
     "text": [
      "loss: -0.9964: 100%|██████████| 280/280 [00:11<00:00, 25.42it/s]\n"
     ]
    },
    {
     "name": "stdout",
     "output_type": "stream",
     "text": [
      "epoch 474\n"
     ]
    },
    {
     "name": "stderr",
     "output_type": "stream",
     "text": [
      "loss: -1.0714: 100%|██████████| 280/280 [00:11<00:00, 23.53it/s]\n"
     ]
    },
    {
     "name": "stdout",
     "output_type": "stream",
     "text": [
      "epoch 475\n"
     ]
    },
    {
     "name": "stderr",
     "output_type": "stream",
     "text": [
      "loss: -1.1778: 100%|██████████| 280/280 [00:12<00:00, 23.17it/s]\n"
     ]
    },
    {
     "name": "stdout",
     "output_type": "stream",
     "text": [
      "epoch 476\n"
     ]
    },
    {
     "name": "stderr",
     "output_type": "stream",
     "text": [
      "loss: -0.7242: 100%|██████████| 280/280 [00:11<00:00, 24.49it/s]\n"
     ]
    },
    {
     "name": "stdout",
     "output_type": "stream",
     "text": [
      "epoch 477\n"
     ]
    },
    {
     "name": "stderr",
     "output_type": "stream",
     "text": [
      "loss: -0.8276: 100%|██████████| 280/280 [00:11<00:00, 24.23it/s]\n"
     ]
    },
    {
     "name": "stdout",
     "output_type": "stream",
     "text": [
      "epoch 478\n"
     ]
    },
    {
     "name": "stderr",
     "output_type": "stream",
     "text": [
      "loss: -1.3395: 100%|██████████| 280/280 [00:11<00:00, 24.09it/s]\n"
     ]
    },
    {
     "name": "stdout",
     "output_type": "stream",
     "text": [
      "epoch 479\n"
     ]
    },
    {
     "name": "stderr",
     "output_type": "stream",
     "text": [
      "loss: -1.1688: 100%|██████████| 280/280 [00:11<00:00, 24.20it/s]\n"
     ]
    },
    {
     "name": "stdout",
     "output_type": "stream",
     "text": [
      "epoch 480\n"
     ]
    },
    {
     "name": "stderr",
     "output_type": "stream",
     "text": [
      "loss: -1.2770: 100%|██████████| 280/280 [00:10<00:00, 25.47it/s]\n"
     ]
    },
    {
     "name": "stdout",
     "output_type": "stream",
     "text": [
      "epoch 481\n"
     ]
    },
    {
     "name": "stderr",
     "output_type": "stream",
     "text": [
      "loss: -1.4063: 100%|██████████| 280/280 [00:11<00:00, 25.33it/s]\n"
     ]
    },
    {
     "name": "stdout",
     "output_type": "stream",
     "text": [
      "epoch 482\n"
     ]
    },
    {
     "name": "stderr",
     "output_type": "stream",
     "text": [
      "loss: -1.5518: 100%|██████████| 280/280 [00:11<00:00, 24.63it/s]\n"
     ]
    },
    {
     "name": "stdout",
     "output_type": "stream",
     "text": [
      "epoch 483\n"
     ]
    },
    {
     "name": "stderr",
     "output_type": "stream",
     "text": [
      "loss: -1.4276: 100%|██████████| 280/280 [00:11<00:00, 24.15it/s]\n"
     ]
    },
    {
     "name": "stdout",
     "output_type": "stream",
     "text": [
      "epoch 484\n"
     ]
    },
    {
     "name": "stderr",
     "output_type": "stream",
     "text": [
      "loss: -1.2426: 100%|██████████| 280/280 [00:11<00:00, 24.58it/s]\n"
     ]
    },
    {
     "name": "stdout",
     "output_type": "stream",
     "text": [
      "epoch 485\n"
     ]
    },
    {
     "name": "stderr",
     "output_type": "stream",
     "text": [
      "loss: -0.9909: 100%|██████████| 280/280 [00:11<00:00, 24.41it/s]\n"
     ]
    },
    {
     "name": "stdout",
     "output_type": "stream",
     "text": [
      "epoch 486\n"
     ]
    },
    {
     "name": "stderr",
     "output_type": "stream",
     "text": [
      "loss: -1.1185: 100%|██████████| 280/280 [00:11<00:00, 23.52it/s]\n"
     ]
    },
    {
     "name": "stdout",
     "output_type": "stream",
     "text": [
      "epoch 487\n"
     ]
    },
    {
     "name": "stderr",
     "output_type": "stream",
     "text": [
      "loss: -1.4699: 100%|██████████| 280/280 [00:11<00:00, 23.92it/s]\n"
     ]
    },
    {
     "name": "stdout",
     "output_type": "stream",
     "text": [
      "epoch 488\n"
     ]
    },
    {
     "name": "stderr",
     "output_type": "stream",
     "text": [
      "loss: -0.6349: 100%|██████████| 280/280 [00:11<00:00, 23.68it/s]\n"
     ]
    },
    {
     "name": "stdout",
     "output_type": "stream",
     "text": [
      "epoch 489\n"
     ]
    },
    {
     "name": "stderr",
     "output_type": "stream",
     "text": [
      "loss: -1.2388: 100%|██████████| 280/280 [00:11<00:00, 23.54it/s]\n"
     ]
    },
    {
     "name": "stdout",
     "output_type": "stream",
     "text": [
      "epoch 490\n"
     ]
    },
    {
     "name": "stderr",
     "output_type": "stream",
     "text": [
      "loss: -1.1829: 100%|██████████| 280/280 [00:11<00:00, 24.20it/s]\n"
     ]
    },
    {
     "name": "stdout",
     "output_type": "stream",
     "text": [
      "epoch 491\n"
     ]
    },
    {
     "name": "stderr",
     "output_type": "stream",
     "text": [
      "loss: -1.0337: 100%|██████████| 280/280 [00:11<00:00, 23.85it/s]\n"
     ]
    },
    {
     "name": "stdout",
     "output_type": "stream",
     "text": [
      "epoch 492\n"
     ]
    },
    {
     "name": "stderr",
     "output_type": "stream",
     "text": [
      "loss: -0.9661: 100%|██████████| 280/280 [00:11<00:00, 23.63it/s]\n"
     ]
    },
    {
     "name": "stdout",
     "output_type": "stream",
     "text": [
      "epoch 493\n"
     ]
    },
    {
     "name": "stderr",
     "output_type": "stream",
     "text": [
      "loss: -1.0410: 100%|██████████| 280/280 [00:11<00:00, 23.99it/s]\n"
     ]
    },
    {
     "name": "stdout",
     "output_type": "stream",
     "text": [
      "epoch 494\n"
     ]
    },
    {
     "name": "stderr",
     "output_type": "stream",
     "text": [
      "loss: 3.0355: 100%|██████████| 280/280 [00:12<00:00, 23.13it/s] \n"
     ]
    },
    {
     "name": "stdout",
     "output_type": "stream",
     "text": [
      "epoch 495\n"
     ]
    },
    {
     "name": "stderr",
     "output_type": "stream",
     "text": [
      "loss: 4.8153: 100%|██████████| 280/280 [00:11<00:00, 24.82it/s] \n"
     ]
    },
    {
     "name": "stdout",
     "output_type": "stream",
     "text": [
      "epoch 496\n"
     ]
    },
    {
     "name": "stderr",
     "output_type": "stream",
     "text": [
      "loss: 4.6795: 100%|██████████| 280/280 [00:11<00:00, 24.13it/s] \n"
     ]
    },
    {
     "name": "stdout",
     "output_type": "stream",
     "text": [
      "epoch 497\n"
     ]
    },
    {
     "name": "stderr",
     "output_type": "stream",
     "text": [
      "loss: 2.5668: 100%|██████████| 280/280 [00:11<00:00, 24.08it/s]\n"
     ]
    },
    {
     "name": "stdout",
     "output_type": "stream",
     "text": [
      "epoch 498\n"
     ]
    },
    {
     "name": "stderr",
     "output_type": "stream",
     "text": [
      "loss: 2.9748: 100%|██████████| 280/280 [00:11<00:00, 23.84it/s]\n"
     ]
    },
    {
     "name": "stdout",
     "output_type": "stream",
     "text": [
      "epoch 499\n"
     ]
    },
    {
     "name": "stderr",
     "output_type": "stream",
     "text": [
      "loss: 5.3982: 100%|██████████| 280/280 [00:11<00:00, 24.12it/s] \n"
     ]
    }
   ],
   "source": [
    "def train(epoch):\n",
    "    print(f'epoch {epoch}')\n",
    "    var_model.train()\n",
    "    pbar = tqdm(train_dataloader)\n",
    "    # for batch_idx, (data, target) in enumerate(train_loader):\n",
    "    for data, target in pbar:\n",
    "        data, target = data.cuda(), target.cuda()\n",
    "        data, target = Variable(data), Variable(target)\n",
    "        if(data.shape[0] != 16):\n",
    "            continue\n",
    "        # torch.Size([16, 3, 128, 128])\n",
    "        optimizer.zero_grad()\n",
    "        output = var_model(data)\n",
    "        loss = 0\n",
    "        for i in range (0,target.shape[0]):\n",
    "            dist = torch.distributions.normal.Normal(output[0][i], output[1][i])\n",
    "            loss_per_image = -dist.log_prob(target[i])\n",
    "            # if (loss_per_image < 0) :\n",
    "            #   print(\"mean:\", output[0][i].item(), \"variance:\", output[1][i].item(), \"target:\", target[i].item())\n",
    "            loss += loss_per_image\n",
    "        loss = loss/target.shape[0]\n",
    "        loss.backward()\n",
    "        pbar.set_description(f\"loss: {loss.item():.4f}\")\n",
    "        optimizer.step()\n",
    "#def train_VI():\n",
    "for epoch in range(1, n_epoch):\n",
    "    train(epoch)"
   ]
  },
  {
   "cell_type": "code",
   "execution_count": 18,
   "id": "c0b33d0a",
   "metadata": {},
   "outputs": [
    {
     "name": "stdout",
     "output_type": "stream",
     "text": [
      "saved model at /home/aidanxue/variational_inference/pyvarinf_git/pyvarinf/outputmodel.pth\n"
     ]
    }
   ],
   "source": [
    "# SAVE MODEL\n",
    "torch.save(var_model.state_dict(), save_dir + \"/model_0417_pool_500_gen_new_.pth\")\n",
    "print('saved model at ' + save_dir + \"model.pth\")"
   ]
  },
  {
   "cell_type": "code",
   "execution_count": 14,
   "id": "3a2fed55",
   "metadata": {},
   "outputs": [
    {
     "data": {
      "text/plain": [
       "<All keys matched successfully>"
      ]
     },
     "execution_count": 14,
     "metadata": {},
     "output_type": "execute_result"
    }
   ],
   "source": [
    "# LOAD MODEL\n",
    "# Load the model weights from a .pth file\n",
    "checkpoint = torch.load('/home/aidanxue/variational_inference/pyvarinf_git/pyvarinf/output/model_0421_pool_200_flux_gen.pth')\n",
    "# Load the state_dict from the checkpoint\n",
    "model.load_state_dict(checkpoint)"
   ]
  },
  {
   "cell_type": "code",
   "execution_count": 18,
   "id": "a19ea648",
   "metadata": {},
   "outputs": [],
   "source": [
    "# INFERENCE\n",
    "def inference_VI(confidence):\n",
    "    var_model.eval()  \n",
    "    with torch.no_grad():  \n",
    "        total_in_interval = 0\n",
    "        total_sample = 0\n",
    "        for data, target in val_dataloader: \n",
    "            data, target = data.cuda(), target.cuda()\n",
    "            output = var_model(data)  \n",
    "            num_samples = output[0].shape[0]  \n",
    "            confidence_level = confidence  \n",
    "            alpha = 1 - confidence_level\n",
    "            z_score = scipy.stats.norm.ppf(1 - alpha/2)\n",
    "            lower_bound = output[0] - z_score * output[1]\n",
    "            lower_bound = lower_bound[:, 0]\n",
    "            upper_bound = output[0] + z_score * output[1]\n",
    "            upper_bound = upper_bound[:, 0]\n",
    "            # print(\"shape\", target.shape, lower_bound.shape)\n",
    "            # print(\"ge\",torch.ge(target, lower_bound).shape )\n",
    "            # print(\"ge\",torch.ge(target, lower_bound) )\n",
    "            is_in_interval = torch.logical_and(torch.ge(target, lower_bound), torch.ge(upper_bound, target))\n",
    "            # if (confidence_level == 0.6):\n",
    "            #     print(z_score)\n",
    "            # print(\"variance:\", output[1])\n",
    "            # print(\"lower:\", lower_bound)\n",
    "            # print(\"target:\", target)\n",
    "            # print(\"upper:\",upper_bound)\n",
    "            total_in_interval += torch.sum(is_in_interval)\n",
    "            total_sample += num_samples\n",
    "            # print(1, is_in_interval)\n",
    "        confidence = total_in_interval / total_sample\n",
    "        print(total_in_interval, total_sample)\n",
    "        print(f'Confidence Interval: {confidence.item():.4f}')\n",
    "        return confidence.item()\n"
   ]
  },
  {
   "cell_type": "code",
   "execution_count": 15,
   "id": "7cea73b1",
   "metadata": {},
   "outputs": [
    {
     "name": "stdout",
     "output_type": "stream",
     "text": [
      "variance: tensor([[0.0210],\n",
      "        [0.0227],\n",
      "        [0.0290],\n",
      "        [0.0211],\n",
      "        [0.0971],\n",
      "        [0.0324],\n",
      "        [0.0898],\n",
      "        [0.0352],\n",
      "        [0.0308],\n",
      "        [0.2385],\n",
      "        [0.0264],\n",
      "        [0.0479],\n",
      "        [0.0403],\n",
      "        [0.0218],\n",
      "        [0.0243],\n",
      "        [0.0364]], device='cuda:0')\n",
      "lower: tensor([0.2760, 0.1818, 0.3335, 0.2098, 0.6565, 0.1245, 0.5845, 0.3866, 0.1653,\n",
      "        0.9408, 0.3218, 0.4313, 0.3881, 0.2571, 0.1843, 0.4043],\n",
      "       device='cuda:0')\n",
      "target: tensor([10.8400, 10.9600, 10.6000, 10.6300, 10.8000, 10.9600, 10.9300, 10.9900,\n",
      "        10.5100, 10.7400, 10.4100, 10.9200, 10.5100, 10.5800, 10.6000, 10.5100],\n",
      "       device='cuda:0', dtype=torch.float64)\n",
      "upper: tensor([0.2866, 0.1933, 0.3482, 0.2205, 0.7057, 0.1409, 0.6300, 0.4044, 0.1809,\n",
      "        1.0616, 0.3351, 0.4555, 0.4085, 0.2681, 0.1966, 0.4227],\n",
      "       device='cuda:0')\n",
      "variance: tensor([[0.1006],\n",
      "        [0.1441],\n",
      "        [0.0288],\n",
      "        [0.0269],\n",
      "        [0.1722],\n",
      "        [0.0220],\n",
      "        [0.0490],\n",
      "        [0.2989],\n",
      "        [0.0531],\n",
      "        [0.0309],\n",
      "        [0.0286],\n",
      "        [0.0239],\n",
      "        [0.0253],\n",
      "        [0.0211],\n",
      "        [0.3833],\n",
      "        [0.5746]], device='cuda:0')\n",
      "lower: tensor([0.5915, 0.6972, 0.2363, 0.1654, 0.7365, 0.2717, 0.4834, 1.0541, 0.4995,\n",
      "        0.3407, 0.3235, 0.1700, 0.3186, 0.2464, 1.1447, 1.1262],\n",
      "       device='cuda:0')\n",
      "target: tensor([10.9300, 10.5200, 10.6000, 10.6000, 10.9900, 10.5800, 10.5100, 10.5100,\n",
      "        10.8400, 10.9900, 10.5100, 10.4500, 10.4100, 10.9600, 10.7400, 10.8700],\n",
      "       device='cuda:0', dtype=torch.float64)\n",
      "upper: tensor([0.6424, 0.7702, 0.2509, 0.1790, 0.8237, 0.2828, 0.5082, 1.2056, 0.5264,\n",
      "        0.3564, 0.3380, 0.1821, 0.3314, 0.2571, 1.3389, 1.4174],\n",
      "       device='cuda:0')\n",
      "variance: tensor([[0.0476],\n",
      "        [0.1385],\n",
      "        [0.0294],\n",
      "        [0.0806],\n",
      "        [0.0389],\n",
      "        [0.0333],\n",
      "        [0.0458],\n",
      "        [0.0210],\n",
      "        [0.0244],\n",
      "        [0.0225],\n",
      "        [0.0985],\n",
      "        [0.0227],\n",
      "        [0.0481],\n",
      "        [0.0381],\n",
      "        [0.1745],\n",
      "        [0.0266]], device='cuda:0')\n",
      "lower: tensor([0.4306, 0.8007, 0.3500, 0.5527, 0.4381, 0.1259, 0.4263, 0.2710, 0.1814,\n",
      "        0.2933, 0.6748, 0.1820, 0.4302, 0.4118, 0.7613, 0.1934],\n",
      "       device='cuda:0')\n",
      "target: tensor([10.7400, 10.8700, 10.8700, 10.8500, 10.9200, 10.9600, 10.7400, 10.6400,\n",
      "        10.9600, 11.0300, 10.8000, 10.9600, 10.7400, 10.8500, 10.9900, 10.6400],\n",
      "       device='cuda:0', dtype=torch.float64)\n",
      "upper: tensor([0.4547, 0.8709, 0.3649, 0.5935, 0.4578, 0.1428, 0.4495, 0.2817, 0.1938,\n",
      "        0.3047, 0.7247, 0.1936, 0.4546, 0.4311, 0.8497, 0.2069],\n",
      "       device='cuda:0')\n",
      "variance: tensor([[0.0214],\n",
      "        [0.1986],\n",
      "        [0.2516],\n",
      "        [0.0216],\n",
      "        [0.0332],\n",
      "        [0.0217],\n",
      "        [0.0207],\n",
      "        [0.0444],\n",
      "        [0.0540],\n",
      "        [0.0499],\n",
      "        [0.0566],\n",
      "        [0.0213],\n",
      "        [0.0199],\n",
      "        [0.0420],\n",
      "        [0.0242],\n",
      "        [0.0260]], device='cuda:0')\n",
      "lower: tensor([0.2654, 0.8674, 0.9886, 0.2589, 0.1260, 0.2089, 0.2659, 0.4546, 0.4292,\n",
      "        0.4357, 0.5218, 0.2395, 0.2547, 0.4510, 0.1760, 0.3209],\n",
      "       device='cuda:0')\n",
      "target: tensor([10.5800, 10.8700, 10.8000, 10.5800, 10.9600, 10.6300, 10.5100, 10.5100,\n",
      "        10.7400, 10.9200, 10.6300, 10.6300, 10.9300, 11.0300, 10.4500, 10.4100],\n",
      "       device='cuda:0', dtype=torch.float64)\n",
      "upper: tensor([0.2762, 0.9681, 1.1161, 0.2698, 0.1429, 0.2199, 0.2764, 0.4771, 0.4566,\n",
      "        0.4610, 0.5505, 0.2503, 0.2648, 0.4722, 0.1882, 0.3341],\n",
      "       device='cuda:0')\n",
      "variance: tensor([[0.0236],\n",
      "        [0.0902],\n",
      "        [0.1014],\n",
      "        [0.0408],\n",
      "        [0.0254],\n",
      "        [0.0479],\n",
      "        [0.0462],\n",
      "        [0.0478],\n",
      "        [0.0316],\n",
      "        [0.2357],\n",
      "        [0.0212],\n",
      "        [0.0324],\n",
      "        [0.0254],\n",
      "        [0.0440],\n",
      "        [0.0315],\n",
      "        [0.0313]], device='cuda:0')\n",
      "lower: tensor([0.2258, 0.5631, 0.5830, 0.4069, 0.3515, 0.4641, 0.4260, 0.4528, 0.1193,\n",
      "        0.9001, 0.2739, 0.1240, 0.3503, 0.4549, 0.1202, 0.3406],\n",
      "       device='cuda:0')\n",
      "target: tensor([10.8400, 11.0100, 10.9300, 10.8000, 10.9300, 11.0300, 10.9200, 11.0300,\n",
      "        10.3800, 10.5200, 10.8400, 10.9600, 10.9300, 11.0300, 10.3800, 10.9900],\n",
      "       device='cuda:0', dtype=torch.float64)\n",
      "upper: tensor([0.2377, 0.6088, 0.6344, 0.4275, 0.3643, 0.4883, 0.4495, 0.4770, 0.1353,\n",
      "        1.0195, 0.2846, 0.1404, 0.3632, 0.4772, 0.1362, 0.3565],\n",
      "       device='cuda:0')\n",
      "variance: tensor([[0.0301],\n",
      "        [0.0218],\n",
      "        [0.0208],\n",
      "        [0.0274],\n",
      "        [0.0212],\n",
      "        [0.1840],\n",
      "        [0.1046],\n",
      "        [0.0381],\n",
      "        [0.2550],\n",
      "        [0.0498],\n",
      "        [0.0262],\n",
      "        [0.0265],\n",
      "        [0.0437],\n",
      "        [0.1989],\n",
      "        [0.0392],\n",
      "        [0.0319]], device='cuda:0')\n",
      "lower: tensor([0.3304, 0.3011, 0.2460, 0.1919, 0.2361, 0.8373, 0.5940, 0.4116, 0.9454,\n",
      "        0.4223, 0.1692, 0.3220, 0.4633, 0.8539, 0.4133, 0.3532],\n",
      "       device='cuda:0')\n",
      "target: tensor([10.5100, 10.6400, 10.9300, 10.6400, 10.5100, 10.8000, 10.9300, 10.5100,\n",
      "        10.5200, 10.9300, 10.4500, 10.5100, 11.0300, 10.8700, 10.8500, 10.8700],\n",
      "       device='cuda:0', dtype=torch.float64)\n",
      "upper: tensor([0.3456, 0.3121, 0.2565, 0.2058, 0.2468, 0.9305, 0.6469, 0.4309, 1.0747,\n",
      "        0.4476, 0.1825, 0.3355, 0.4854, 0.9547, 0.4332, 0.3694],\n",
      "       device='cuda:0')\n",
      "variance: tensor([[0.0232],\n",
      "        [0.0217],\n",
      "        [0.1958],\n",
      "        [0.0211],\n",
      "        [0.0466],\n",
      "        [0.0230],\n",
      "        [0.0242],\n",
      "        [0.0380],\n",
      "        [0.0327],\n",
      "        [0.0394],\n",
      "        [0.1000],\n",
      "        [0.0417],\n",
      "        [0.0299],\n",
      "        [0.1946],\n",
      "        [0.0208],\n",
      "        [0.0378]], device='cuda:0')\n",
      "lower: tensor([0.2987, 0.2097, 0.8699, 0.2205, 0.4509, 0.2979, 0.1827, 0.4174, 0.3784,\n",
      "        0.4268, 0.5865, 0.3910, 0.3570, 0.8942, 0.2703, 0.3794],\n",
      "       device='cuda:0')\n",
      "target: tensor([10.4100, 10.6300, 10.8000, 10.9300, 10.9200, 10.4100, 10.6000, 10.8500,\n",
      "        11.0100, 10.9200, 10.9300, 10.5100, 10.8700, 11.0100, 10.6400, 10.5100],\n",
      "       device='cuda:0', dtype=torch.float64)\n",
      "upper: tensor([0.3105, 0.2207, 0.9691, 0.2312, 0.4745, 0.3096, 0.1950, 0.4366, 0.3949,\n",
      "        0.4468, 0.6372, 0.4121, 0.3722, 0.9928, 0.2808, 0.3986],\n",
      "       device='cuda:0')\n",
      "variance: tensor([[0.0433],\n",
      "        [0.0224],\n",
      "        [0.0223],\n",
      "        [0.0347],\n",
      "        [0.0212],\n",
      "        [0.0213],\n",
      "        [0.0261],\n",
      "        [0.0240],\n",
      "        [0.0325],\n",
      "        [0.0219],\n",
      "        [0.0399],\n",
      "        [0.0310],\n",
      "        [0.0305],\n",
      "        [0.0326],\n",
      "        [0.0476],\n",
      "        [0.0206]], device='cuda:0')\n",
      "lower: tensor([0.4106, 0.2926, 0.2272, 0.0667, 0.2632, 0.2395, 0.1727, 0.1711, 0.1050,\n",
      "        0.2745, 0.4363, 0.1768, 0.1651, 0.1028, 0.4250, 0.2500],\n",
      "       device='cuda:0')\n",
      "target: tensor([10.8000, 11.0300, 10.8400, 10.3800, 10.5800, 10.6300, 10.6000, 10.4500,\n",
      "        10.3800, 10.5800, 10.9200, 10.9300, 10.5100, 10.3800, 10.9200, 10.9300],\n",
      "       device='cuda:0', dtype=torch.float64)\n",
      "upper: tensor([0.4325, 0.3040, 0.2385, 0.0843, 0.2739, 0.2503, 0.1860, 0.1832, 0.1214,\n",
      "        0.2856, 0.4565, 0.1925, 0.1805, 0.1193, 0.4491, 0.2604],\n",
      "       device='cuda:0')\n",
      "variance: tensor([[0.0235],\n",
      "        [0.2332],\n",
      "        [0.0275],\n",
      "        [0.0435],\n",
      "        [0.0258],\n",
      "        [0.0254],\n",
      "        [0.1678],\n",
      "        [3.0827],\n",
      "        [0.0249],\n",
      "        [0.0251],\n",
      "        [0.0823],\n",
      "        [0.0274],\n",
      "        [0.0258],\n",
      "        [0.0215],\n",
      "        [0.1692],\n",
      "        [0.0412]], device='cuda:0')\n",
      "lower: tensor([0.2918, 0.9478, 0.1633, 0.4564, 0.2932, 0.3202, 0.7294, 1.0899, 0.3080,\n",
      "        0.1721, 0.5451, 0.2867, 0.1750, 0.2695, 0.8785, 0.4180],\n",
      "       device='cuda:0')\n",
      "target: tensor([10.4500, 10.7400, 10.6000, 11.0300, 10.7400, 10.4100, 10.9900, 10.8700,\n",
      "        10.4100, 10.6000, 10.8500, 10.7400, 10.6000, 10.5100, 11.0100, 10.8000],\n",
      "       device='cuda:0', dtype=torch.float64)\n",
      "upper: tensor([0.3037, 1.0659, 0.1773, 0.4785, 0.3063, 0.3331, 0.8144, 2.6519, 0.3206,\n",
      "        0.1849, 0.5868, 0.3005, 0.1880, 0.2805, 0.9642, 0.4389],\n",
      "       device='cuda:0')\n",
      "variance: tensor([[0.0241],\n",
      "        [0.0329],\n",
      "        [0.0246],\n",
      "        [0.0212],\n",
      "        [0.1592],\n",
      "        [0.0334],\n",
      "        [0.0312],\n",
      "        [0.1429],\n",
      "        [0.0357],\n",
      "        [0.0365],\n",
      "        [0.0209],\n",
      "        [0.0429],\n",
      "        [0.0254],\n",
      "        [0.0269],\n",
      "        [0.0347],\n",
      "        [0.1454]], device='cuda:0')\n",
      "lower: tensor([0.1848, 0.1023, 0.2809, 0.2693, 0.8603, 0.3809, 0.1764, 0.6647, 0.3799,\n",
      "        0.4083, 0.2463, 0.4208, 0.2912, 0.3680, 0.3809, 0.6929],\n",
      "       device='cuda:0')\n",
      "target: tensor([10.6000, 10.3800, 10.4500, 10.5100, 11.0100, 10.9900, 10.9300, 10.5200,\n",
      "        10.9900, 10.8500, 10.9600, 10.9300, 10.7400, 10.9300, 10.9900, 10.5200],\n",
      "       device='cuda:0', dtype=torch.float64)\n",
      "upper: tensor([0.1970, 0.1190, 0.2934, 0.2801, 0.9409, 0.3978, 0.1921, 0.7371, 0.3980,\n",
      "        0.4268, 0.2569, 0.4425, 0.3040, 0.3817, 0.3985, 0.7665],\n",
      "       device='cuda:0')\n",
      "variance: tensor([[0.1664],\n",
      "        [0.0220],\n",
      "        [0.0255],\n",
      "        [0.0377],\n",
      "        [0.0368],\n",
      "        [0.0258],\n",
      "        [0.0367],\n",
      "        [0.0804],\n",
      "        [0.1032],\n",
      "        [0.0713],\n",
      "        [0.0219],\n",
      "        [0.0336],\n",
      "        [0.0347],\n",
      "        [0.1502],\n",
      "        [0.0477],\n",
      "        [0.0210]], device='cuda:0')\n",
      "lower: tensor([0.8707, 0.2979, 0.3106, 0.4235, 0.4067, 0.3498, 0.4098, 0.5553, 0.6787,\n",
      "        0.4776, 0.3015, 0.0705, 0.0664, 0.6823, 0.4682, 0.2462],\n",
      "       device='cuda:0')\n",
      "target: tensor([10.8700, 10.6400, 10.4100, 10.8500, 10.5100, 10.9300, 10.4500, 10.8500,\n",
      "        10.8000, 10.5200, 10.6400, 10.3800, 10.3800, 10.5200, 11.0300, 10.9600],\n",
      "       device='cuda:0', dtype=torch.float64)\n",
      "upper: tensor([0.9550, 0.3090, 0.3235, 0.4426, 0.4253, 0.3628, 0.4283, 0.5960, 0.7311,\n",
      "        0.5138, 0.3126, 0.0875, 0.0839, 0.7584, 0.4923, 0.2568],\n",
      "       device='cuda:0')\n",
      "variance: tensor([[0.0219],\n",
      "        [0.2961],\n",
      "        [0.0389],\n",
      "        [0.0220],\n",
      "        [0.0367],\n",
      "        [0.0211],\n",
      "        [0.0210],\n",
      "        [0.0304],\n",
      "        [0.0525],\n",
      "        [0.0359],\n",
      "        [0.0510],\n",
      "        [0.1571],\n",
      "        [0.0231],\n",
      "        [0.0211],\n",
      "        [0.0213],\n",
      "        [0.2528]], device='cuda:0')\n",
      "lower: tensor([0.2751, 0.9877, 0.4295, 0.2257, 0.4210, 0.2723, 0.2727, 0.3394, 0.5085,\n",
      "        0.4105, 0.4743, 0.7077, 0.2982, 0.2410, 0.2665, 0.9172],\n",
      "       device='cuda:0')\n",
      "target: tensor([10.5800, 10.5200, 10.8500, 10.9300, 10.4500, 10.6400, 10.8400, 10.9900,\n",
      "        10.8400, 10.8500, 10.5100, 10.9900, 10.4100, 10.6300, 10.5800, 10.5200],\n",
      "       device='cuda:0', dtype=torch.float64)\n",
      "upper: tensor([0.2862, 1.1377, 0.4493, 0.2368, 0.4396, 0.2829, 0.2833, 0.3548, 0.5351,\n",
      "        0.4287, 0.5002, 0.7873, 0.3099, 0.2517, 0.2773, 1.0453],\n",
      "       device='cuda:0')\n",
      "variance: tensor([[0.0220],\n",
      "        [0.0578],\n",
      "        [0.2015],\n",
      "        [0.0536],\n",
      "        [0.0272],\n",
      "        [0.0236],\n",
      "        [0.0949],\n",
      "        [0.0984],\n",
      "        [0.0213],\n",
      "        [0.0536],\n",
      "        [0.3294],\n",
      "        [0.0287],\n",
      "        [0.0215],\n",
      "        [0.0892],\n",
      "        [0.0229],\n",
      "        [0.2066]], device='cuda:0')\n",
      "lower: tensor([0.2228, 0.5203, 0.7605, 0.5016, 0.1686, 0.2899, 0.5774, 0.5777, 0.2578,\n",
      "        0.5039, 1.0794, 0.2370, 0.2487, 0.5816, 0.2998, 0.7666],\n",
      "       device='cuda:0')\n",
      "target: tensor([10.9300, 10.6300, 10.6000, 10.8400, 10.6000, 10.4500, 10.9300, 10.9300,\n",
      "        10.5800, 10.8400, 10.7400, 10.6000, 10.5100, 10.9300, 10.4100, 10.6000],\n",
      "       device='cuda:0', dtype=torch.float64)\n",
      "upper: tensor([0.2340, 0.5496, 0.8626, 0.5287, 0.1823, 0.3019, 0.6255, 0.6275, 0.2686,\n",
      "        0.5311, 1.2463, 0.2516, 0.2596, 0.6268, 0.3114, 0.8713],\n",
      "       device='cuda:0')\n",
      "variance: tensor([[0.1884],\n",
      "        [0.0274],\n",
      "        [0.0214],\n",
      "        [0.0269],\n",
      "        [0.0214],\n",
      "        [0.0215],\n",
      "        [0.0314],\n",
      "        [0.0427],\n",
      "        [0.0599],\n",
      "        [0.0570],\n",
      "        [0.0923],\n",
      "        [0.0447],\n",
      "        [0.0373],\n",
      "        [0.0298],\n",
      "        [0.0260],\n",
      "        [0.0215]], device='cuda:0')\n",
      "lower: tensor([0.7633, 0.1678, 0.2491, 0.3253, 0.2708, 0.2713, 0.1199, 0.4553, 0.5213,\n",
      "        0.4463, 0.5695, 0.4224, 0.4012, 0.3412, 0.3496, 0.2395],\n",
      "       device='cuda:0')\n",
      "target: tensor([10.6000, 10.6000, 10.5100, 10.5100, 10.5100, 10.5800, 10.3800, 11.0300,\n",
      "        10.6300, 10.5200, 11.0100, 10.9300, 10.5100, 10.9900, 10.9300, 10.6300],\n",
      "       device='cuda:0', dtype=torch.float64)\n",
      "upper: tensor([0.8588, 0.1816, 0.2600, 0.3389, 0.2816, 0.2822, 0.1358, 0.4769, 0.5517,\n",
      "        0.4751, 0.6163, 0.4451, 0.4201, 0.3563, 0.3628, 0.2504],\n",
      "       device='cuda:0')\n",
      "variance: tensor([[0.0280],\n",
      "        [0.0313],\n",
      "        [0.0383],\n",
      "        [0.0268],\n",
      "        [0.1738],\n",
      "        [0.0478],\n",
      "        [0.0216],\n",
      "        [0.0304],\n",
      "        [0.0326],\n",
      "        [0.0209],\n",
      "        [0.2085],\n",
      "        [0.1900],\n",
      "        [0.0490],\n",
      "        [0.0682],\n",
      "        [0.0204],\n",
      "        [0.0871]], device='cuda:0')\n",
      "lower: tensor([0.2351, 0.1781, 0.4276, 0.2955, 0.8098, 0.4493, 0.2362, 0.1661, 0.1045,\n",
      "        0.2197, 0.8411, 0.8835, 0.4240, 0.4713, 0.2732, 0.5777],\n",
      "       device='cuda:0')\n",
      "target: tensor([10.6000, 10.9300, 10.4500, 10.7400, 10.8700, 10.9200, 10.5100, 10.5100,\n",
      "        10.3800, 10.9300, 10.5100, 11.0100, 10.9300, 10.5200, 10.8400, 10.9300],\n",
      "       device='cuda:0', dtype=torch.float64)\n",
      "upper: tensor([0.2493, 0.1940, 0.4470, 0.3091, 0.8978, 0.4735, 0.2472, 0.1815, 0.1210,\n",
      "        0.2302, 0.9467, 0.9798, 0.4488, 0.5059, 0.2835, 0.6219],\n",
      "       device='cuda:0')\n",
      "variance: tensor([[0.0215],\n",
      "        [0.0217],\n",
      "        [0.0219],\n",
      "        [0.0317],\n",
      "        [0.0371],\n",
      "        [0.0796],\n",
      "        [0.0861],\n",
      "        [0.1038],\n",
      "        [0.0300],\n",
      "        [0.0254],\n",
      "        [0.0600],\n",
      "        [0.0226],\n",
      "        [0.1052],\n",
      "        [0.2665],\n",
      "        [0.2343],\n",
      "        [0.0308]], device='cuda:0')\n",
      "lower: tensor([0.2568, 0.2342, 0.2364, 0.3772, 0.4185, 0.5467, 0.5660, 0.5773, 0.3513,\n",
      "        0.1720, 0.5216, 0.2265, 0.6832, 0.9917, 0.9536, 0.1778],\n",
      "       device='cuda:0')\n",
      "target: tensor([10.5800, 10.5100, 10.5100, 11.0100, 10.8500, 10.8500, 11.0100, 10.9300,\n",
      "        10.8700, 10.6000, 10.6300, 10.8400, 10.8000, 10.5100, 10.5100, 10.9300],\n",
      "       device='cuda:0', dtype=torch.float64)\n",
      "upper: tensor([0.2677, 0.2452, 0.2475, 0.3932, 0.4373, 0.5870, 0.6096, 0.6300, 0.3665,\n",
      "        0.1849, 0.5520, 0.2380, 0.7365, 1.1267, 1.0723, 0.1934],\n",
      "       device='cuda:0')\n",
      "variance: tensor([[0.0294],\n",
      "        [0.0267],\n",
      "        [0.0229],\n",
      "        [0.0219],\n",
      "        [0.1924],\n",
      "        [0.0276],\n",
      "        [0.1970],\n",
      "        [0.0920],\n",
      "        [0.0314],\n",
      "        [0.0314],\n",
      "        [0.0272],\n",
      "        [0.0214],\n",
      "        [0.0339],\n",
      "        [0.0242],\n",
      "        [0.0479],\n",
      "        [0.0246]], device='cuda:0')\n",
      "lower: tensor([0.3326, 0.3275, 0.2908, 0.2978, 0.8264, 0.3298, 0.7375, 0.5680, 0.1206,\n",
      "        0.3803, 0.3655, 0.2128, 0.0695, 0.1813, 0.4553, 0.3074],\n",
      "       device='cuda:0')\n",
      "target: tensor([10.6000, 10.6000, 11.0300, 10.6400, 10.8700, 10.6000, 10.6000, 11.0100,\n",
      "        10.3800, 11.0100, 10.9300, 10.6300, 10.3800, 10.9600, 10.5100, 10.4100],\n",
      "       device='cuda:0', dtype=torch.float64)\n",
      "upper: tensor([0.3475, 0.3410, 0.3024, 0.3089, 0.9239, 0.3438, 0.8374, 0.6146, 0.1365,\n",
      "        0.3962, 0.3793, 0.2236, 0.0866, 0.1935, 0.4795, 0.3199],\n",
      "       device='cuda:0')\n",
      "variance: tensor([[0.0232],\n",
      "        [0.0906],\n",
      "        [0.0388],\n",
      "        [0.0469],\n",
      "        [0.0263],\n",
      "        [0.0215],\n",
      "        [0.0475],\n",
      "        [0.0584],\n",
      "        [0.0202],\n",
      "        [0.0272],\n",
      "        [0.0233],\n",
      "        [0.0360],\n",
      "        [0.0269],\n",
      "        [0.0249],\n",
      "        [0.0365],\n",
      "        [0.0217]], device='cuda:0')\n",
      "lower: tensor([0.2860, 0.5886, 0.3873, 0.4432, 0.1941, 0.2482, 0.4493, 0.4430, 0.2522,\n",
      "        0.3640, 0.2953, 0.4212, 0.3675, 0.3079, 0.4182, 0.2469],\n",
      "       device='cuda:0')\n",
      "target: tensor([10.4500, 10.9300, 10.5100, 10.9200, 10.6400, 10.5100, 10.9200, 10.5200,\n",
      "        10.9300, 10.9300, 11.0300, 10.9200, 10.9300, 10.4100, 10.4500, 10.5100],\n",
      "       device='cuda:0', dtype=torch.float64)\n",
      "upper: tensor([0.2977, 0.6345, 0.4069, 0.4670, 0.2074, 0.2591, 0.4734, 0.4726, 0.2624,\n",
      "        0.3777, 0.3072, 0.4394, 0.3811, 0.3206, 0.4367, 0.2579],\n",
      "       device='cuda:0')\n",
      "variance: tensor([[0.2001],\n",
      "        [0.0278],\n",
      "        [0.0233],\n",
      "        [0.0212],\n",
      "        [0.0314],\n",
      "        [0.0210],\n",
      "        [0.0281],\n",
      "        [0.0235],\n",
      "        [0.0422],\n",
      "        [0.0334],\n",
      "        [0.1053],\n",
      "        [0.0208]], device='cuda:0')\n",
      "lower: tensor([0.8934, 0.1903, 0.2252, 0.2645, 0.1637, 0.2457, 0.2341, 0.1870, 0.4083,\n",
      "        0.3773, 0.5758, 0.2726], device='cuda:0')\n",
      "target: tensor([10.8000, 10.6400, 10.8400, 10.5800, 10.5100, 10.9600, 10.6000, 10.6000,\n",
      "        10.8000, 11.0100, 10.9300, 10.6400], device='cuda:0',\n",
      "       dtype=torch.float64)\n",
      "upper: tensor([0.9948, 0.2044, 0.2370, 0.2753, 0.1796, 0.2564, 0.2484, 0.1989, 0.4297,\n",
      "        0.3943, 0.6292, 0.2831], device='cuda:0')\n",
      "tensor(0, device='cuda:0') 300\n",
      "Confidence Interval: 0.0000\n",
      "variance: tensor([[0.1958],\n",
      "        [0.0304],\n",
      "        [0.2550],\n",
      "        [0.0219],\n",
      "        [0.0314],\n",
      "        [0.1946],\n",
      "        [0.0316],\n",
      "        [0.3833],\n",
      "        [0.0381],\n",
      "        [0.0208],\n",
      "        [0.5746],\n",
      "        [0.1038],\n",
      "        [0.0202],\n",
      "        [0.1053],\n",
      "        [0.0301],\n",
      "        [0.0219]], device='cuda:0')\n",
      "lower: tensor([0.8441, 0.1621, 0.9118, 0.2335, 0.3762, 0.8685, 0.1151, 1.0942, 0.4068,\n",
      "        0.2698, 1.0504, 0.5636, 0.2495, 0.5620, 0.3264, 0.2949],\n",
      "       device='cuda:0')\n",
      "target: tensor([10.8000, 10.5100, 10.5200, 10.5100, 11.0100, 11.0100, 10.3800, 10.7400,\n",
      "        10.8500, 10.6400, 10.8700, 10.9300, 10.9300, 10.9300, 10.5100, 10.6400],\n",
      "       device='cuda:0', dtype=torch.float64)\n",
      "upper: tensor([0.9950, 0.1855, 1.1083, 0.2504, 0.4004, 1.0185, 0.1395, 1.3895, 0.4361,\n",
      "        0.2859, 1.4932, 0.6437, 0.2651, 0.6431, 0.3496, 0.3118],\n",
      "       device='cuda:0')\n",
      "variance: tensor([[0.0214],\n",
      "        [0.1970],\n",
      "        [0.0255],\n",
      "        [0.0806],\n",
      "        [0.0971],\n",
      "        [0.0219],\n",
      "        [0.0239],\n",
      "        [0.0269],\n",
      "        [0.0314],\n",
      "        [0.0281],\n",
      "        [0.0368],\n",
      "        [0.0339],\n",
      "        [0.0920],\n",
      "        [0.0217],\n",
      "        [0.0871],\n",
      "        [0.0304]], device='cuda:0')\n",
      "lower: tensor([0.2626, 0.7115, 0.3072, 0.5420, 0.6436, 0.2722, 0.1669, 0.3645, 0.1157,\n",
      "        0.2304, 0.4018, 0.0650, 0.5558, 0.2068, 0.5663, 0.3354],\n",
      "       device='cuda:0')\n",
      "target: tensor([10.5800, 10.6000, 10.4100, 10.8500, 10.8000, 10.5800, 10.4500, 10.9300,\n",
      "        10.3800, 10.6000, 10.5100, 10.3800, 11.0100, 10.6300, 10.9300, 10.9900],\n",
      "       device='cuda:0', dtype=torch.float64)\n",
      "upper: tensor([0.2790, 0.8634, 0.3268, 0.6042, 0.7185, 0.2891, 0.1853, 0.3853, 0.1399,\n",
      "        0.2521, 0.4301, 0.0911, 0.6267, 0.2236, 0.6334, 0.3589],\n",
      "       device='cuda:0')\n",
      "variance: tensor([[0.0258],\n",
      "        [0.0312],\n",
      "        [0.0218],\n",
      "        [0.2385],\n",
      "        [0.0261],\n",
      "        [0.0213],\n",
      "        [0.0215],\n",
      "        [0.0217],\n",
      "        [0.0210],\n",
      "        [0.0207],\n",
      "        [0.0469],\n",
      "        [0.0290],\n",
      "        [0.0403],\n",
      "        [0.0378],\n",
      "        [0.0861],\n",
      "        [0.0458]], device='cuda:0')\n",
      "lower: tensor([0.1716, 0.1722, 0.2982, 0.9093, 0.1693, 0.2637, 0.2453, 0.2061, 0.2732,\n",
      "        0.2631, 0.4370, 0.3297, 0.3827, 0.3745, 0.5546, 0.4202],\n",
      "       device='cuda:0')\n",
      "target: tensor([10.6000, 10.9300, 10.6400, 10.7400, 10.6000, 10.5800, 10.5100, 10.6300,\n",
      "        10.8400, 10.5100, 10.9200, 10.6000, 10.5100, 10.5100, 11.0100, 10.7400],\n",
      "       device='cuda:0', dtype=torch.float64)\n",
      "upper: tensor([0.1914, 0.1963, 0.3150, 1.0931, 0.1894, 0.2801, 0.2619, 0.2228, 0.2894,\n",
      "        0.2791, 0.4731, 0.3520, 0.4138, 0.4036, 0.6210, 0.4556],\n",
      "       device='cuda:0')\n",
      "variance: tensor([[0.0447],\n",
      "        [0.0462],\n",
      "        [0.0478],\n",
      "        [0.0215],\n",
      "        [0.0713],\n",
      "        [0.0427],\n",
      "        [0.2961],\n",
      "        [0.0229],\n",
      "        [0.0429],\n",
      "        [0.0525],\n",
      "        [0.0476],\n",
      "        [0.2001],\n",
      "        [0.0275],\n",
      "        [0.0313],\n",
      "        [0.0210],\n",
      "        [0.2332]], device='cuda:0')\n",
      "lower: tensor([0.4165, 0.4199, 0.4465, 0.2367, 0.4682, 0.4497, 0.9486, 0.2968, 0.4151,\n",
      "        0.5016, 0.4243, 0.8670, 0.1597, 0.1740, 0.2682, 0.9170],\n",
      "       device='cuda:0')\n",
      "target: tensor([10.9300, 10.9200, 11.0300, 10.6300, 10.5200, 11.0300, 10.5200, 10.4100,\n",
      "        10.9300, 10.8400, 10.7400, 10.8000, 10.6000, 10.9300, 10.6400, 10.7400],\n",
      "       device='cuda:0', dtype=torch.float64)\n",
      "upper: tensor([0.4510, 0.4556, 0.4833, 0.2532, 0.5232, 0.4826, 1.1768, 0.3145, 0.4482,\n",
      "        0.5421, 0.4610, 1.0212, 0.1809, 0.1981, 0.2844, 1.0967],\n",
      "       device='cuda:0')\n",
      "variance: tensor([[0.0215],\n",
      "        [0.0269],\n",
      "        [0.2066],\n",
      "        [0.2085],\n",
      "        [0.0336],\n",
      "        [0.0211],\n",
      "        [0.1986],\n",
      "        [0.0498],\n",
      "        [0.0266],\n",
      "        [3.0827],\n",
      "        [0.0212],\n",
      "        [0.0260],\n",
      "        [0.0269],\n",
      "        [0.1571],\n",
      "        [0.1046],\n",
      "        [0.0326]], device='cuda:0')\n",
      "lower: tensor([0.2685, 0.1618, 0.7393, 0.8136, 0.0661, 0.2382, 0.8412, 0.4157, 0.1899,\n",
      "        0.6831, 0.2604, 0.3462, 0.3639, 0.6870, 0.5802, 0.0985],\n",
      "       device='cuda:0')\n",
      "target: tensor([10.5800, 10.6000, 10.6000, 10.5100, 10.3800, 10.6300, 10.8700, 10.9300,\n",
      "        10.6400, 10.8700, 10.5800, 10.9300, 10.9300, 10.9900, 10.9300, 10.3800],\n",
      "       device='cuda:0', dtype=torch.float64)\n",
      "upper: tensor([0.2850, 0.1825, 0.8986, 0.9742, 0.0920, 0.2545, 0.9943, 0.4542, 0.2104,\n",
      "        3.0587, 0.2767, 0.3662, 0.3846, 0.8081, 0.6607, 0.1236],\n",
      "       device='cuda:0')\n",
      "variance: tensor([[0.0199],\n",
      "        [0.0244],\n",
      "        [0.0249],\n",
      "        [0.0300],\n",
      "        [0.0531],\n",
      "        [0.0510],\n",
      "        [0.0236],\n",
      "        [0.0440],\n",
      "        [0.0373],\n",
      "        [0.0254],\n",
      "        [0.0305],\n",
      "        [0.0490],\n",
      "        [0.0208],\n",
      "        [0.0232],\n",
      "        [0.0235],\n",
      "        [0.1738]], device='cuda:0')\n",
      "lower: tensor([0.2521, 0.1782, 0.3047, 0.3474, 0.4925, 0.4676, 0.2868, 0.4491, 0.3963,\n",
      "        0.2878, 0.1610, 0.4175, 0.2433, 0.2957, 0.1839, 0.7868],\n",
      "       device='cuda:0')\n",
      "target: tensor([10.9300, 10.9600, 10.4100, 10.8700, 10.8400, 10.5100, 10.4500, 11.0300,\n",
      "        10.5100, 10.7400, 10.5100, 10.9300, 10.9300, 10.4100, 10.6000, 10.8700],\n",
      "       device='cuda:0', dtype=torch.float64)\n",
      "upper: tensor([0.2674, 0.1970, 0.3239, 0.3705, 0.5335, 0.5069, 0.3050, 0.4830, 0.4250,\n",
      "        0.3074, 0.1845, 0.4553, 0.2593, 0.3136, 0.2020, 0.9208],\n",
      "       device='cuda:0')\n",
      "variance: tensor([[0.0499],\n",
      "        [0.0272],\n",
      "        [0.0478],\n",
      "        [0.0287],\n",
      "        [0.1924],\n",
      "        [0.0319],\n",
      "        [0.0347],\n",
      "        [0.0211],\n",
      "        [0.0435],\n",
      "        [0.1664],\n",
      "        [0.0274],\n",
      "        [0.0388],\n",
      "        [0.0233],\n",
      "        [0.0327],\n",
      "        [0.0308],\n",
      "        [0.0417]], device='cuda:0')\n",
      "lower: tensor([0.4291, 0.3619, 0.4430, 0.2332, 0.8010, 0.3490, 0.0618, 0.2695, 0.4507,\n",
      "        0.8488, 0.1883, 0.3821, 0.2221, 0.3741, 0.1612, 0.3855],\n",
      "       device='cuda:0')\n",
      "target: tensor([10.9200, 10.9300, 10.9200, 10.6000, 10.8700, 10.8700, 10.3800, 10.6400,\n",
      "        11.0300, 10.8700, 10.6400, 10.5100, 10.8400, 11.0100, 10.5100, 10.5100],\n",
      "       device='cuda:0', dtype=torch.float64)\n",
      "upper: tensor([0.4676, 0.3829, 0.4798, 0.2554, 0.9493, 0.3736, 0.0885, 0.2857, 0.4842,\n",
      "        0.9770, 0.2094, 0.4120, 0.2401, 0.3993, 0.1850, 0.4176],\n",
      "       device='cuda:0')\n",
      "variance: tensor([[0.0313],\n",
      "        [0.0227],\n",
      "        [0.0254],\n",
      "        [0.2343],\n",
      "        [0.0309],\n",
      "        [0.0329],\n",
      "        [0.0254],\n",
      "        [0.0242],\n",
      "        [0.0984],\n",
      "        [0.2015],\n",
      "        [0.1014],\n",
      "        [0.0380],\n",
      "        [0.0383],\n",
      "        [0.0258],\n",
      "        [0.0249],\n",
      "        [0.0215]], device='cuda:0')\n",
      "lower: tensor([0.3365, 0.1788, 0.3481, 0.9227, 0.3367, 0.0980, 0.3469, 0.1781, 0.5647,\n",
      "        0.7339, 0.5696, 0.4123, 0.4225, 0.2898, 0.3046, 0.2667],\n",
      "       device='cuda:0')\n",
      "target: tensor([10.9900, 10.9600, 10.9300, 10.5100, 10.9900, 10.3800, 10.9300, 10.9600,\n",
      "        10.9300, 10.6000, 10.9300, 10.8500, 10.4500, 10.7400, 10.4100, 10.5100],\n",
      "       device='cuda:0', dtype=torch.float64)\n",
      "upper: tensor([0.3606, 0.1963, 0.3677, 1.1032, 0.3605, 0.1233, 0.3665, 0.1967, 0.6405,\n",
      "        0.8892, 0.6478, 0.4416, 0.4520, 0.3097, 0.3239, 0.2833],\n",
      "       device='cuda:0')\n",
      "variance: tensor([[0.1385],\n",
      "        [0.0389],\n",
      "        [0.0324],\n",
      "        [0.0267],\n",
      "        [0.0204],\n",
      "        [0.0599],\n",
      "        [0.0367],\n",
      "        [0.0220],\n",
      "        [0.0220],\n",
      "        [0.0226],\n",
      "        [0.0359],\n",
      "        [0.0209],\n",
      "        [0.0949],\n",
      "        [0.0902],\n",
      "        [0.0333],\n",
      "        [0.0540]], device='cuda:0')\n",
      "lower: tensor([0.7824, 0.4244, 0.1197, 0.3240, 0.2705, 0.5134, 0.4049, 0.2950, 0.2228,\n",
      "        0.2235, 0.4057, 0.2169, 0.5649, 0.5512, 0.1215, 0.4221],\n",
      "       device='cuda:0')\n",
      "target: tensor([10.8700, 10.8500, 10.9600, 10.6000, 10.8400, 10.6300, 10.4500, 10.6400,\n",
      "        10.9300, 10.8400, 10.8500, 10.9300, 10.9300, 11.0100, 10.9600, 10.7400],\n",
      "       device='cuda:0', dtype=torch.float64)\n",
      "upper: tensor([0.8891, 0.4544, 0.1447, 0.3445, 0.2862, 0.5596, 0.4332, 0.3119, 0.2397,\n",
      "        0.2410, 0.4334, 0.2330, 0.6380, 0.6207, 0.1472, 0.4637],\n",
      "       device='cuda:0')\n",
      "variance: tensor([[0.0214],\n",
      "        [0.0479],\n",
      "        [0.0371],\n",
      "        [0.0286],\n",
      "        [0.3294],\n",
      "        [0.1692],\n",
      "        [0.0278],\n",
      "        [0.0246],\n",
      "        [0.0475],\n",
      "        [0.0265],\n",
      "        [0.0211],\n",
      "        [0.0357],\n",
      "        [0.0211],\n",
      "        [0.0220],\n",
      "        [0.0326],\n",
      "        [0.2989]], device='cuda:0')\n",
      "lower: tensor([0.2463, 0.4489, 0.4136, 0.3197, 1.0359, 0.8561, 0.1866, 0.2777, 0.4430,\n",
      "        0.3185, 0.2177, 0.3752, 0.2436, 0.2199, 0.1002, 1.0147],\n",
      "       device='cuda:0')\n",
      "target: tensor([10.5100, 10.5100, 10.8500, 10.5100, 10.7400, 11.0100, 10.6400, 10.4500,\n",
      "        10.9200, 10.5100, 10.9300, 10.9900, 10.9600, 10.9300, 10.3800, 10.5100],\n",
      "       device='cuda:0', dtype=torch.float64)\n",
      "upper: tensor([0.2628, 0.4859, 0.4422, 0.3418, 1.2897, 0.9866, 0.2080, 0.2966, 0.4796,\n",
      "        0.3390, 0.2340, 0.4027, 0.2599, 0.2369, 0.1253, 1.2450],\n",
      "       device='cuda:0')\n",
      "variance: tensor([[0.0254],\n",
      "        [0.0412],\n",
      "        [0.2528],\n",
      "        [0.0389],\n",
      "        [0.1840],\n",
      "        [0.1592],\n",
      "        [0.0262],\n",
      "        [0.0898],\n",
      "        [0.0298],\n",
      "        [0.0408],\n",
      "        [0.0212],\n",
      "        [0.0364],\n",
      "        [0.0206],\n",
      "        [0.0536],\n",
      "        [0.0906],\n",
      "        [0.0308]], device='cuda:0')\n",
      "lower: tensor([0.1686, 0.4126, 0.8838, 0.4330, 0.8130, 0.8392, 0.1658, 0.5726, 0.3373,\n",
      "        0.4015, 0.2711, 0.3995, 0.2473, 0.4968, 0.5766, 0.1738],\n",
      "       device='cuda:0')\n",
      "target: tensor([10.6000, 10.8000, 10.5200, 10.9200, 10.8000, 11.0100, 10.4500, 10.9300,\n",
      "        10.9900, 10.8000, 10.8400, 10.5100, 10.9300, 10.8400, 10.9300, 10.9300],\n",
      "       device='cuda:0', dtype=torch.float64)\n",
      "upper: tensor([0.1882, 0.4443, 1.0786, 0.4630, 0.9548, 0.9620, 0.1860, 0.6418, 0.3602,\n",
      "        0.4329, 0.2874, 0.4275, 0.2631, 0.5381, 0.6464, 0.1975],\n",
      "       device='cuda:0')\n",
      "variance: tensor([[0.0235],\n",
      "        [0.1441],\n",
      "        [0.0536],\n",
      "        [0.0227],\n",
      "        [0.0923],\n",
      "        [0.0268],\n",
      "        [0.0218],\n",
      "        [0.2665],\n",
      "        [0.0272],\n",
      "        [0.0334],\n",
      "        [0.1000],\n",
      "        [0.0210],\n",
      "        [0.0210],\n",
      "        [0.0479],\n",
      "        [0.0211],\n",
      "        [0.0892]], device='cuda:0')\n",
      "lower: tensor([0.2886, 0.6782, 0.4945, 0.1790, 0.5573, 0.2920, 0.2542, 0.9565, 0.1650,\n",
      "        0.3765, 0.5733, 0.2429, 0.2699, 0.4249, 0.2070, 0.5698],\n",
      "       device='cuda:0')\n",
      "target: tensor([10.4500, 10.5200, 10.8400, 10.9600, 11.0100, 10.7400, 10.5800, 10.5100,\n",
      "        10.6000, 10.9900, 10.9300, 10.9600, 10.8400, 10.9200, 10.6300, 10.9300],\n",
      "       device='cuda:0', dtype=torch.float64)\n",
      "upper: tensor([0.3068, 0.7892, 0.5358, 0.1966, 0.6285, 0.3126, 0.2710, 1.1618, 0.1859,\n",
      "        0.4022, 0.6504, 0.2591, 0.2861, 0.4619, 0.2233, 0.6386],\n",
      "       device='cuda:0')\n",
      "variance: tensor([[0.1900],\n",
      "        [0.0570],\n",
      "        [0.0490],\n",
      "        [0.0254],\n",
      "        [0.0437],\n",
      "        [0.0229],\n",
      "        [0.0253],\n",
      "        [0.0584],\n",
      "        [0.0233],\n",
      "        [0.0325],\n",
      "        [0.0444],\n",
      "        [0.0314],\n",
      "        [0.0232],\n",
      "        [0.0216],\n",
      "        [0.0217],\n",
      "        [0.0481]], device='cuda:0')\n",
      "lower: tensor([0.8585, 0.4388, 0.4769, 0.3169, 0.4575, 0.2878, 0.3152, 0.4353, 0.2923,\n",
      "        0.1007, 0.4488, 0.1164, 0.2829, 0.2334, 0.2313, 0.4238],\n",
      "       device='cuda:0')\n",
      "target: tensor([11.0100, 10.5200, 10.5100, 10.4100, 11.0300, 11.0300, 10.4100, 10.5200,\n",
      "        11.0300, 10.3800, 10.5100, 10.3800, 10.4500, 10.5100, 10.5100, 10.7400],\n",
      "       device='cuda:0', dtype=torch.float64)\n",
      "upper: tensor([1.0049, 0.4827, 0.5147, 0.3365, 0.4912, 0.3054, 0.3347, 0.4803, 0.3102,\n",
      "        0.1257, 0.4830, 0.1406, 0.3008, 0.2500, 0.2481, 0.4609],\n",
      "       device='cuda:0')\n",
      "variance: tensor([[0.0215],\n",
      "        [0.0796],\n",
      "        [0.0214],\n",
      "        [0.1502],\n",
      "        [0.0214],\n",
      "        [0.0682],\n",
      "        [0.0352],\n",
      "        [0.1884],\n",
      "        [0.0288],\n",
      "        [0.0324],\n",
      "        [0.0280],\n",
      "        [0.0246],\n",
      "        [0.0823],\n",
      "        [0.0269],\n",
      "        [0.0274],\n",
      "        [0.2357]], device='cuda:0')\n",
      "lower: tensor([0.2539, 0.5362, 0.2680, 0.6625, 0.2100, 0.4623, 0.3819, 0.7385, 0.2325,\n",
      "        0.1202, 0.2314, 0.3042, 0.5342, 0.3217, 0.2831, 0.8690],\n",
      "       device='cuda:0')\n",
      "target: tensor([10.5800, 10.8500, 10.5100, 10.5200, 10.6300, 10.5200, 10.9900, 10.6000,\n",
      "        10.6000, 10.9600, 10.6000, 10.4100, 10.8500, 10.5100, 10.7400, 10.5200],\n",
      "       device='cuda:0', dtype=torch.float64)\n",
      "upper: tensor([0.2705, 0.5975, 0.2845, 0.7783, 0.2264, 0.5149, 0.4091, 0.8836, 0.2547,\n",
      "        0.1452, 0.2530, 0.3231, 0.5977, 0.3424, 0.3041, 1.0506],\n",
      "       device='cuda:0')\n",
      "variance: tensor([[0.0420],\n",
      "        [0.0219],\n",
      "        [0.0220],\n",
      "        [0.0479],\n",
      "        [0.0381],\n",
      "        [0.0394],\n",
      "        [0.1989],\n",
      "        [0.1032],\n",
      "        [0.0224],\n",
      "        [0.0804],\n",
      "        [0.0231],\n",
      "        [0.0243],\n",
      "        [0.0213],\n",
      "        [0.0242],\n",
      "        [0.0241],\n",
      "        [0.0209]], device='cuda:0')\n",
      "lower: tensor([0.4454, 0.2716, 0.2688, 0.4577, 0.4065, 0.4216, 0.8277, 0.6651, 0.2897,\n",
      "        0.5447, 0.2952, 0.1811, 0.2550, 0.1728, 0.1816, 0.2435],\n",
      "       device='cuda:0')\n",
      "target: tensor([11.0300, 10.5800, 10.5800, 11.0300, 10.5100, 10.9200, 10.8700, 10.8000,\n",
      "        11.0300, 10.8500, 10.4100, 10.6000, 10.5800, 10.4500, 10.6000, 10.9600],\n",
      "       device='cuda:0', dtype=torch.float64)\n",
      "upper: tensor([0.4777, 0.2885, 0.2857, 0.4946, 0.4359, 0.4520, 0.9810, 0.7447, 0.3069,\n",
      "        0.6066, 0.3130, 0.1998, 0.2714, 0.1914, 0.2002, 0.2597],\n",
      "       device='cuda:0')\n",
      "variance: tensor([[0.0213],\n",
      "        [0.0223],\n",
      "        [0.0347],\n",
      "        [0.1678],\n",
      "        [0.0310],\n",
      "        [0.0985],\n",
      "        [0.0276],\n",
      "        [0.0258],\n",
      "        [0.0274],\n",
      "        [0.0365],\n",
      "        [0.0294],\n",
      "        [0.0251],\n",
      "        [0.0264],\n",
      "        [0.0317],\n",
      "        [0.0294],\n",
      "        [0.0213]], device='cuda:0')\n",
      "lower: tensor([0.2367, 0.2243, 0.3763, 0.7072, 0.1727, 0.6618, 0.3262, 0.3464, 0.1641,\n",
      "        0.4134, 0.3287, 0.1688, 0.3183, 0.3730, 0.3461, 0.2367],\n",
      "       device='cuda:0')\n",
      "target: tensor([10.6300, 10.8400, 10.9900, 10.9900, 10.9300, 10.8000, 10.6000, 10.9300,\n",
      "        10.6000, 10.4500, 10.6000, 10.6000, 10.4100, 11.0100, 10.8700, 10.6300],\n",
      "       device='cuda:0', dtype=torch.float64)\n",
      "upper: tensor([0.2531, 0.2414, 0.4031, 0.8365, 0.1966, 0.7377, 0.3474, 0.3662, 0.1852,\n",
      "        0.4415, 0.3513, 0.1882, 0.3386, 0.3974, 0.3688, 0.2531],\n",
      "       device='cuda:0')\n",
      "variance: tensor([[0.0260],\n",
      "        [0.1006],\n",
      "        [0.0215],\n",
      "        [0.0216],\n",
      "        [0.0377],\n",
      "        [0.0219],\n",
      "        [0.0334],\n",
      "        [0.1429],\n",
      "        [0.2516],\n",
      "        [0.0422],\n",
      "        [0.0476],\n",
      "        [0.0208],\n",
      "        [0.0365],\n",
      "        [0.0315],\n",
      "        [0.0242],\n",
      "        [0.0230]], device='cuda:0')\n",
      "lower: tensor([0.3175, 0.5782, 0.2459, 0.2560, 0.4185, 0.2986, 0.3729, 0.6458, 0.9554,\n",
      "        0.4027, 0.4187, 0.2675, 0.4035, 0.1160, 0.1795, 0.2949],\n",
      "       device='cuda:0')\n",
      "target: tensor([10.4100, 10.9300, 10.5100, 10.5800, 10.8500, 10.6400, 11.0100, 10.5200,\n",
      "        10.8000, 10.8000, 10.9200, 10.6400, 10.8500, 10.3800, 10.6000, 10.4100],\n",
      "       device='cuda:0', dtype=torch.float64)\n",
      "upper: tensor([0.3375, 0.6557, 0.2625, 0.2726, 0.4476, 0.3155, 0.3987, 0.7559, 1.1494,\n",
      "        0.4352, 0.4554, 0.2836, 0.4316, 0.1403, 0.1982, 0.3126],\n",
      "       device='cuda:0')\n",
      "variance: tensor([[0.0578],\n",
      "        [0.0314],\n",
      "        [0.0225],\n",
      "        [0.1454],\n",
      "        [0.0212],\n",
      "        [0.0236],\n",
      "        [0.0477],\n",
      "        [0.0217],\n",
      "        [0.0240],\n",
      "        [0.0263],\n",
      "        [0.1745],\n",
      "        [0.0399],\n",
      "        [0.0392],\n",
      "        [0.0212],\n",
      "        [0.0272],\n",
      "        [0.0347]], device='cuda:0')\n",
      "lower: tensor([0.5127, 0.1595, 0.2903, 0.6737, 0.2333, 0.2227, 0.4619, 0.2440, 0.1679,\n",
      "        0.1906, 0.7382, 0.4310, 0.4081, 0.2665, 0.3604, 0.0621],\n",
      "       device='cuda:0')\n",
      "target: tensor([10.6300, 10.5100, 11.0300, 10.5200, 10.5100, 10.8400, 11.0300, 10.5100,\n",
      "        10.4500, 10.6400, 10.9900, 10.9200, 10.8500, 10.5100, 10.9300, 10.3800],\n",
      "       device='cuda:0', dtype=torch.float64)\n",
      "upper: tensor([0.5573, 0.1837, 0.3076, 0.7857, 0.2496, 0.2408, 0.4986, 0.2607, 0.1864,\n",
      "        0.2109, 0.8727, 0.4618, 0.4383, 0.2829, 0.3813, 0.0889],\n",
      "       device='cuda:0')\n",
      "variance: tensor([[0.1722],\n",
      "        [0.0299],\n",
      "        [0.0360],\n",
      "        [0.0367],\n",
      "        [0.0566],\n",
      "        [0.0433],\n",
      "        [0.0600],\n",
      "        [0.0466],\n",
      "        [0.0212],\n",
      "        [0.1052],\n",
      "        [0.0332],\n",
      "        [0.0210]], device='cuda:0')\n",
      "lower: tensor([0.7137, 0.3531, 0.4164, 0.4162, 0.5144, 0.4049, 0.5137, 0.4448, 0.2617,\n",
      "        0.6693, 0.1216, 0.2434], device='cuda:0')\n",
      "target: tensor([10.9900, 10.8700, 10.9200, 10.4500, 10.6300, 10.8000, 10.6300, 10.9200,\n",
      "        10.5800, 10.8000, 10.9600, 10.9600], device='cuda:0',\n",
      "       dtype=torch.float64)\n",
      "upper: tensor([0.8464, 0.3761, 0.4442, 0.4445, 0.5580, 0.4382, 0.5599, 0.4807, 0.2781,\n",
      "        0.7504, 0.1472, 0.2596], device='cuda:0')\n",
      "tensor(0, device='cuda:0') 300\n",
      "Confidence Interval: 0.0000\n",
      "variance: tensor([[0.1722],\n",
      "        [0.0796],\n",
      "        [0.0294],\n",
      "        [0.0209],\n",
      "        [0.3294],\n",
      "        [0.0249],\n",
      "        [0.0219],\n",
      "        [0.0269],\n",
      "        [0.0566],\n",
      "        [0.0531],\n",
      "        [0.0898],\n",
      "        [0.0274],\n",
      "        [0.0479],\n",
      "        [0.0208],\n",
      "        [0.0218],\n",
      "        [0.0429]], device='cuda:0')\n",
      "lower: tensor([0.6898, 0.5251, 0.3246, 0.2140, 0.9901, 0.3012, 0.2305, 0.3607, 0.5065,\n",
      "        0.4851, 0.5601, 0.1845, 0.4511, 0.2669, 0.2512, 0.4091],\n",
      "       device='cuda:0')\n",
      "target: tensor([10.9900, 10.8500, 10.6000, 10.9300, 10.7400, 10.4100, 10.5100, 10.9300,\n",
      "        10.6300, 10.8400, 10.9300, 10.6400, 11.0300, 10.6400, 10.5800, 10.9300],\n",
      "       device='cuda:0', dtype=torch.float64)\n",
      "upper: tensor([0.8704, 0.6086, 0.3554, 0.2359, 1.3355, 0.3273, 0.2534, 0.3890, 0.5659,\n",
      "        0.5408, 0.6543, 0.2132, 0.5013, 0.2888, 0.2741, 0.4542],\n",
      "       device='cuda:0')\n",
      "variance: tensor([[0.0920],\n",
      "        [0.0230],\n",
      "        [0.0365],\n",
      "        [0.0319],\n",
      "        [0.0266],\n",
      "        [0.0280],\n",
      "        [0.0272],\n",
      "        [0.1052],\n",
      "        [0.2961],\n",
      "        [0.0217],\n",
      "        [0.0220],\n",
      "        [0.0243],\n",
      "        [0.0219],\n",
      "        [0.0265],\n",
      "        [0.0536],\n",
      "        [0.0217]], device='cuda:0')\n",
      "lower: tensor([0.5430, 0.2917, 0.3984, 0.3446, 0.1862, 0.2275, 0.3566, 0.6547, 0.9074,\n",
      "        0.2038, 0.2657, 0.1777, 0.2918, 0.3148, 0.4871, 0.2283],\n",
      "       device='cuda:0')\n",
      "target: tensor([11.0100, 10.4100, 10.8500, 10.8700, 10.6400, 10.6000, 10.9300, 10.8000,\n",
      "        10.5200, 10.6300, 10.5800, 10.6000, 10.6400, 10.5100, 10.8400, 10.5100],\n",
      "       device='cuda:0', dtype=torch.float64)\n",
      "upper: tensor([0.6395, 0.3158, 0.4367, 0.3780, 0.2141, 0.2569, 0.3851, 0.7650, 1.2180,\n",
      "        0.2266, 0.2888, 0.2032, 0.3148, 0.3427, 0.5432, 0.2511],\n",
      "       device='cuda:0')\n",
      "variance: tensor([[0.0276],\n",
      "        [0.0212],\n",
      "        [0.0246],\n",
      "        [0.0324],\n",
      "        [0.0214],\n",
      "        [0.0220],\n",
      "        [0.0294],\n",
      "        [0.0378],\n",
      "        [0.0317],\n",
      "        [0.0215],\n",
      "        [0.0267],\n",
      "        [0.0211],\n",
      "        [0.0290],\n",
      "        [0.0208],\n",
      "        [0.0469],\n",
      "        [0.0314]], device='cuda:0')\n",
      "lower: tensor([0.3224, 0.2587, 0.3008, 0.1152, 0.2650, 0.2919, 0.3420, 0.3692, 0.3686,\n",
      "        0.2424, 0.3203, 0.2666, 0.3256, 0.2646, 0.4305, 0.3718],\n",
      "       device='cuda:0')\n",
      "target: tensor([10.6000, 10.5800, 10.4100, 10.9600, 10.5100, 10.6400, 10.8700, 10.5100,\n",
      "        11.0100, 10.5100, 10.6000, 10.6400, 10.6000, 10.6400, 10.9200, 11.0100],\n",
      "       device='cuda:0', dtype=torch.float64)\n",
      "upper: tensor([0.3513, 0.2810, 0.3265, 0.1492, 0.2874, 0.3150, 0.3729, 0.4088, 0.4018,\n",
      "        0.2649, 0.3483, 0.2886, 0.3560, 0.2865, 0.4797, 0.4047],\n",
      "       device='cuda:0')\n",
      "variance: tensor([[0.0262],\n",
      "        [0.2357],\n",
      "        [0.0246],\n",
      "        [0.2550],\n",
      "        [0.0892],\n",
      "        [0.0314],\n",
      "        [0.0309],\n",
      "        [0.0333],\n",
      "        [0.1986],\n",
      "        [0.0388],\n",
      "        [0.0352],\n",
      "        [0.0263],\n",
      "        [0.0281],\n",
      "        [0.0215],\n",
      "        [0.0476],\n",
      "        [0.0324]], device='cuda:0')\n",
      "lower: tensor([0.1621, 0.8362, 0.2743, 0.8763, 0.5574, 0.1121, 0.3324, 0.1168, 0.8136,\n",
      "        0.3768, 0.3770, 0.1870, 0.2265, 0.2337, 0.4120, 0.1157],\n",
      "       device='cuda:0')\n",
      "target: tensor([10.4500, 10.5200, 10.4500, 10.5200, 10.9300, 10.3800, 10.9900, 10.9600,\n",
      "        10.8700, 10.5100, 10.9900, 10.6400, 10.6000, 10.6300, 10.9200, 10.9600],\n",
      "       device='cuda:0', dtype=torch.float64)\n",
      "upper: tensor([0.1897, 1.0834, 0.3000, 1.1438, 0.6510, 0.1450, 0.3648, 0.1518, 1.0219,\n",
      "        0.4174, 0.4140, 0.2146, 0.2560, 0.2562, 0.4620, 0.1497],\n",
      "       device='cuda:0')\n",
      "variance: tensor([[0.0219],\n",
      "        [0.0304],\n",
      "        [0.0258],\n",
      "        [0.1989],\n",
      "        [0.0260],\n",
      "        [0.0258],\n",
      "        [0.0218],\n",
      "        [0.0251],\n",
      "        [0.2332],\n",
      "        [0.1014],\n",
      "        [0.0269],\n",
      "        [0.0475],\n",
      "        [0.2085],\n",
      "        [0.0214],\n",
      "        [0.0199],\n",
      "        [0.0462]], device='cuda:0')\n",
      "lower: tensor([0.2692, 0.3312, 0.2862, 0.8000, 0.3426, 0.1680, 0.2952, 0.1653, 0.8846,\n",
      "        0.5555, 0.3602, 0.4364, 0.7846, 0.2433, 0.2493, 0.4135],\n",
      "       device='cuda:0')\n",
      "target: tensor([10.5800, 10.9900, 10.7400, 10.8700, 10.9300, 10.6000, 10.6400, 10.6000,\n",
      "        10.7400, 10.9300, 10.9300, 10.9200, 10.5100, 10.5100, 10.9300, 10.9200],\n",
      "       device='cuda:0', dtype=torch.float64)\n",
      "upper: tensor([0.2922, 0.3631, 0.3133, 1.0087, 0.3698, 0.1950, 0.3180, 0.1917, 1.1291,\n",
      "        0.6619, 0.3884, 0.4862, 1.0032, 0.2658, 0.2702, 0.4620],\n",
      "       device='cuda:0')\n",
      "variance: tensor([[0.0208],\n",
      "        [0.0440],\n",
      "        [0.0510],\n",
      "        [0.0499],\n",
      "        [0.0242],\n",
      "        [0.0260],\n",
      "        [0.0315],\n",
      "        [0.0236],\n",
      "        [0.0389],\n",
      "        [0.0275],\n",
      "        [0.0232],\n",
      "        [0.0278],\n",
      "        [0.0985],\n",
      "        [0.0214],\n",
      "        [0.0304],\n",
      "        [0.0373]], device='cuda:0')\n",
      "lower: tensor([0.2404, 0.4430, 0.4605, 0.4222, 0.1762, 0.3139, 0.1117, 0.2194, 0.4190,\n",
      "        0.1559, 0.2797, 0.1828, 0.6481, 0.2596, 0.1578, 0.3911],\n",
      "       device='cuda:0')\n",
      "target: tensor([10.9300, 11.0300, 10.5100, 10.9200, 10.6000, 10.4100, 10.3800, 10.8400,\n",
      "        10.8500, 10.6000, 10.4500, 10.6400, 10.8000, 10.5800, 10.5100, 10.5100],\n",
      "       device='cuda:0', dtype=torch.float64)\n",
      "upper: tensor([0.2622, 0.4892, 0.5140, 0.4745, 0.2016, 0.3412, 0.1447, 0.2441, 0.4598,\n",
      "        0.1847, 0.3040, 0.2119, 0.7514, 0.2820, 0.1897, 0.4302],\n",
      "       device='cuda:0')\n",
      "variance: tensor([[0.0310],\n",
      "        [0.0301],\n",
      "        [0.0871],\n",
      "        [0.0336],\n",
      "        [0.0682],\n",
      "        [0.0274],\n",
      "        [0.0713],\n",
      "        [0.0478],\n",
      "        [0.0272],\n",
      "        [0.0235],\n",
      "        [0.0209],\n",
      "        [0.2015],\n",
      "        [0.0381],\n",
      "        [0.0570],\n",
      "        [0.1884],\n",
      "        [0.0223]], device='cuda:0')\n",
      "lower: tensor([0.1683, 0.3222, 0.5541, 0.0614, 0.4528, 0.2792, 0.4583, 0.4399, 0.1612,\n",
      "        0.2854, 0.2406, 0.7059, 0.4012, 0.4308, 0.7123, 0.2212],\n",
      "       device='cuda:0')\n",
      "target: tensor([10.9300, 10.5100, 10.9300, 10.3800, 10.5200, 10.7400, 10.5200, 11.0300,\n",
      "        10.6000, 10.4500, 10.9600, 10.6000, 10.5100, 10.5200, 10.6000, 10.8400],\n",
      "       device='cuda:0', dtype=torch.float64)\n",
      "upper: tensor([0.2009, 0.3538, 0.6455, 0.0966, 0.5244, 0.3079, 0.5331, 0.4900, 0.1897,\n",
      "        0.3101, 0.2626, 0.9172, 0.4412, 0.4906, 0.9098, 0.2445],\n",
      "       device='cuda:0')\n",
      "variance: tensor([[0.0219],\n",
      "        [0.0360],\n",
      "        [0.0217],\n",
      "        [0.0389],\n",
      "        [0.3833],\n",
      "        [0.0233],\n",
      "        [0.0211],\n",
      "        [0.0339],\n",
      "        [0.0347],\n",
      "        [0.1441],\n",
      "        [0.0316],\n",
      "        [0.0479],\n",
      "        [0.0212],\n",
      "        [0.0447],\n",
      "        [0.2989],\n",
      "        [0.0584]], device='cuda:0')\n",
      "lower: tensor([0.2955, 0.4114, 0.2410, 0.4276, 1.0409, 0.2189, 0.2407, 0.0603, 0.0570,\n",
      "        0.6581, 0.1107, 0.4183, 0.2681, 0.4103, 0.9731, 0.4271],\n",
      "       device='cuda:0')\n",
      "target: tensor([10.6400, 10.9200, 10.5100, 10.9200, 10.7400, 10.8400, 10.9600, 10.3800,\n",
      "        10.3800, 10.5200, 10.3800, 10.9200, 10.8400, 10.9300, 10.5100, 10.5200],\n",
      "       device='cuda:0', dtype=torch.float64)\n",
      "upper: tensor([0.3185, 0.4492, 0.2637, 0.4684, 1.4428, 0.2433, 0.2628, 0.0958, 0.0933,\n",
      "        0.8093, 0.1439, 0.4685, 0.2903, 0.4572, 1.2866, 0.4884],\n",
      "       device='cuda:0')\n",
      "variance: tensor([[0.0211],\n",
      "        [0.0804],\n",
      "        [0.2385],\n",
      "        [0.0476],\n",
      "        [0.0383],\n",
      "        [0.1664],\n",
      "        [0.0232],\n",
      "        [0.0210],\n",
      "        [0.2066],\n",
      "        [0.0224],\n",
      "        [0.0233],\n",
      "        [0.0264],\n",
      "        [0.1429],\n",
      "        [0.0422],\n",
      "        [0.0286],\n",
      "        [0.0212]], device='cuda:0')\n",
      "lower: tensor([0.2148, 0.5335, 0.8761, 0.4176, 0.4172, 0.8256, 0.2924, 0.2670, 0.7106,\n",
      "        0.2865, 0.2890, 0.3146, 0.6260, 0.3968, 0.3157, 0.2574],\n",
      "       device='cuda:0')\n",
      "target: tensor([10.9300, 10.8500, 10.7400, 10.7400, 10.4500, 10.8700, 10.4100, 10.8400,\n",
      "        10.6000, 11.0300, 11.0300, 10.4100, 10.5200, 10.8000, 10.5100, 10.5800],\n",
      "       device='cuda:0', dtype=torch.float64)\n",
      "upper: tensor([0.2369, 0.6178, 1.1263, 0.4676, 0.4573, 1.0001, 0.3168, 0.2890, 0.9273,\n",
      "        0.3100, 0.3135, 0.3423, 0.7758, 0.4411, 0.3457, 0.2797],\n",
      "       device='cuda:0')\n",
      "variance: tensor([[0.0254],\n",
      "        [0.1454],\n",
      "        [0.0599],\n",
      "        [0.0254],\n",
      "        [0.0217],\n",
      "        [3.0827],\n",
      "        [0.0215],\n",
      "        [0.0255],\n",
      "        [0.0210],\n",
      "        [0.0326],\n",
      "        [0.5746],\n",
      "        [0.2516],\n",
      "        [0.1053],\n",
      "        [0.2528],\n",
      "        [0.1385],\n",
      "        [0.0220]], device='cuda:0')\n",
      "lower: tensor([0.2843, 0.6535, 0.5050, 0.3446, 0.2030, 0.2544, 0.2509, 0.3037, 0.2400,\n",
      "        0.0940, 0.9704, 0.9204, 0.5473, 0.8486, 0.7632, 0.2197],\n",
      "       device='cuda:0')\n",
      "target: tensor([10.7400, 10.5200, 10.6300, 10.9300, 10.6300, 10.8700, 10.5800, 10.4100,\n",
      "        10.9600, 10.3800, 10.8700, 10.8000, 10.9300, 10.5200, 10.8700, 10.9300],\n",
      "       device='cuda:0', dtype=torch.float64)\n",
      "upper: tensor([0.3109, 0.8059, 0.5679, 0.3712, 0.2258, 3.4874, 0.2735, 0.3304, 0.2620,\n",
      "        0.1282, 1.5731, 1.1843, 0.6577, 1.1138, 0.9084, 0.2428],\n",
      "       device='cuda:0')\n",
      "variance: tensor([[0.0437],\n",
      "        [0.0444],\n",
      "        [0.0211],\n",
      "        [0.0207],\n",
      "        [0.0312],\n",
      "        [0.0949],\n",
      "        [0.0211],\n",
      "        [0.0399],\n",
      "        [0.0274],\n",
      "        [0.1958],\n",
      "        [0.0477],\n",
      "        [0.1038],\n",
      "        [0.1592],\n",
      "        [0.0357],\n",
      "        [0.0329],\n",
      "        [0.0206]], device='cuda:0')\n",
      "lower: tensor([0.4515, 0.4426, 0.2041, 0.2602, 0.1679, 0.5517, 0.2353, 0.4255, 0.1603,\n",
      "        0.8169, 0.4553, 0.5492, 0.8171, 0.3703, 0.0934, 0.2444],\n",
      "       device='cuda:0')\n",
      "target: tensor([11.0300, 10.5100, 10.6300, 10.5100, 10.9300, 10.9300, 10.6300, 10.9200,\n",
      "        10.6000, 10.8000, 11.0300, 10.9300, 11.0100, 10.9900, 10.3800, 10.9300],\n",
      "       device='cuda:0', dtype=torch.float64)\n",
      "upper: tensor([0.4973, 0.4892, 0.2262, 0.2820, 0.2006, 0.6512, 0.2575, 0.4674, 0.1891,\n",
      "        1.0222, 0.5053, 0.6581, 0.9841, 0.4077, 0.1279, 0.2660],\n",
      "       device='cuda:0')\n",
      "variance: tensor([[0.0923],\n",
      "        [0.0984],\n",
      "        [0.0253],\n",
      "        [0.0347],\n",
      "        [0.0481],\n",
      "        [0.0365],\n",
      "        [0.0368],\n",
      "        [0.0212],\n",
      "        [0.0403],\n",
      "        [0.0210],\n",
      "        [0.0212],\n",
      "        [0.0298],\n",
      "        [0.0305],\n",
      "        [0.0272],\n",
      "        [0.0202],\n",
      "        [0.1006]], device='cuda:0')\n",
      "lower: tensor([0.5445, 0.5510, 0.3117, 0.0573, 0.4171, 0.4083, 0.3967, 0.2303, 0.3771,\n",
      "        0.2405, 0.2636, 0.3331, 0.1568, 0.3581, 0.2467, 0.5642],\n",
      "       device='cuda:0')\n",
      "target: tensor([11.0100, 10.9300, 10.4100, 10.3800, 10.7400, 10.4500, 10.5100, 10.5100,\n",
      "        10.5100, 10.9600, 10.5100, 10.9900, 10.5100, 10.9300, 10.9300, 10.9300],\n",
      "       device='cuda:0', dtype=torch.float64)\n",
      "upper: tensor([0.6413, 0.6542, 0.3382, 0.0937, 0.4676, 0.4466, 0.4353, 0.2526, 0.4194,\n",
      "        0.2625, 0.2859, 0.3644, 0.1888, 0.3867, 0.2679, 0.6697],\n",
      "       device='cuda:0')\n",
      "variance: tensor([[0.0227],\n",
      "        [0.0334],\n",
      "        [0.2665],\n",
      "        [0.0254],\n",
      "        [0.1970],\n",
      "        [0.0204],\n",
      "        [0.0490],\n",
      "        [0.0213],\n",
      "        [0.0226],\n",
      "        [0.0242],\n",
      "        [0.0325],\n",
      "        [0.0268],\n",
      "        [0.0269],\n",
      "        [0.0525],\n",
      "        [0.0420],\n",
      "        [0.0308]], device='cuda:0')\n",
      "lower: tensor([0.1759, 0.3683, 0.9195, 0.3434, 0.6841, 0.2677, 0.4107, 0.2337, 0.2204,\n",
      "        0.1694, 0.0962, 0.2883, 0.1581, 0.4943, 0.4396, 0.1695],\n",
      "       device='cuda:0')\n",
      "target: tensor([10.9600, 11.0100, 10.5100, 10.9300, 10.6000, 10.8400, 10.9300, 10.6300,\n",
      "        10.8400, 10.4500, 10.3800, 10.7400, 10.6000, 10.8400, 11.0300, 10.9300],\n",
      "       device='cuda:0', dtype=torch.float64)\n",
      "upper: tensor([0.1997, 0.4033, 1.1989, 0.3701, 0.8908, 0.2890, 0.4621, 0.2560, 0.2441,\n",
      "        0.1948, 0.1302, 0.3163, 0.1863, 0.5494, 0.4836, 0.2018],\n",
      "       device='cuda:0')\n",
      "variance: tensor([[0.0220],\n",
      "        [0.0381],\n",
      "        [0.1502],\n",
      "        [0.0971],\n",
      "        [0.0299],\n",
      "        [0.0902],\n",
      "        [0.0241],\n",
      "        [0.0216],\n",
      "        [0.0435],\n",
      "        [0.0249],\n",
      "        [0.0540],\n",
      "        [0.1900],\n",
      "        [0.0906],\n",
      "        [0.0236],\n",
      "        [0.0823],\n",
      "        [0.0227]], device='cuda:0')\n",
      "lower: tensor([0.2168, 0.4015, 0.6416, 0.6301, 0.3489, 0.5386, 0.1783, 0.2530, 0.4446,\n",
      "        0.3013, 0.4146, 0.8320, 0.5640, 0.2835, 0.5228, 0.1757],\n",
      "       device='cuda:0')\n",
      "target: tensor([10.9300, 10.8500, 10.5200, 10.8000, 10.8700, 11.0100, 10.6000, 10.5800,\n",
      "        11.0300, 10.4100, 10.7400, 11.0100, 10.9300, 10.4500, 10.8500, 10.9600],\n",
      "       device='cuda:0', dtype=torch.float64)\n",
      "upper: tensor([0.2399, 0.4414, 0.7992, 0.7320, 0.3803, 0.6332, 0.2035, 0.2756, 0.4903,\n",
      "        0.3274, 0.4712, 1.0313, 0.6590, 0.3083, 0.6091, 0.1995],\n",
      "       device='cuda:0')\n",
      "variance: tensor([[0.1678],\n",
      "        [0.0258],\n",
      "        [0.2001],\n",
      "        [0.1046],\n",
      "        [0.0326],\n",
      "        [0.0300],\n",
      "        [0.0210],\n",
      "        [0.0417],\n",
      "        [0.0229],\n",
      "        [0.0213],\n",
      "        [0.0380],\n",
      "        [0.1946],\n",
      "        [0.1000],\n",
      "        [0.0314],\n",
      "        [0.0225],\n",
      "        [0.1840]], device='cuda:0')\n",
      "lower: tensor([0.6839, 0.3428, 0.8392, 0.5656, 0.0957, 0.3432, 0.2653, 0.3797, 0.2846,\n",
      "        0.2520, 0.4071, 0.8415, 0.5594, 0.1551, 0.2872, 0.7874],\n",
      "       device='cuda:0')\n",
      "target: tensor([10.9900, 10.9300, 10.8000, 10.9300, 10.3800, 10.8700, 10.6400, 10.5100,\n",
      "        11.0300, 10.5800, 10.8500, 11.0100, 10.9300, 10.5100, 11.0300, 10.8000],\n",
      "       device='cuda:0', dtype=torch.float64)\n",
      "upper: tensor([0.8598, 0.3698, 1.0491, 0.6753, 0.1299, 0.3746, 0.2873, 0.4234, 0.3086,\n",
      "        0.2743, 0.4469, 1.0456, 0.6643, 0.1881, 0.3107, 0.9804],\n",
      "       device='cuda:0')\n",
      "variance: tensor([[0.0600],\n",
      "        [0.0229],\n",
      "        [0.0478],\n",
      "        [0.0244],\n",
      "        [0.0578],\n",
      "        [0.1571],\n",
      "        [0.0466],\n",
      "        [0.0235],\n",
      "        [0.0215],\n",
      "        [0.0367],\n",
      "        [0.0261],\n",
      "        [0.0231],\n",
      "        [0.0371],\n",
      "        [0.0239],\n",
      "        [0.0364],\n",
      "        [0.0210]], device='cuda:0')\n",
      "lower: tensor([0.5054, 0.2936, 0.4363, 0.1748, 0.5047, 0.6651, 0.4383, 0.1806, 0.2655,\n",
      "        0.3998, 0.1656, 0.2919, 0.4084, 0.1635, 0.3944, 0.2703],\n",
      "       device='cuda:0')\n",
      "target: tensor([10.6300, 10.4100, 10.9200, 10.9600, 10.6300, 10.9900, 10.9200, 10.6000,\n",
      "        10.5800, 10.4500, 10.6000, 10.4100, 10.8500, 10.4500, 10.5100, 10.8400],\n",
      "       device='cuda:0', dtype=torch.float64)\n",
      "upper: tensor([0.5683, 0.3176, 0.4865, 0.2004, 0.5653, 0.8299, 0.4872, 0.2052, 0.2880,\n",
      "        0.4383, 0.1930, 0.3162, 0.4473, 0.1886, 0.4326, 0.2923],\n",
      "       device='cuda:0')\n",
      "variance: tensor([[0.0536],\n",
      "        [0.0377],\n",
      "        [0.0458],\n",
      "        [0.0394],\n",
      "        [0.0215],\n",
      "        [0.0213],\n",
      "        [0.0498],\n",
      "        [0.0288],\n",
      "        [0.0313],\n",
      "        [0.1924],\n",
      "        [0.1032],\n",
      "        [0.1738],\n",
      "        [0.1692],\n",
      "        [0.0215],\n",
      "        [0.0254],\n",
      "        [0.0214]], device='cuda:0')\n",
      "lower: tensor([0.4894, 0.4133, 0.4139, 0.4161, 0.2637, 0.2337, 0.4088, 0.2285, 0.3321,\n",
      "        0.7742, 0.6508, 0.7627, 0.8326, 0.2429, 0.3133, 0.2070],\n",
      "       device='cuda:0')\n",
      "target: tensor([10.8400, 10.8500, 10.7400, 10.9200, 10.5100, 10.6300, 10.9300, 10.6000,\n",
      "        10.9900, 10.8700, 10.8000, 10.8700, 11.0100, 10.5100, 10.4100, 10.6300],\n",
      "       device='cuda:0', dtype=torch.float64)\n",
      "upper: tensor([0.5456, 0.4529, 0.4619, 0.4575, 0.2863, 0.2560, 0.4611, 0.2587, 0.3649,\n",
      "        0.9760, 0.7590, 0.9449, 1.0101, 0.2655, 0.3400, 0.2294],\n",
      "       device='cuda:0')\n",
      "variance: tensor([[0.0408],\n",
      "        [0.0861],\n",
      "        [0.0334],\n",
      "        [0.0269],\n",
      "        [0.0242],\n",
      "        [0.0313],\n",
      "        [0.0216],\n",
      "        [0.0240],\n",
      "        [0.0213],\n",
      "        [0.0412],\n",
      "        [0.0327],\n",
      "        [0.0806],\n",
      "        [0.0332],\n",
      "        [0.1745],\n",
      "        [0.0347],\n",
      "        [0.0367]], device='cuda:0')\n",
      "lower: tensor([0.3958, 0.5426, 0.3719, 0.3180, 0.1747, 0.1697, 0.2304, 0.1646, 0.2608,\n",
      "        0.4068, 0.3696, 0.5308, 0.1170, 0.7140, 0.3715, 0.4111],\n",
      "       device='cuda:0')\n",
      "target: tensor([10.8000, 11.0100, 10.9900, 10.5100, 10.9600, 10.9300, 10.5100, 10.4500,\n",
      "        10.5800, 10.8000, 11.0100, 10.8500, 10.9600, 10.9900, 10.9900, 10.4500],\n",
      "       device='cuda:0', dtype=torch.float64)\n",
      "upper: tensor([0.4386, 0.6329, 0.4069, 0.3462, 0.2001, 0.2025, 0.2530, 0.1897, 0.2831,\n",
      "        0.4500, 0.4038, 0.6154, 0.1519, 0.8970, 0.4079, 0.4496],\n",
      "       device='cuda:0')\n",
      "variance: tensor([[0.0392],\n",
      "        [0.0427],\n",
      "        [0.0479],\n",
      "        [0.0314],\n",
      "        [0.0359],\n",
      "        [0.0254],\n",
      "        [0.0219],\n",
      "        [0.0308],\n",
      "        [0.0287],\n",
      "        [0.0490],\n",
      "        [0.0433],\n",
      "        [0.2343]], device='cuda:0')\n",
      "lower: tensor([0.4027, 0.4437, 0.4423, 0.1114, 0.4008, 0.1651, 0.2686, 0.1569, 0.2292,\n",
      "        0.4701, 0.3988, 0.8901], device='cuda:0')\n",
      "target: tensor([10.8500, 11.0300, 10.5100, 10.3800, 10.8500, 10.6000, 10.5800, 10.5100,\n",
      "        10.6000, 10.5100, 10.8000, 10.5100], device='cuda:0',\n",
      "       dtype=torch.float64)\n",
      "upper: tensor([0.4438, 0.4885, 0.4925, 0.1443, 0.4384, 0.1918, 0.2915, 0.1892, 0.2594,\n",
      "        0.5215, 0.4443, 1.1358], device='cuda:0')\n",
      "tensor(0, device='cuda:0') 300\n",
      "Confidence Interval: 0.0000\n",
      "variance: tensor([[0.2015],\n",
      "        [0.0240],\n",
      "        [0.0258],\n",
      "        [0.0920],\n",
      "        [0.2357],\n",
      "        [0.0339],\n",
      "        [0.0210],\n",
      "        [0.1571],\n",
      "        [0.0898],\n",
      "        [0.0329],\n",
      "        [0.0254],\n",
      "        [0.0225],\n",
      "        [0.0276],\n",
      "        [0.0304],\n",
      "        [0.0584],\n",
      "        [0.0254]], device='cuda:0')\n",
      "lower: tensor([0.6757, 0.1610, 0.2824, 0.5292, 0.8008, 0.0552, 0.2373, 0.6416, 0.5466,\n",
      "        0.0884, 0.3396, 0.2838, 0.3182, 0.1533, 0.4184, 0.1613],\n",
      "       device='cuda:0')\n",
      "target: tensor([10.6000, 10.4500, 10.7400, 11.0100, 10.5200, 10.3800, 10.9600, 10.9900,\n",
      "        10.9300, 10.3800, 10.9300, 11.0300, 10.6000, 10.5100, 10.5200, 10.6000],\n",
      "       device='cuda:0', dtype=torch.float64)\n",
      "upper: tensor([0.9475, 0.1933, 0.3172, 0.6534, 1.1188, 0.1009, 0.2656, 0.8535, 0.6678,\n",
      "        0.1329, 0.3739, 0.3141, 0.3554, 0.1943, 0.4972, 0.1956],\n",
      "       device='cuda:0')\n",
      "variance: tensor([[0.0210],\n",
      "        [0.0531],\n",
      "        [0.0599],\n",
      "        [0.1664],\n",
      "        [0.0566],\n",
      "        [0.0215],\n",
      "        [0.0324],\n",
      "        [0.0274],\n",
      "        [0.0211],\n",
      "        [0.0217],\n",
      "        [0.0214],\n",
      "        [0.0220],\n",
      "        [0.0217],\n",
      "        [0.0239],\n",
      "        [0.0219],\n",
      "        [0.0294]], device='cuda:0')\n",
      "lower: tensor([0.2622, 0.4771, 0.4960, 0.8007, 0.4980, 0.2623, 0.1104, 0.1804, 0.2009,\n",
      "        0.1998, 0.2038, 0.2135, 0.2250, 0.1599, 0.2659, 0.3202],\n",
      "       device='cuda:0')\n",
      "target: tensor([10.6400, 10.8400, 10.6300, 10.8700, 10.6300, 10.5800, 10.9600, 10.6400,\n",
      "        10.6300, 10.6300, 10.6300, 10.9300, 10.5100, 10.4500, 10.5800, 10.6000],\n",
      "       device='cuda:0', dtype=torch.float64)\n",
      "upper: tensor([0.2905, 0.5488, 0.5769, 1.0251, 0.5744, 0.2912, 0.1541, 0.2173, 0.2294,\n",
      "        0.2291, 0.2326, 0.2432, 0.2543, 0.1922, 0.2955, 0.3598],\n",
      "       device='cuda:0')\n",
      "variance: tensor([[0.0213],\n",
      "        [0.0219],\n",
      "        [0.1738],\n",
      "        [0.0229],\n",
      "        [0.0347],\n",
      "        [0.0218],\n",
      "        [0.0316],\n",
      "        [0.0823],\n",
      "        [0.0427],\n",
      "        [0.1986],\n",
      "        [0.1745],\n",
      "        [0.0226],\n",
      "        [0.0254],\n",
      "        [0.0433],\n",
      "        [0.0243],\n",
      "        [0.1000]], device='cuda:0')\n",
      "lower: tensor([0.2488, 0.2272, 0.7366, 0.2812, 0.0521, 0.2479, 0.1060, 0.5104, 0.4373,\n",
      "        0.7838, 0.6878, 0.2170, 0.3095, 0.3923, 0.1740, 0.5444],\n",
      "       device='cuda:0')\n",
      "target: tensor([10.5800, 10.5100, 10.8700, 11.0300, 10.3800, 10.5800, 10.3800, 10.8500,\n",
      "        11.0300, 10.8700, 10.9900, 10.8400, 10.4100, 10.8000, 10.6000, 10.9300],\n",
      "       device='cuda:0', dtype=torch.float64)\n",
      "upper: tensor([0.2775, 0.2567, 0.9710, 0.3120, 0.0989, 0.2773, 0.1486, 0.6215, 0.4949,\n",
      "        1.0517, 0.9232, 0.2475, 0.3438, 0.4508, 0.2068, 0.6793],\n",
      "       device='cuda:0')\n",
      "variance: tensor([[0.0333],\n",
      "        [0.1006],\n",
      "        [0.0206],\n",
      "        [0.0218],\n",
      "        [0.1032],\n",
      "        [0.0861],\n",
      "        [0.0254],\n",
      "        [0.0232],\n",
      "        [0.0215],\n",
      "        [0.0263],\n",
      "        [0.0211],\n",
      "        [0.0420],\n",
      "        [0.0215],\n",
      "        [0.0462],\n",
      "        [0.1053],\n",
      "        [0.0290]], device='cuda:0')\n",
      "lower: tensor([0.1118, 0.5491, 0.2414, 0.2919, 0.6353, 0.5297, 0.2805, 0.2762, 0.2477,\n",
      "        0.1830, 0.2116, 0.4333, 0.2396, 0.4066, 0.5315, 0.3213],\n",
      "       device='cuda:0')\n",
      "target: tensor([10.9600, 10.9300, 10.9300, 10.6400, 10.8000, 11.0100, 10.7400, 10.4500,\n",
      "        10.5800, 10.6400, 10.9300, 11.0300, 10.5100, 10.9200, 10.9300, 10.6000],\n",
      "       device='cuda:0', dtype=torch.float64)\n",
      "upper: tensor([0.1568, 0.6848, 0.2691, 0.3213, 0.7745, 0.6458, 0.3147, 0.3075, 0.2767,\n",
      "        0.2185, 0.2401, 0.4899, 0.2687, 0.4689, 0.6735, 0.3604],\n",
      "       device='cuda:0')\n",
      "variance: tensor([[0.0310],\n",
      "        [0.0313],\n",
      "        [0.0373],\n",
      "        [0.0213],\n",
      "        [0.0301],\n",
      "        [0.0490],\n",
      "        [0.0804],\n",
      "        [0.0377],\n",
      "        [0.0219],\n",
      "        [0.0381],\n",
      "        [0.0227],\n",
      "        [0.0308],\n",
      "        [0.0371],\n",
      "        [0.0315],\n",
      "        [0.0211],\n",
      "        [0.0365]], device='cuda:0')\n",
      "lower: tensor([0.1637, 0.1650, 0.3855, 0.2306, 0.3177, 0.4034, 0.5214, 0.4076, 0.2885,\n",
      "        0.3955, 0.1723, 0.1649, 0.4028, 0.1069, 0.2634, 0.3930],\n",
      "       device='cuda:0')\n",
      "target: tensor([10.9300, 10.9300, 10.5100, 10.6300, 10.5100, 10.9300, 10.8500, 10.8500,\n",
      "        10.6400, 10.5100, 10.9600, 10.9300, 10.8500, 10.3800, 10.6400, 10.8500],\n",
      "       device='cuda:0', dtype=torch.float64)\n",
      "upper: tensor([0.2056, 0.2072, 0.4358, 0.2592, 0.3583, 0.4694, 0.6299, 0.4585, 0.3181,\n",
      "        0.4469, 0.2029, 0.2064, 0.4529, 0.1495, 0.2918, 0.4421],\n",
      "       device='cuda:0')\n",
      "variance: tensor([[0.0536],\n",
      "        [0.0902],\n",
      "        [0.0871],\n",
      "        [0.0272],\n",
      "        [0.0378],\n",
      "        [0.1454],\n",
      "        [0.0281],\n",
      "        [0.0233],\n",
      "        [0.0217],\n",
      "        [0.0261],\n",
      "        [0.0299],\n",
      "        [0.0324],\n",
      "        [3.0827],\n",
      "        [0.0264],\n",
      "        [0.1385],\n",
      "        [0.0266]], device='cuda:0')\n",
      "lower: tensor([ 0.4790,  0.5251,  0.5411,  0.3540,  0.3635,  0.6316,  0.2223,  0.2154,\n",
      "         0.2377,  0.1617,  0.3444,  0.1109, -0.2083,  0.3107,  0.7424,  0.1822],\n",
      "       device='cuda:0')\n",
      "target: tensor([10.8400, 11.0100, 10.9300, 10.9300, 10.5100, 10.5200, 10.6000, 10.8400,\n",
      "        10.5100, 10.6000, 10.8700, 10.9600, 10.8700, 10.4100, 10.8700, 10.6400],\n",
      "       device='cuda:0', dtype=torch.float64)\n",
      "upper: tensor([0.5513, 0.6468, 0.6585, 0.3908, 0.4145, 0.8278, 0.2602, 0.2468, 0.2670,\n",
      "        0.1970, 0.3847, 0.1545, 3.9501, 0.3462, 0.9292, 0.2181],\n",
      "       device='cuda:0')\n",
      "variance: tensor([[0.0365],\n",
      "        [0.0314],\n",
      "        [0.0235],\n",
      "        [0.0227],\n",
      "        [0.0327],\n",
      "        [0.0242],\n",
      "        [0.0272],\n",
      "        [0.0287],\n",
      "        [0.0600],\n",
      "        [0.0478],\n",
      "        [0.0219],\n",
      "        [0.1038],\n",
      "        [0.0251],\n",
      "        [0.2665],\n",
      "        [0.0713],\n",
      "        [0.0417]], device='cuda:0')\n",
      "lower: tensor([0.4029, 0.3671, 0.2818, 0.1725, 0.3647, 0.1658, 0.3525, 0.2249, 0.4964,\n",
      "        0.4292, 0.2923, 0.5336, 0.1616, 0.8795, 0.4476, 0.3734],\n",
      "       device='cuda:0')\n",
      "target: tensor([10.4500, 11.0100, 10.4500, 10.9600, 11.0100, 10.4500, 10.9300, 10.6000,\n",
      "        10.6300, 10.9200, 10.6400, 10.9300, 10.6000, 10.5100, 10.5200, 10.5100],\n",
      "       device='cuda:0', dtype=torch.float64)\n",
      "upper: tensor([0.4521, 0.4094, 0.3136, 0.2031, 0.4087, 0.1984, 0.3892, 0.2637, 0.5773,\n",
      "        0.4936, 0.3218, 0.6737, 0.1954, 1.2389, 0.5438, 0.4297],\n",
      "       device='cuda:0')\n",
      "variance: tensor([[0.0478],\n",
      "        [0.0241],\n",
      "        [0.0258],\n",
      "        [0.0906],\n",
      "        [0.0367],\n",
      "        [0.0249],\n",
      "        [0.1052],\n",
      "        [0.0212],\n",
      "        [0.0578],\n",
      "        [0.0211],\n",
      "        [0.1946],\n",
      "        [0.0300],\n",
      "        [0.1441],\n",
      "        [0.0394],\n",
      "        [0.0309],\n",
      "        [0.0233]], device='cuda:0')\n",
      "lower: tensor([0.4327, 0.1746, 0.1641, 0.5504, 0.4056, 0.2974, 0.6389, 0.2543, 0.4960,\n",
      "        0.2321, 0.8122, 0.3387, 0.6365, 0.4102, 0.3277, 0.2855],\n",
      "       device='cuda:0')\n",
      "target: tensor([11.0300, 10.6000, 10.6000, 10.9300, 10.4500, 10.4100, 10.8000, 10.5800,\n",
      "        10.6300, 10.6300, 11.0100, 10.8700, 10.5200, 10.9200, 10.9900, 11.0300],\n",
      "       device='cuda:0', dtype=torch.float64)\n",
      "upper: tensor([0.4971, 0.2072, 0.1989, 0.6726, 0.4551, 0.3311, 0.7808, 0.2828, 0.5740,\n",
      "        0.2607, 1.0748, 0.3791, 0.8309, 0.4634, 0.3694, 0.3170],\n",
      "       device='cuda:0')\n",
      "variance: tensor([[0.0334],\n",
      "        [0.0220],\n",
      "        [0.0347],\n",
      "        [0.0275],\n",
      "        [0.0212],\n",
      "        [0.0236],\n",
      "        [0.0280],\n",
      "        [0.0479],\n",
      "        [0.0269],\n",
      "        [0.0305],\n",
      "        [0.0253],\n",
      "        [0.0265],\n",
      "        [0.0235],\n",
      "        [0.3833],\n",
      "        [0.0892],\n",
      "        [0.0498]], device='cuda:0')\n",
      "lower: tensor([0.3633, 0.2886, 0.0518, 0.1518, 0.2556, 0.2159, 0.2233, 0.4111, 0.3567,\n",
      "        0.1522, 0.3079, 0.3108, 0.1771, 0.9833, 0.5440, 0.4013],\n",
      "       device='cuda:0')\n",
      "target: tensor([11.0100, 10.6400, 10.3800, 10.6000, 10.5800, 10.8400, 10.6000, 10.9200,\n",
      "        10.9300, 10.5100, 10.4100, 10.5100, 10.6000, 10.7400, 10.9300, 10.9300],\n",
      "       device='cuda:0', dtype=torch.float64)\n",
      "upper: tensor([0.4083, 0.3183, 0.0985, 0.1889, 0.2842, 0.2477, 0.2611, 0.4757, 0.3930,\n",
      "        0.1933, 0.3420, 0.3466, 0.2088, 1.5003, 0.6644, 0.4686],\n",
      "       device='cuda:0')\n",
      "variance: tensor([[0.0232],\n",
      "        [0.0236],\n",
      "        [0.0481],\n",
      "        [0.0210],\n",
      "        [0.0540],\n",
      "        [0.0211],\n",
      "        [0.0466],\n",
      "        [0.0985],\n",
      "        [0.0949],\n",
      "        [0.0209],\n",
      "        [0.0490],\n",
      "        [0.0215],\n",
      "        [0.0479],\n",
      "        [0.1014],\n",
      "        [0.0304],\n",
      "        [0.2385]], device='cuda:0')\n",
      "lower: tensor([0.2890, 0.2800, 0.4099, 0.2639, 0.4065, 0.2375, 0.4313, 0.6333, 0.5374,\n",
      "        0.2109, 0.4628, 0.2605, 0.4351, 0.5402, 0.3266, 0.8403],\n",
      "       device='cuda:0')\n",
      "target: tensor([10.4100, 10.4500, 10.7400, 10.8400, 10.7400, 10.9600, 10.9200, 10.8000,\n",
      "        10.9300, 10.9300, 10.5100, 10.5100, 10.5100, 10.9300, 10.9900, 10.7400],\n",
      "       device='cuda:0', dtype=torch.float64)\n",
      "upper: tensor([0.3203, 0.3118, 0.4748, 0.2922, 0.4793, 0.2659, 0.4942, 0.7662, 0.6655,\n",
      "        0.2390, 0.5289, 0.2895, 0.4997, 0.6771, 0.3676, 1.1621],\n",
      "       device='cuda:0')\n",
      "variance: tensor([[0.0215],\n",
      "        [0.0216],\n",
      "        [0.0325],\n",
      "        [0.0294],\n",
      "        [0.0215],\n",
      "        [0.0971],\n",
      "        [0.0403],\n",
      "        [0.0208],\n",
      "        [0.0278],\n",
      "        [0.0209],\n",
      "        [0.0536],\n",
      "        [0.0214],\n",
      "        [0.0525],\n",
      "        [0.0254],\n",
      "        [0.0220],\n",
      "        [0.0210]], device='cuda:0')\n",
      "lower: tensor([0.2305, 0.2271, 0.0913, 0.3376, 0.2391, 0.6156, 0.3711, 0.2615, 0.1786,\n",
      "        0.2375, 0.4813, 0.2564, 0.4864, 0.3408, 0.2164, 0.2671],\n",
      "       device='cuda:0')\n",
      "target: tensor([10.6300, 10.5100, 10.3800, 10.8700, 10.5100, 10.8000, 10.5100, 10.6400,\n",
      "        10.6400, 10.9600, 10.8400, 10.5800, 10.8400, 10.9300, 10.9300, 10.8400],\n",
      "       device='cuda:0', dtype=torch.float64)\n",
      "upper: tensor([0.2594, 0.2562, 0.1351, 0.3773, 0.2681, 0.7466, 0.4255, 0.2896, 0.2161,\n",
      "        0.2657, 0.5537, 0.2852, 0.5572, 0.3750, 0.2461, 0.2954],\n",
      "       device='cuda:0')\n",
      "variance: tensor([[0.0336],\n",
      "        [0.0208],\n",
      "        [0.2085],\n",
      "        [0.0288],\n",
      "        [0.0435],\n",
      "        [0.1970],\n",
      "        [0.0476],\n",
      "        [0.0231],\n",
      "        [0.0476],\n",
      "        [0.0475],\n",
      "        [0.0682],\n",
      "        [0.0388],\n",
      "        [0.1678],\n",
      "        [0.5746],\n",
      "        [0.1900],\n",
      "        [0.0260]], device='cuda:0')\n",
      "lower: tensor([0.0564, 0.2372, 0.7533, 0.2242, 0.4381, 0.6546, 0.4105, 0.2885, 0.4049,\n",
      "        0.4293, 0.4426, 0.3709, 0.6587, 0.8842, 0.8035, 0.3387],\n",
      "       device='cuda:0')\n",
      "target: tensor([10.3800, 10.9300, 10.5100, 10.6000, 11.0300, 10.6000, 10.7400, 10.4100,\n",
      "        10.9200, 10.9200, 10.5200, 10.5100, 10.9900, 10.8700, 11.0100, 10.9300],\n",
      "       device='cuda:0', dtype=torch.float64)\n",
      "upper: tensor([0.1017, 0.2653, 1.0345, 0.2631, 0.4968, 0.9204, 0.4747, 0.3197, 0.4691,\n",
      "        0.4934, 0.5346, 0.4232, 0.8850, 1.6594, 1.0598, 0.3737],\n",
      "       device='cuda:0')\n",
      "variance: tensor([[0.0199],\n",
      "        [0.2516],\n",
      "        [0.0212],\n",
      "        [0.2989],\n",
      "        [0.0223],\n",
      "        [0.0214],\n",
      "        [0.0368],\n",
      "        [0.0392],\n",
      "        [0.0224],\n",
      "        [0.0246],\n",
      "        [0.1429],\n",
      "        [0.1924],\n",
      "        [0.0380],\n",
      "        [0.0272],\n",
      "        [0.0230],\n",
      "        [0.0268]], device='cuda:0')\n",
      "lower: tensor([0.2463, 0.8827, 0.2604, 0.9283, 0.2178, 0.2401, 0.3912, 0.3968, 0.2832,\n",
      "        0.2706, 0.6045, 0.7453, 0.4014, 0.1571, 0.2882, 0.2842],\n",
      "       device='cuda:0')\n",
      "target: tensor([10.9300, 10.8000, 10.5100, 10.5100, 10.8400, 10.5100, 10.5100, 10.8500,\n",
      "        11.0300, 10.4500, 10.5200, 10.8700, 10.8500, 10.6000, 10.4100, 10.7400],\n",
      "       device='cuda:0', dtype=torch.float64)\n",
      "upper: tensor([0.2731, 1.2221, 0.2890, 1.3315, 0.2479, 0.2690, 0.4408, 0.4497, 0.3134,\n",
      "        0.3037, 0.7973, 1.0049, 0.4526, 0.1938, 0.3193, 0.3204],\n",
      "       device='cuda:0')\n",
      "variance: tensor([[0.0308],\n",
      "        [0.0347],\n",
      "        [0.0360],\n",
      "        [0.0364],\n",
      "        [0.0437],\n",
      "        [0.0359],\n",
      "        [0.1989],\n",
      "        [0.0255],\n",
      "        [0.0314],\n",
      "        [0.0267],\n",
      "        [0.2066],\n",
      "        [0.0319],\n",
      "        [0.0326],\n",
      "        [0.0220],\n",
      "        [0.0806],\n",
      "        [0.0274]], device='cuda:0')\n",
      "lower: tensor([0.1523, 0.3663, 0.4060, 0.3890, 0.4449, 0.3954, 0.7702, 0.2999, 0.1504,\n",
      "        0.3163, 0.6796, 0.3398, 0.0908, 0.2624, 0.5187, 0.2751],\n",
      "       device='cuda:0')\n",
      "target: tensor([10.5100, 10.9900, 10.9200, 10.5100, 11.0300, 10.8500, 10.8700, 10.4100,\n",
      "        10.5100, 10.6000, 10.6000, 10.8700, 10.3800, 10.5800, 10.8500, 10.7400],\n",
      "       device='cuda:0', dtype=torch.float64)\n",
      "upper: tensor([0.1939, 0.4131, 0.4546, 0.4381, 0.5038, 0.4438, 1.0385, 0.3342, 0.1928,\n",
      "        0.3523, 0.9583, 0.3828, 0.1348, 0.2921, 0.6275, 0.3121],\n",
      "       device='cuda:0')\n",
      "variance: tensor([[0.0269],\n",
      "        [0.0510],\n",
      "        [0.0389],\n",
      "        [0.2550],\n",
      "        [0.0389],\n",
      "        [0.2001],\n",
      "        [0.1692],\n",
      "        [0.0298],\n",
      "        [0.0219],\n",
      "        [0.0447],\n",
      "        [0.2343],\n",
      "        [0.1884],\n",
      "        [0.0212],\n",
      "        [0.0242],\n",
      "        [0.0444],\n",
      "        [0.0260]], device='cuda:0')\n",
      "lower: tensor([0.3561, 0.4529, 0.4131, 0.8380, 0.4217, 0.8092, 0.8072, 0.3287, 0.2653,\n",
      "        0.4036, 0.8549, 0.6840, 0.2649, 0.1725, 0.4359, 0.3100],\n",
      "       device='cuda:0')\n",
      "target: tensor([10.9300, 10.5100, 10.8500, 10.5200, 10.9200, 10.8000, 11.0100, 10.9900,\n",
      "        10.5800, 10.9300, 10.5100, 10.6000, 10.8400, 10.6000, 10.5100, 10.4100],\n",
      "       device='cuda:0', dtype=torch.float64)\n",
      "upper: tensor([0.3924, 0.5217, 0.4657, 1.1821, 0.4742, 1.0791, 1.0355, 0.3688, 0.2948,\n",
      "        0.4639, 1.1710, 0.9381, 0.2935, 0.2052, 0.4958, 0.3451],\n",
      "       device='cuda:0')\n",
      "variance: tensor([[0.0334],\n",
      "        [0.0499],\n",
      "        [0.0381],\n",
      "        [0.0214],\n",
      "        [0.0207],\n",
      "        [0.0458],\n",
      "        [0.0212],\n",
      "        [0.0440],\n",
      "        [0.0242],\n",
      "        [0.1722],\n",
      "        [0.0229],\n",
      "        [0.0422],\n",
      "        [0.0249],\n",
      "        [0.1840],\n",
      "        [0.0412],\n",
      "        [0.0469]], device='cuda:0')\n",
      "lower: tensor([0.3668, 0.4147, 0.3958, 0.2618, 0.2571, 0.4070, 0.2271, 0.4364, 0.1711,\n",
      "        0.6639, 0.2902, 0.3905, 0.2975, 0.7597, 0.4006, 0.4234],\n",
      "       device='cuda:0')\n",
      "target: tensor([10.9900, 10.9200, 10.8500, 10.5100, 10.5100, 10.7400, 10.5100, 11.0300,\n",
      "        10.9600, 10.9900, 10.4100, 10.8000, 10.4100, 10.8000, 10.8000, 10.9200],\n",
      "       device='cuda:0', dtype=torch.float64)\n",
      "upper: tensor([0.4119, 0.4820, 0.4471, 0.2906, 0.2851, 0.4688, 0.2557, 0.4958, 0.2037,\n",
      "        0.8962, 0.3211, 0.4474, 0.3311, 1.0080, 0.4562, 0.4867],\n",
      "       device='cuda:0')\n",
      "variance: tensor([[0.2961],\n",
      "        [0.0429],\n",
      "        [0.0286],\n",
      "        [0.0383],\n",
      "        [0.0332],\n",
      "        [0.0408],\n",
      "        [0.0213],\n",
      "        [0.0312],\n",
      "        [0.0269],\n",
      "        [0.0314],\n",
      "        [0.0213],\n",
      "        [0.2332],\n",
      "        [0.0244],\n",
      "        [0.0274],\n",
      "        [0.0399],\n",
      "        [0.0796]], device='cuda:0')\n",
      "lower: tensor([0.8630, 0.4027, 0.3115, 0.4115, 0.1120, 0.3897, 0.2305, 0.1632, 0.1541,\n",
      "        0.1067, 0.2576, 0.8496, 0.1712, 0.1562, 0.4195, 0.5132],\n",
      "       device='cuda:0')\n",
      "target: tensor([10.5200, 10.9300, 10.5100, 10.4500, 10.9600, 10.8000, 10.6300, 10.9300,\n",
      "        10.6000, 10.3800, 10.5800, 10.7400, 10.9600, 10.6000, 10.9200, 10.8500],\n",
      "       device='cuda:0', dtype=torch.float64)\n",
      "upper: tensor([1.2624, 0.4606, 0.3500, 0.4631, 0.1568, 0.4447, 0.2592, 0.2053, 0.1903,\n",
      "        0.1490, 0.2863, 1.1641, 0.2040, 0.1932, 0.4734, 0.6205],\n",
      "       device='cuda:0')\n",
      "variance: tensor([[0.0210],\n",
      "        [0.1502],\n",
      "        [0.0262],\n",
      "        [0.0367],\n",
      "        [0.0313],\n",
      "        [0.0217],\n",
      "        [0.0269],\n",
      "        [0.3294],\n",
      "        [0.0923],\n",
      "        [0.0258],\n",
      "        [0.0984],\n",
      "        [0.1046],\n",
      "        [0.2528],\n",
      "        [0.0208],\n",
      "        [0.0204],\n",
      "        [0.0326]], device='cuda:0')\n",
      "lower: tensor([0.2369, 0.6191, 0.1582, 0.3943, 0.3274, 0.2006, 0.3139, 0.9406, 0.5306,\n",
      "        0.3389, 0.5362, 0.5499, 0.8107, 0.2638, 0.2646, 0.0891],\n",
      "       device='cuda:0')\n",
      "target: tensor([10.9600, 10.5200, 10.4500, 10.4500, 10.9900, 10.6300, 10.5100, 10.7400,\n",
      "        11.0100, 10.9300, 10.9300, 10.9300, 10.5200, 10.6400, 10.8400, 10.3800],\n",
      "       device='cuda:0', dtype=torch.float64)\n",
      "upper: tensor([0.2652, 0.8217, 0.1936, 0.4438, 0.3696, 0.2299, 0.3502, 1.3850, 0.6552,\n",
      "        0.3737, 0.6689, 0.6910, 1.1517, 0.2919, 0.2921, 0.1331],\n",
      "       device='cuda:0')\n",
      "variance: tensor([[0.0246],\n",
      "        [0.0352],\n",
      "        [0.0570],\n",
      "        [0.1592],\n",
      "        [0.0357],\n",
      "        [0.0477],\n",
      "        [0.0479],\n",
      "        [0.0216],\n",
      "        [0.0202],\n",
      "        [0.0317],\n",
      "        [0.0314],\n",
      "        [0.1958]], device='cuda:0')\n",
      "lower: tensor([0.2971, 0.3718, 0.4223, 0.7932, 0.3649, 0.4481, 0.4439, 0.2498, 0.2437,\n",
      "        0.3638, 0.1074, 0.7875], device='cuda:0')\n",
      "target: tensor([10.4100, 10.9900, 10.5200, 11.0100, 10.9900, 11.0300, 11.0300, 10.5800,\n",
      "        10.9300, 11.0100, 10.3800, 10.8000], device='cuda:0',\n",
      "       dtype=torch.float64)\n",
      "upper: tensor([0.3302, 0.4193, 0.4991, 1.0080, 0.4130, 0.5124, 0.5085, 0.2789, 0.2709,\n",
      "        0.4066, 0.1497, 1.0516], device='cuda:0')\n",
      "tensor(0, device='cuda:0') 300\n",
      "Confidence Interval: 0.0000\n",
      "variance: tensor([[0.0923],\n",
      "        [0.0220],\n",
      "        [0.2332],\n",
      "        [0.0208],\n",
      "        [0.0251],\n",
      "        [0.0204],\n",
      "        [0.0949],\n",
      "        [0.0444],\n",
      "        [0.2085],\n",
      "        [0.0225],\n",
      "        [0.0984],\n",
      "        [0.0229],\n",
      "        [0.2066],\n",
      "        [0.0804],\n",
      "        [0.0364],\n",
      "        [0.0272]], device='cuda:0')\n",
      "lower: tensor([0.5152, 0.2588, 0.8106, 0.2603, 0.1574, 0.2612, 0.5216, 0.4285, 0.7185,\n",
      "        0.2801, 0.5198, 0.2773, 0.6451, 0.5080, 0.3829, 0.3495],\n",
      "       device='cuda:0')\n",
      "target: tensor([11.0100, 10.5800, 10.7400, 10.6400, 10.6000, 10.8400, 10.9300, 10.5100,\n",
      "        10.5100, 11.0300, 10.9300, 11.0300, 10.6000, 10.8500, 10.5100, 10.9300],\n",
      "       device='cuda:0', dtype=torch.float64)\n",
      "upper: tensor([0.6706, 0.2957, 1.2031, 0.2954, 0.1996, 0.2955, 0.6813, 0.5033, 1.0693,\n",
      "        0.3179, 0.6854, 0.3158, 0.9928, 0.6433, 0.4441, 0.3953],\n",
      "       device='cuda:0')\n",
      "variance: tensor([[0.0206],\n",
      "        [0.0332],\n",
      "        [0.0269],\n",
      "        [0.0682],\n",
      "        [0.0210],\n",
      "        [0.0269],\n",
      "        [0.2528],\n",
      "        [0.0274],\n",
      "        [0.1502],\n",
      "        [0.0499],\n",
      "        [0.0210],\n",
      "        [0.0433],\n",
      "        [0.0314],\n",
      "        [0.0242],\n",
      "        [0.0327],\n",
      "        [0.2665]], device='cuda:0')\n",
      "lower: tensor([0.2379, 0.1065, 0.3516, 0.4312, 0.2636, 0.3522, 0.7684, 0.1758, 0.5940,\n",
      "        0.4063, 0.2604, 0.3851, 0.1021, 0.1617, 0.3592, 0.8349],\n",
      "       device='cuda:0')\n",
      "target: tensor([10.9300, 10.9600, 10.9300, 10.5200, 10.8400, 10.9300, 10.5200, 10.6400,\n",
      "        10.5200, 10.9200, 10.8400, 10.8000, 10.3800, 10.4500, 11.0100, 10.5100],\n",
      "       device='cuda:0', dtype=torch.float64)\n",
      "upper: tensor([0.2725, 0.1624, 0.3969, 0.5460, 0.2989, 0.3976, 1.1940, 0.2219, 0.8468,\n",
      "        0.4904, 0.2957, 0.4580, 0.1550, 0.2025, 0.4142, 1.2834],\n",
      "       device='cuda:0')\n",
      "variance: tensor([[0.0871],\n",
      "        [0.0274],\n",
      "        [0.0479],\n",
      "        [0.0570],\n",
      "        [0.0299],\n",
      "        [0.0215],\n",
      "        [0.0211],\n",
      "        [0.0262],\n",
      "        [0.3833],\n",
      "        [0.0212],\n",
      "        [0.0219],\n",
      "        [0.0242],\n",
      "        [0.2001],\n",
      "        [0.0347],\n",
      "        [0.0254],\n",
      "        [0.0371]], device='cuda:0')\n",
      "lower: tensor([0.5265, 0.1517, 0.4031, 0.4128, 0.3394, 0.2355, 0.1974, 0.1538, 0.9193,\n",
      "        0.2236, 0.2886, 0.1670, 0.7757, 0.0463, 0.2762, 0.3966],\n",
      "       device='cuda:0')\n",
      "target: tensor([10.9300, 10.6000, 10.9200, 10.5200, 10.8700, 10.5100, 10.6300, 10.4500,\n",
      "        10.7400, 10.5100, 10.6400, 10.9600, 10.8000, 10.3800, 10.7400, 10.8500],\n",
      "       device='cuda:0', dtype=torch.float64)\n",
      "upper: tensor([0.6731, 0.1977, 0.4837, 0.5087, 0.3897, 0.2717, 0.2329, 0.1980, 1.5644,\n",
      "        0.2593, 0.3255, 0.2078, 1.1125, 0.1047, 0.3190, 0.4591],\n",
      "       device='cuda:0')\n",
      "variance: tensor([[0.0232],\n",
      "        [0.0249],\n",
      "        [0.0258],\n",
      "        [0.0427],\n",
      "        [0.0199],\n",
      "        [0.0367],\n",
      "        [0.0212],\n",
      "        [0.0214],\n",
      "        [3.0827],\n",
      "        [0.2989],\n",
      "        [0.0232],\n",
      "        [0.0357],\n",
      "        [0.0274],\n",
      "        [0.0360],\n",
      "        [0.0220],\n",
      "        [0.0490]], device='cuda:0')\n",
      "lower: tensor([ 0.2724,  0.2934,  0.1598,  0.4302,  0.2430,  0.3994,  0.2569,  0.2582,\n",
      "        -0.7235,  0.8783,  0.2851,  0.3590,  0.2706,  0.4000,  0.2099,  0.3952],\n",
      "       device='cuda:0')\n",
      "target: tensor([10.4500, 10.4100, 10.6000, 11.0300, 10.9300, 10.4500, 10.5100, 10.5100,\n",
      "        10.8700, 10.5100, 10.4100, 10.9900, 10.7400, 10.9200, 10.9300, 10.9300],\n",
      "       device='cuda:0', dtype=torch.float64)\n",
      "upper: tensor([0.3114, 0.3353, 0.2032, 0.5020, 0.2765, 0.4612, 0.2926, 0.2942, 4.4653,\n",
      "        1.3814, 0.3242, 0.4190, 0.3166, 0.4606, 0.2469, 0.4776],\n",
      "       device='cuda:0')\n",
      "variance: tensor([[0.0244],\n",
      "        [0.0314],\n",
      "        [0.0215],\n",
      "        [0.0310],\n",
      "        [0.0440],\n",
      "        [0.0408],\n",
      "        [0.0347],\n",
      "        [0.0466],\n",
      "        [0.0241],\n",
      "        [0.0215],\n",
      "        [0.0380],\n",
      "        [0.0213],\n",
      "        [0.0536],\n",
      "        [0.0536],\n",
      "        [0.0367],\n",
      "        [0.2385]], device='cuda:0')\n",
      "lower: tensor([0.1671, 0.3619, 0.2587, 0.1585, 0.4290, 0.3829, 0.3604, 0.4235, 0.1706,\n",
      "        0.2569, 0.3950, 0.2540, 0.4701, 0.4723, 0.3882, 0.8005],\n",
      "       device='cuda:0')\n",
      "target: tensor([10.9600, 11.0100, 10.5800, 10.9300, 11.0300, 10.8000, 10.9900, 10.9200,\n",
      "        10.6000, 10.5100, 10.8500, 10.5800, 10.8400, 10.8400, 10.4500, 10.7400],\n",
      "       device='cuda:0', dtype=torch.float64)\n",
      "upper: tensor([0.2081, 0.4147, 0.2948, 0.2107, 0.5031, 0.4515, 0.4189, 0.5020, 0.2112,\n",
      "        0.2931, 0.4589, 0.2899, 0.5602, 0.5626, 0.4499, 1.2020],\n",
      "       device='cuda:0')\n",
      "variance: tensor([[0.1986],\n",
      "        [0.0319],\n",
      "        [0.0475],\n",
      "        [0.0226],\n",
      "        [0.0308],\n",
      "        [0.0352],\n",
      "        [0.0389],\n",
      "        [0.0231],\n",
      "        [0.0287],\n",
      "        [0.0339],\n",
      "        [0.0447],\n",
      "        [0.1053],\n",
      "        [0.0290],\n",
      "        [0.0314],\n",
      "        [0.0458],\n",
      "        [0.0324]], device='cuda:0')\n",
      "lower: tensor([0.7506, 0.3344, 0.4213, 0.2132, 0.1472, 0.3659, 0.4152, 0.2846, 0.2201,\n",
      "        0.0495, 0.3961, 0.5139, 0.3164, 0.1452, 0.3993, 0.1054],\n",
      "       device='cuda:0')\n",
      "target: tensor([10.8700, 10.8700, 10.9200, 10.8400, 10.5100, 10.9900, 10.9200, 10.4100,\n",
      "        10.6000, 10.3800, 10.9300, 10.9300, 10.6000, 10.5100, 10.7400, 10.9600],\n",
      "       device='cuda:0', dtype=torch.float64)\n",
      "upper: tensor([1.0849, 0.3881, 0.5013, 0.2513, 0.1990, 0.4251, 0.4807, 0.3235, 0.2685,\n",
      "        0.1066, 0.4714, 0.6911, 0.3652, 0.1981, 0.4765, 0.1599],\n",
      "       device='cuda:0')\n",
      "variance: tensor([[0.0218],\n",
      "        [0.0713],\n",
      "        [0.0242],\n",
      "        [0.0218],\n",
      "        [0.0211],\n",
      "        [0.1678],\n",
      "        [0.0272],\n",
      "        [0.0531],\n",
      "        [0.0260],\n",
      "        [0.0281],\n",
      "        [0.0377],\n",
      "        [0.0368],\n",
      "        [0.0315],\n",
      "        [0.0208],\n",
      "        [0.1900],\n",
      "        [0.0383]], device='cuda:0')\n",
      "lower: tensor([0.2443, 0.4356, 0.1685, 0.2883, 0.2340, 0.6307, 0.1526, 0.4683, 0.3343,\n",
      "        0.2176, 0.4013, 0.3850, 0.1017, 0.2580, 0.7718, 0.4051],\n",
      "       device='cuda:0')\n",
      "target: tensor([10.5800, 10.5200, 10.6000, 10.6400, 10.9600, 10.9900, 10.6000, 10.8400,\n",
      "        10.9300, 10.6000, 10.8500, 10.5100, 10.3800, 10.6400, 11.0100, 10.4500],\n",
      "       device='cuda:0', dtype=torch.float64)\n",
      "upper: tensor([0.2810, 0.5557, 0.2093, 0.3249, 0.2695, 0.9131, 0.1983, 0.5577, 0.3780,\n",
      "        0.2649, 0.4648, 0.4469, 0.1547, 0.2931, 1.0916, 0.4695],\n",
      "       device='cuda:0')\n",
      "variance: tensor([[0.0600],\n",
      "        [0.0278],\n",
      "        [0.0211],\n",
      "        [0.1571],\n",
      "        [0.0267],\n",
      "        [0.0902],\n",
      "        [0.0219],\n",
      "        [0.2961],\n",
      "        [0.0906],\n",
      "        [0.0336],\n",
      "        [0.0403],\n",
      "        [0.1745],\n",
      "        [0.0215],\n",
      "        [0.0399],\n",
      "        [0.0217],\n",
      "        [0.0388]], device='cuda:0')\n",
      "lower: tensor([0.4863, 0.1739, 0.2081, 0.6153, 0.3118, 0.5100, 0.2235, 0.8135, 0.5353,\n",
      "        0.0508, 0.3643, 0.6586, 0.2360, 0.4128, 0.1969, 0.3645],\n",
      "       device='cuda:0')\n",
      "target: tensor([10.6300, 10.6400, 10.9300, 10.9900, 10.6000, 11.0100, 10.5100, 10.5200,\n",
      "        10.9300, 10.3800, 10.5100, 10.9900, 10.5100, 10.9200, 10.6300, 10.5100],\n",
      "       device='cuda:0', dtype=torch.float64)\n",
      "upper: tensor([0.5873, 0.2207, 0.2436, 0.8797, 0.3567, 0.6618, 0.2603, 1.3119, 0.6878,\n",
      "        0.1073, 0.4322, 0.9523, 0.2723, 0.4800, 0.2335, 0.4297],\n",
      "       device='cuda:0')\n",
      "variance: tensor([[0.0540],\n",
      "        [0.0324],\n",
      "        [0.0490],\n",
      "        [0.0892],\n",
      "        [0.0236],\n",
      "        [0.0266],\n",
      "        [0.0326],\n",
      "        [0.0477],\n",
      "        [0.0478],\n",
      "        [0.1840],\n",
      "        [0.0566],\n",
      "        [0.0209],\n",
      "        [0.0276],\n",
      "        [0.0469],\n",
      "        [0.3294],\n",
      "        [0.0381]], device='cuda:0')\n",
      "lower: tensor([0.3975, 0.1050, 0.4546, 0.5291, 0.2760, 0.1778, 0.0836, 0.4401, 0.4247,\n",
      "        0.7290, 0.4885, 0.2340, 0.3136, 0.4156, 0.8856, 0.3894],\n",
      "       device='cuda:0')\n",
      "target: tensor([10.7400, 10.9600, 10.5100, 10.9300, 10.4500, 10.6400, 10.3800, 11.0300,\n",
      "        11.0300, 10.8000, 10.6300, 10.9600, 10.6000, 10.9200, 10.7400, 10.8500],\n",
      "       device='cuda:0', dtype=torch.float64)\n",
      "upper: tensor([0.4883, 0.1595, 0.5370, 0.6793, 0.3158, 0.2225, 0.1385, 0.5204, 0.5051,\n",
      "        1.0388, 0.5838, 0.2692, 0.3600, 0.4945, 1.4400, 0.4535],\n",
      "       device='cuda:0')\n",
      "variance: tensor([[0.1429],\n",
      "        [0.0235],\n",
      "        [0.0294],\n",
      "        [0.0215],\n",
      "        [0.1946],\n",
      "        [0.0275],\n",
      "        [0.0216],\n",
      "        [0.0214],\n",
      "        [0.0254],\n",
      "        [0.1692],\n",
      "        [0.0265],\n",
      "        [0.0269],\n",
      "        [0.0920],\n",
      "        [0.0314],\n",
      "        [0.0269],\n",
      "        [0.1052]], device='cuda:0')\n",
      "lower: tensor([0.5806, 0.1732, 0.3327, 0.2441, 0.7797, 0.1472, 0.2462, 0.2528, 0.3366,\n",
      "        0.7789, 0.3064, 0.1496, 0.5138, 0.1014, 0.3094, 0.6213],\n",
      "       device='cuda:0')\n",
      "target: tensor([10.5200, 10.6000, 10.8700, 10.5800, 11.0100, 10.6000, 10.5800, 10.5800,\n",
      "        10.9300, 11.0100, 10.5100, 10.6000, 11.0100, 10.3800, 10.5100, 10.8000],\n",
      "       device='cuda:0', dtype=torch.float64)\n",
      "upper: tensor([0.8211, 0.2127, 0.3822, 0.2803, 1.1073, 0.1935, 0.2825, 0.2888, 0.3793,\n",
      "        1.0638, 0.3511, 0.1948, 0.6687, 0.1542, 0.3547, 0.7984],\n",
      "       device='cuda:0')\n",
      "variance: tensor([[0.0412],\n",
      "        [0.0219],\n",
      "        [0.0214],\n",
      "        [0.0394],\n",
      "        [0.0211],\n",
      "        [0.0985],\n",
      "        [0.0305],\n",
      "        [0.0478],\n",
      "        [0.0246],\n",
      "        [0.2015],\n",
      "        [0.0329],\n",
      "        [0.0230],\n",
      "        [0.0301],\n",
      "        [0.0437],\n",
      "        [0.0227],\n",
      "        [0.0479]], device='cuda:0')\n",
      "lower: tensor([0.3938, 0.2622, 0.2002, 0.4036, 0.2286, 0.6169, 0.1471, 0.4212, 0.2930,\n",
      "        0.6420, 0.0829, 0.2844, 0.3127, 0.4376, 0.1685, 0.4359],\n",
      "       device='cuda:0')\n",
      "target: tensor([10.8000, 10.5800, 10.6300, 10.9200, 10.6300, 10.8000, 10.5100, 10.9200,\n",
      "        10.4100, 10.6000, 10.3800, 10.4100, 10.5100, 11.0300, 10.9600, 11.0300],\n",
      "       device='cuda:0', dtype=torch.float64)\n",
      "upper: tensor([0.4631, 0.2991, 0.2362, 0.4700, 0.2642, 0.7826, 0.1984, 0.5016, 0.3343,\n",
      "        0.9812, 0.1384, 0.3231, 0.3633, 0.5111, 0.2067, 0.5165],\n",
      "       device='cuda:0')\n",
      "variance: tensor([[0.0215],\n",
      "        [0.0316],\n",
      "        [0.0333],\n",
      "        [0.0308],\n",
      "        [0.0280],\n",
      "        [0.0258],\n",
      "        [0.0286],\n",
      "        [0.0220],\n",
      "        [0.0334],\n",
      "        [0.0254],\n",
      "        [0.0313],\n",
      "        [0.0347],\n",
      "        [0.0325],\n",
      "        [0.0378],\n",
      "        [0.0255],\n",
      "        [0.0217]], device='cuda:0')\n",
      "lower: tensor([0.2269, 0.1007, 0.1062, 0.1597, 0.2186, 0.3346, 0.3067, 0.2850, 0.3577,\n",
      "        0.3053, 0.1598, 0.0460, 0.0859, 0.3572, 0.2956, 0.1962],\n",
      "       device='cuda:0')\n",
      "target: tensor([10.6300, 10.3800, 10.9600, 10.9300, 10.6000, 10.9300, 10.5100, 10.6400,\n",
      "        11.0100, 10.4100, 10.9300, 10.3800, 10.3800, 10.5100, 10.4100, 10.6300],\n",
      "       device='cuda:0', dtype=torch.float64)\n",
      "upper: tensor([0.2630, 0.1539, 0.1624, 0.2115, 0.2658, 0.3780, 0.3548, 0.3220, 0.4139,\n",
      "        0.3481, 0.2124, 0.1043, 0.1405, 0.4208, 0.3384, 0.2327],\n",
      "       device='cuda:0')\n",
      "variance: tensor([[0.0381],\n",
      "        [0.0210],\n",
      "        [0.0202],\n",
      "        [0.0212],\n",
      "        [0.0235],\n",
      "        [0.0326],\n",
      "        [0.0243],\n",
      "        [0.0365],\n",
      "        [0.0229],\n",
      "        [0.0476],\n",
      "        [0.0209],\n",
      "        [0.1454],\n",
      "        [0.0373],\n",
      "        [0.0317],\n",
      "        [0.0823],\n",
      "        [0.0211]], device='cuda:0')\n",
      "lower: tensor([0.3892, 0.2334, 0.2403, 0.2507, 0.2779, 0.0853, 0.1700, 0.3869, 0.2864,\n",
      "        0.3969, 0.2074, 0.6073, 0.3793, 0.3585, 0.4966, 0.2599],\n",
      "       device='cuda:0')\n",
      "target: tensor([10.5100, 10.9600, 10.9300, 10.5800, 10.4500, 10.3800, 10.6000, 10.8500,\n",
      "        10.4100, 10.9200, 10.9300, 10.5200, 10.5100, 11.0100, 10.8500, 10.6400],\n",
      "       device='cuda:0', dtype=torch.float64)\n",
      "upper: tensor([0.4533, 0.2687, 0.2743, 0.2864, 0.3175, 0.1402, 0.2109, 0.4482, 0.3249,\n",
      "        0.4771, 0.2425, 0.8521, 0.4421, 0.4119, 0.6352, 0.2953],\n",
      "       device='cuda:0')\n",
      "variance: tensor([[0.0213],\n",
      "        [0.0359],\n",
      "        [0.0389],\n",
      "        [0.0304],\n",
      "        [0.0227],\n",
      "        [0.1006],\n",
      "        [0.0481],\n",
      "        [0.1385],\n",
      "        [0.0288],\n",
      "        [0.1032],\n",
      "        [0.0429],\n",
      "        [0.0971],\n",
      "        [0.0392],\n",
      "        [0.0239],\n",
      "        [0.1722],\n",
      "        [0.1924]], device='cuda:0')\n",
      "lower: tensor([0.2453, 0.3894, 0.4066, 0.1482, 0.1687, 0.5323, 0.4019, 0.7193, 0.2194,\n",
      "        0.6180, 0.3955, 0.5993, 0.3902, 0.1559, 0.6352, 0.7132],\n",
      "       device='cuda:0')\n",
      "target: tensor([10.5800, 10.8500, 10.8500, 10.5100, 10.9600, 10.9300, 10.7400, 10.8700,\n",
      "        10.6000, 10.8000, 10.9300, 10.8000, 10.8500, 10.4500, 10.9900, 10.8700],\n",
      "       device='cuda:0', dtype=torch.float64)\n",
      "upper: tensor([0.2811, 0.4498, 0.4722, 0.1994, 0.2070, 0.7016, 0.4829, 0.9523, 0.2679,\n",
      "        0.7918, 0.4678, 0.7628, 0.4562, 0.1962, 0.9250, 1.0371],\n",
      "       device='cuda:0')\n",
      "variance: tensor([[0.1738],\n",
      "        [0.1000],\n",
      "        [0.0223],\n",
      "        [0.0578],\n",
      "        [0.0219],\n",
      "        [0.0417],\n",
      "        [0.1989],\n",
      "        [0.2343],\n",
      "        [0.0479],\n",
      "        [0.0294],\n",
      "        [0.0420],\n",
      "        [0.0462],\n",
      "        [0.0233],\n",
      "        [0.0220],\n",
      "        [0.1664],\n",
      "        [0.0309]], device='cuda:0')\n",
      "lower: tensor([0.7076, 0.5277, 0.2141, 0.4863, 0.2849, 0.3664, 0.7369, 0.8158, 0.4271,\n",
      "        0.3153, 0.4263, 0.3989, 0.2816, 0.2128, 0.7729, 0.3226],\n",
      "       device='cuda:0')\n",
      "target: tensor([10.8700, 10.9300, 10.8400, 10.6300, 10.6400, 10.5100, 10.8700, 10.5100,\n",
      "        10.5100, 10.6000, 11.0300, 10.9200, 11.0300, 10.9300, 10.8700, 10.9900],\n",
      "       device='cuda:0', dtype=torch.float64)\n",
      "upper: tensor([1.0001, 0.6960, 0.2516, 0.5836, 0.3218, 0.4366, 1.0718, 1.2101, 0.5077,\n",
      "        0.3647, 0.4969, 0.4766, 0.3209, 0.2498, 1.0529, 0.3746],\n",
      "       device='cuda:0')\n",
      "variance: tensor([[0.0298],\n",
      "        [0.1046],\n",
      "        [0.0208],\n",
      "        [0.0510],\n",
      "        [0.1441],\n",
      "        [0.0254],\n",
      "        [0.0249],\n",
      "        [0.0236],\n",
      "        [0.0796],\n",
      "        [0.0214],\n",
      "        [0.0233],\n",
      "        [0.0584],\n",
      "        [0.0365],\n",
      "        [0.0525],\n",
      "        [0.0210],\n",
      "        [0.2357]], device='cuda:0')\n",
      "lower: tensor([0.3237, 0.5324, 0.2338, 0.4443, 0.6124, 0.3353, 0.2933, 0.2119, 0.4999,\n",
      "        0.2366, 0.2115, 0.4086, 0.3968, 0.4776, 0.2338, 0.7615],\n",
      "       device='cuda:0')\n",
      "target: tensor([10.9900, 10.9300, 10.9300, 10.5100, 10.5200, 10.9300, 10.4100, 10.8400,\n",
      "        10.8500, 10.5100, 10.8400, 10.5200, 10.4500, 10.8400, 10.9600, 10.5200],\n",
      "       device='cuda:0', dtype=torch.float64)\n",
      "upper: tensor([0.3738, 0.7085, 0.2687, 0.5302, 0.8550, 0.3781, 0.3352, 0.2516, 0.6338,\n",
      "        0.2725, 0.2507, 0.5069, 0.4582, 0.5660, 0.2691, 1.1581],\n",
      "       device='cuda:0')\n",
      "variance: tensor([[0.0254],\n",
      "        [0.0213],\n",
      "        [0.0476],\n",
      "        [0.0212],\n",
      "        [0.0253],\n",
      "        [0.1958],\n",
      "        [0.0217],\n",
      "        [0.0300],\n",
      "        [0.0861],\n",
      "        [0.0334],\n",
      "        [0.0599],\n",
      "        [0.0268],\n",
      "        [0.0219],\n",
      "        [0.0498],\n",
      "        [0.0806],\n",
      "        [0.0272]], device='cuda:0')\n",
      "lower: tensor([0.1570, 0.2270, 0.4025, 0.2520, 0.3037, 0.7547, 0.2214, 0.3337, 0.5153,\n",
      "        0.3613, 0.4860, 0.2798, 0.2617, 0.3930, 0.5052, 0.3479],\n",
      "       device='cuda:0')\n",
      "target: tensor([10.6000, 10.6300, 10.7400, 10.5800, 10.4100, 10.8000, 10.5100, 10.8700,\n",
      "        11.0100, 10.9900, 10.6300, 10.7400, 10.5800, 10.9300, 10.8500, 10.9300],\n",
      "       device='cuda:0', dtype=torch.float64)\n",
      "upper: tensor([0.1998, 0.2628, 0.4827, 0.2877, 0.3462, 1.0843, 0.2580, 0.3841, 0.6602,\n",
      "        0.4175, 0.5869, 0.3248, 0.2984, 0.4769, 0.6410, 0.3937],\n",
      "       device='cuda:0')\n",
      "variance: tensor([[0.0213],\n",
      "        [0.0422],\n",
      "        [0.0258],\n",
      "        [0.1970],\n",
      "        [0.0207],\n",
      "        [0.0304],\n",
      "        [0.0224],\n",
      "        [0.5746],\n",
      "        [0.0260],\n",
      "        [0.1592],\n",
      "        [0.0263],\n",
      "        [0.0246],\n",
      "        [0.1038],\n",
      "        [0.2550],\n",
      "        [0.0264],\n",
      "        [0.2516]], device='cuda:0')\n",
      "lower: tensor([0.2270, 0.3835, 0.2780, 0.6216, 0.2537, 0.3215, 0.2794, 0.7882, 0.3057,\n",
      "        0.7666, 0.1786, 0.2665, 0.5163, 0.7954, 0.3063, 0.8406],\n",
      "       device='cuda:0')\n",
      "target: tensor([10.6300, 10.8000, 10.7400, 10.6000, 10.5100, 10.9900, 11.0300, 10.8700,\n",
      "        10.4100, 11.0100, 10.6400, 10.4500, 10.9300, 10.5200, 10.4100, 10.8000],\n",
      "       device='cuda:0', dtype=torch.float64)\n",
      "upper: tensor([0.2628, 0.4545, 0.3215, 0.9533, 0.2885, 0.3727, 0.3171, 1.7554, 0.3494,\n",
      "        1.0346, 0.2229, 0.3078, 0.6911, 1.2247, 0.3506, 1.2642],\n",
      "       device='cuda:0')\n",
      "variance: tensor([[0.0216],\n",
      "        [0.1014],\n",
      "        [0.0261],\n",
      "        [0.0212],\n",
      "        [0.0898],\n",
      "        [0.0435],\n",
      "        [0.0312],\n",
      "        [0.0217],\n",
      "        [0.0240],\n",
      "        [0.0313],\n",
      "        [0.0210],\n",
      "        [0.1884]], device='cuda:0')\n",
      "lower: tensor([0.2235, 0.5233, 0.1573, 0.2614, 0.5316, 0.4308, 0.1580, 0.2341, 0.1570,\n",
      "        0.3222, 0.2587, 0.6525], device='cuda:0')\n",
      "target: tensor([10.5100, 10.9300, 10.6000, 10.8400, 10.9300, 11.0300, 10.9300, 10.5100,\n",
      "        10.4500, 10.9900, 10.6400, 10.6000], device='cuda:0',\n",
      "       dtype=torch.float64)\n",
      "upper: tensor([0.2598, 0.6940, 0.2013, 0.2971, 0.6828, 0.5041, 0.2105, 0.2706, 0.1973,\n",
      "        0.3749, 0.2940, 0.9696], device='cuda:0')\n",
      "tensor(0, device='cuda:0') 300\n",
      "Confidence Interval: 0.0000\n"
     ]
    }
   ],
   "source": [
    "\n",
    "sns.set(style=\"ticks\", palette=\"colorblind\", font_scale=1.2)\n",
    "\n",
    "\n",
    "confidence2 = [0.2, 0.3,0.4,0.5,0.6, 0.7, 0.8, 0.9, 0.95]\n",
    "accuracy2 = [0,0,0,0, 0, 0, 0, 0,0]\n",
    "for i in range(0,5):\n",
    "    accuracy2[i] = inference_VI(confidence2[i])"
   ]
  },
  {
   "cell_type": "code",
   "execution_count": 19,
   "id": "30184090",
   "metadata": {},
   "outputs": [
    {
     "name": "stdout",
     "output_type": "stream",
     "text": [
      "tensor(0, device='cuda:0') 300\n",
      "Confidence Interval: 0.0000\n",
      "tensor(0, device='cuda:0') 300\n",
      "Confidence Interval: 0.0000\n",
      "tensor(0, device='cuda:0') 300\n",
      "Confidence Interval: 0.0000\n",
      "tensor(0, device='cuda:0') 300\n",
      "Confidence Interval: 0.0000\n",
      "tensor(0, device='cuda:0') 300\n",
      "Confidence Interval: 0.0000\n"
     ]
    }
   ],
   "source": [
    "\n",
    "sns.set(style=\"ticks\", palette=\"colorblind\", font_scale=1.2)\n",
    "\n",
    "confidence1 = [0.2, 0.3,0.4,0.5,0.6, 0.7, 0.8, 0.9, 0.95]\n",
    "accuracy1 = [0,0,0,0, 0, 0, 0, 0,0]\n",
    "for i in range(0,5):\n",
    "    accuracy1[i] = inference_VI(confidence1[i])"
   ]
  },
  {
   "cell_type": "code",
   "execution_count": 16,
   "id": "438937bc",
   "metadata": {},
   "outputs": [
    {
     "data": {
      "image/png": "[encoded data removed]",
      "text/plain": [
       "<Figure size 576x432 with 1 Axes>"
      ]
     },
     "metadata": {},
     "output_type": "display_data"
    }
   ],
   "source": [
    "\n",
    "plt.figure(figsize=(8, 6)) \n",
    "plt.plot(confidence1, accuracy1, 'o-', color='b', linewidth=2, markersize=8, label='Raw dataset')  # 设置折线图的样式\n",
    "plt.plot(confidence2, accuracy2, 'o-', color='r', linewidth=2, markersize=8, label='Expanded dataset')  # 设置折线图的样式\n",
    "plt.xlabel('Confidence', fontsize=14) \n",
    "plt.ylabel('Accuracy', fontsize=14)    \n",
    "plt.title('Confidence vs. Accuracy', fontsize=16)  \n",
    "plt.grid(True, linestyle='--', alpha=0.5) \n",
    "plt.ylim([0, 1])      \n",
    "plt.xlim([0.55, 1])     \n",
    "plt.legend()          \n",
    "sns.despine()  \n",
    "plt.savefig('confidence_vs_accuracy.png', dpi=300)\n",
    "plt.show()       "
   ]
  }
 ],
 "metadata": {
  "kernelspec": {
   "display_name": "Python 3 (ipykernel)",
   "language": "python",
   "name": "python3"
  },
  "language_info": {
   "codemirror_mode": {
    "name": "ipython",
    "version": 3
   },
   "file_extension": ".py",
   "mimetype": "text/x-python",
   "name": "python",
   "nbconvert_exporter": "python",
   "pygments_lexer": "ipython3",
   "version": "3.10.6"
  }
 },
 "nbformat": 4,
 "nbformat_minor": 5
}
